{
 "cells": [
  {
   "cell_type": "markdown",
   "id": "3cf25069",
   "metadata": {},
   "source": [
    "## Разработка приложения для прогнозирования соотношения \"матрица-наполнитель\""
   ]
  },
  {
   "cell_type": "markdown",
   "id": "a1410d85",
   "metadata": {},
   "source": [
    "Создадим два варианта приложения:\n",
    "* 1. веб-приложение\n",
    "* 2. консольное"
   ]
  },
  {
   "cell_type": "code",
   "execution_count": 2,
   "id": "f7198723",
   "metadata": {},
   "outputs": [],
   "source": [
    "# Импортируем необходимые библиотеки\n",
    "import numpy as np\n",
    "import tensorflow as tf\n",
    "from tensorflow import keras\n",
    "\n",
    "import flask\n",
    "from flask import Flask, request, render_template\n",
    "\n",
    "from tensorflow.keras.models import load_model\n",
    "from joblib import load"
   ]
  },
  {
   "cell_type": "markdown",
   "id": "e1528fbf",
   "metadata": {},
   "source": [
    "#### Веб-приложение Flask"
   ]
  },
  {
   "cell_type": "code",
   "execution_count": 3,
   "id": "4513faa1",
   "metadata": {},
   "outputs": [],
   "source": [
    "# Инициализируем приложение Flask\n",
    "app = Flask(__name__)"
   ]
  },
  {
   "cell_type": "code",
   "execution_count": 4,
   "id": "5118be98",
   "metadata": {},
   "outputs": [],
   "source": [
    "# Загружаем модель и масштабаторы\n",
    "nn_model = keras.models.load_model('C:/Users/Asus/Documents/УЧЕБА_Data Science/0. ВКР/Application//model_matrix/')\n",
    "scaler_x = load('/contence/app/minmax_scl_x.pkl')\n",
    "scaler_y = load('/contence/app/minmax_scl_y.pkl')"
   ]
  },
  {
   "cell_type": "code",
   "execution_count": 5,
   "id": "4f5405ce",
   "metadata": {},
   "outputs": [],
   "source": [
    "# Определяем маршрут приложения для страницы веб-приложения по умолчанию\n",
    "@app.route('/')\n",
    "def home():\n",
    "    return render_template('main.html')"
   ]
  },
  {
   "cell_type": "code",
   "execution_count": 6,
   "id": "cc7a7652",
   "metadata": {},
   "outputs": [],
   "source": [
    "# Создаем новый маршрут приложения, который считывает ввод из формы «main.html» \n",
    "# и при нажатии кнопки \"Рассчитать\" выводит результат\n",
    "@app.route('/predict', methods = ['POST'])\n",
    "def predict():\n",
    "    int_features = [float(x) for x in request.form.values()]\n",
    "    X = scaler_x.transform(np.array(int_features).reshape(1,-1))\n",
    "    prediction = nn_model.predict(X)\n",
    "    output = scaler_y.inverse_transform(prediction) \n",
    "    return render_template('main.html', \n",
    "                           prediction_text = 'Прогнозное значение соотношения \"матрица - наполнитель\": {}'.format(output[0][0]))"
   ]
  },
  {
   "cell_type": "code",
   "execution_count": 7,
   "id": "44dafc9f",
   "metadata": {},
   "outputs": [
    {
     "name": "stdout",
     "output_type": "stream",
     "text": [
      " * Serving Flask app \"__main__\" (lazy loading)\n",
      " * Environment: production\n",
      "\u001b[31m   WARNING: This is a development server. Do not use it in a production deployment.\u001b[0m\n",
      "\u001b[2m   Use a production WSGI server instead.\u001b[0m\n",
      " * Debug mode: on\n"
     ]
    },
    {
     "name": "stderr",
     "output_type": "stream",
     "text": [
      " * Running on http://127.0.0.1:5000/ (Press CTRL+C to quit)\n",
      "127.0.0.1 - - [25/Apr/2023 18:04:22] \"GET / HTTP/1.1\" 200 -\n"
     ]
    },
    {
     "name": "stdout",
     "output_type": "stream",
     "text": [
      "1/1 [==============================] - 2s 2s/step\n"
     ]
    },
    {
     "name": "stderr",
     "output_type": "stream",
     "text": [
      "127.0.0.1 - - [25/Apr/2023 18:04:22] \"POST /predict HTTP/1.1\" 200 -\n"
     ]
    }
   ],
   "source": [
    "# Запуск сервера Flask\n",
    "if __name__ == \"__main__\":\n",
    "    app.run(debug=True, use_reloader=False)"
   ]
  },
  {
   "cell_type": "markdown",
   "id": "9475120d",
   "metadata": {},
   "source": [
    "Приложение выдает значение 2.914088010787964\n",
    "\n",
    "Соотношение \"матрица-наполнитель\" для аналогичных показателей (позиция 3 датафрейма df_clean) составляет 2.767918"
   ]
  },
  {
   "cell_type": "markdown",
   "id": "821ac9ac",
   "metadata": {},
   "source": [
    "Введенные параметры:\n",
    "* Соотношение матрица-наполнитель 2.767918\n",
    "* Плотность, кг/м3 2000.000000\n",
    "* Модуль упругости, ГПа 748.000000\n",
    "* Количество отвердителя, м.% 111.860000\n",
    "* Содержание эпоксидных групп,%_2 22.267857\n",
    "* Температура вспышки, С_2 284.615385\n",
    "* Поверхностная плотность, г/м2 210.000000\n",
    "* Модуль упругости при растяжении, ГПа 70.000000\n",
    "* Прочность при растяжении, МПа 3000.000000\n",
    "* Потребление смолы, г/м2 220.000000\n",
    "* Угол нашивки 0.000000\n",
    "* Шаг нашивки 5.000000\n",
    "* Плотность нашивки 60.000000"
   ]
  },
  {
   "cell_type": "markdown",
   "id": "60fc7830",
   "metadata": {},
   "source": [
    "#### Консольное приложение"
   ]
  },
  {
   "cell_type": "code",
   "execution_count": 8,
   "id": "5292dc2a",
   "metadata": {},
   "outputs": [],
   "source": [
    "# Создадим функцию для ввода данных\n",
    "def input_variable():\n",
    "    x1 = float(input('Плотность, кг/м3: '))\n",
    "    x2 = float(input('Модуль упругости, ГПа: '))\n",
    "    x3 = float(input('Количество отвердителя, м.%: '))\n",
    "    x4 = float(input('Содержание эпоксидных групп,%_2: '))\n",
    "    x5 = float(input('Температура вспышки, С_2: '))\n",
    "    x6 = float(input('Поверхностная плотность, г/м2: '))\n",
    "    x7 = float(input('Модуль упругости при растяжении, ГПа: '))\n",
    "    x8 = float(input('Прочность при растяжении, МПа: '))\n",
    "    x9 = float(input('Потребление смолы, г/м2: '))\n",
    "    x10 = float(input('Угол нашивки: '))\n",
    "    x11 = float(input('Шаг нашивки: '))\n",
    "    x12 = float(input('Плотность нашивки: '))\n",
    "    return x1, x2, x3, x4, x5, x6, x7, x8, x9, x10, x11, x12"
   ]
  },
  {
   "cell_type": "code",
   "execution_count": 9,
   "id": "790619c0",
   "metadata": {},
   "outputs": [
    {
     "name": "stdout",
     "output_type": "stream",
     "text": [
      "Приложение прогнозирует соотношение \"матрица-наполнитель\"\n",
      "Введите \"1\" для прогноза, \"2\" для выхода\n",
      "1\n",
      "Введите данные для прогноза\n",
      "Плотность, кг/м3: 2000\n",
      "Модуль упругости, ГПа: 748\n",
      "Количество отвердителя, м.%: 111.860000\n",
      "Содержание эпоксидных групп,%_2: 22.267857\n",
      "Температура вспышки, С_2: 284.615385\n",
      "Поверхностная плотность, г/м2: 210\n",
      "Модуль упругости при растяжении, ГПа: 70\n",
      "Прочность при растяжении, МПа: 3000\n",
      "Потребление смолы, г/м2: 220\n",
      "Угол нашивки: 0\n",
      "Шаг нашивки: 5\n",
      "Плотность нашивки: 60\n",
      "1/1 [==============================] - 0s 62ms/step\n",
      "Прогнозное значение соотношения \"матрица-наполнитель\": \n",
      "2.914088\n",
      "Введите \"1\" для прогноза, \"2\" для выхода\n",
      "2\n"
     ]
    }
   ],
   "source": [
    "# Создадим функцию для вызова приложения\n",
    "def app_model():\n",
    "    # Загружаем модель и масштабаторы\n",
    "    nn_model = load_model('model_matrix')\n",
    "    scaler_x = load('minmax_scl_x.pkl')\n",
    "    scaler_y = load('minmax_scl_y.pkl')\n",
    "   \n",
    "    print('Приложение прогнозирует соотношение \"матрица-наполнитель\"')\n",
    "    for i in range(110):\n",
    "        try:\n",
    "            print('Введите \"1\" для прогноза, \"2\" для выхода')\n",
    "            check = input()\n",
    "      \n",
    "            if check == '1':\n",
    "                print('Введите данные для прогноза')\n",
    "                X = input_variable()\n",
    "                X =  scaler_x.transform(np.array(X).reshape(1,-1))\n",
    "                prediction = nn_model.predict(X)\n",
    "                output = scaler_y.inverse_transform(prediction) \n",
    "                print('Прогнозное значение соотношения \"матрица-наполнитель\": ')\n",
    "                print(output[0][0])\n",
    "\n",
    "            elif check == '2':\n",
    "                break\n",
    "            else:\n",
    "                print('Повторите выбор')\n",
    "                \n",
    "        except Exception as e:\n",
    "            print(e)\n",
    "            print('Введены некорректные данные. Пожалуйста, повторите операцию')\n",
    "            \n",
    "# Запускаем приложение\n",
    "app_model()"
   ]
  },
  {
   "cell_type": "markdown",
   "id": "f65127e8",
   "metadata": {},
   "source": [
    "Приложение выдает значение 2.914088\n",
    "\n",
    "Соотношение \"матрица-наполнитель\" для аналогичных показателей (позиция 3 датафрейма df_clean) составляет 2.767918"
   ]
  },
  {
   "cell_type": "markdown",
   "id": "20dd4cc4",
   "metadata": {},
   "source": [
    "Введенные параметры:\n",
    "* Соотношение матрица-наполнитель 2.767918\n",
    "* Плотность, кг/м3 2000.000000\n",
    "* Модуль упругости, ГПа 748.000000\n",
    "* Количество отвердителя, м.% 111.860000\n",
    "* Содержание эпоксидных групп,%_2 22.267857\n",
    "* Температура вспышки, С_2 284.615385\n",
    "* Поверхностная плотность, г/м2 210.000000\n",
    "* Модуль упругости при растяжении, ГПа 70.000000\n",
    "* Прочность при растяжении, МПа 3000.000000\n",
    "* Потребление смолы, г/м2 220.000000\n",
    "* Угол нашивки 0.000000\n",
    "* Шаг нашивки 5.000000\n",
    "* Плотность нашивки 60.000000"
   ]
  }
 ],
 "metadata": {
  "kernelspec": {
   "display_name": "Python 3 (ipykernel)",
   "language": "python",
   "name": "python3"
  },
  "language_info": {
   "codemirror_mode": {
    "name": "ipython",
    "version": 3
   },
   "file_extension": ".py",
   "mimetype": "text/x-python",
   "name": "python",
   "nbconvert_exporter": "python",
   "pygments_lexer": "ipython3",
   "version": "3.9.16"
  }
 },
 "nbformat": 4,
 "nbformat_minor": 5
}
