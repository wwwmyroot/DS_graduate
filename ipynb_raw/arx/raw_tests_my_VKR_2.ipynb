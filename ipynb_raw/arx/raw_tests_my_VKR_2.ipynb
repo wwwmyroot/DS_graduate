{
  "nbformat": 4,
  "nbformat_minor": 0,
  "metadata": {
    "colab": {
      "provenance": [],
      "collapsed_sections": [
        "MJ3c0QImJv3G",
        "yzDlQRtXrwDi"
      ]
    },
    "kernelspec": {
      "name": "python3",
      "display_name": "Python 3"
    },
    "language_info": {
      "name": "python"
    },
    "gpuClass": "standard"
  },
  "cells": [
    {
      "cell_type": "markdown",
      "source": [
        "# READY"
      ],
      "metadata": {
        "id": "NIgJ5pXOkDMC"
      }
    },
    {
      "cell_type": "markdown",
      "source": [
        "### 1. Основной блок импорта (для всех этапов)."
      ],
      "metadata": {
        "id": "MJ3c0QImJv3G"
      }
    },
    {
      "cell_type": "code",
      "source": [
        "# ---- pip install\n",
        "! pip install xgboost\n",
        "! pip install scikeras[tensorflow]\n",
        "\n",
        "# ---- база\n",
        "import numpy as np                                      # для работы с многомерными массивами \n",
        "import pandas as pd                                     # для обработки данных\n",
        "import matplotlib.pyplot as plt                         # для построения графиков\n",
        "import seaborn as sns                                   # для статистической визуализации\n",
        "                \n",
        "# ---- работа с датафреймами\n",
        "from pandas import DataFrame\n",
        "\n",
        "# ---- sklearn\n",
        "from sklearn.preprocessing import LabelEncoder          # для кодирования переменных\n",
        "from sklearn.preprocessing import MinMaxScaler, RobustScaler, StandardScaler, PowerTransformer, Normalizer    # для нормализации и стандартизации\n",
        "from sklearn.model_selection import train_test_split    # для разделения датасета на тренировочную и тестовую выборки\n",
        "from sklearn.metrics import r2_score, mean_absolute_error, mean_squared_error, mean_absolute_percentage_error # метрики для алгорритмов машиннного обучения\n",
        "# -- algorithms & models\n",
        "from sklearn.neighbors import KNeighborsRegressor       # Метод К-ближайших соседей\n",
        "from sklearn.svm import SVR                             # Метод опорных векторов\n",
        "from sklearn.linear_model import LinearRegression       # Линейная регрессия\n",
        "from sklearn.tree import DecisionTreeRegressor          # Дерево решений\n",
        "from sklearn.ensemble import AdaBoostRegressor          # AdaBoost\n",
        "from sklearn.ensemble import GradientBoostingRegressor  # Градиентный бустинг\n",
        "from sklearn.ensemble import RandomForestRegressor      # Случайный лес\n",
        "from sklearn.linear_model import SGDRegressor           # Стохастический градиентный спуск\n",
        "from sklearn.linear_model import Lasso                  # Метод регрессии «Lasso»\n",
        "from sklearn.pipeline import make_pipeline              # для создания пайплайна\n",
        "from sklearn.model_selection import GridSearchCV        # для подбора параметров модели машинного обучения\n",
        "from xgboost import XGBRegressor                        # XGBoost\n",
        "\n",
        "# ---- scipy\n",
        "from scipy import stats                                 # Статистические функции\n",
        "from scipy.stats import shapiro                         # Тест Шапиро-Уилка на нормальность           \n",
        "\n",
        "# ---- keras\n",
        "import tensorflow.keras as keras                        \n",
        "from keras.models import Sequential\n",
        "from keras.layers import Dense, Flatten, Input, Dropout\n",
        "from tensorflow.keras import utils\n",
        "from tensorflow.keras.optimizers import Adam, SGD, RMSprop, Adagrad\n",
        "# -- my -- no import for KerasRegressor -- Error\n",
        "# from scikeras.wrappers import KerasRegressor\n",
        "# - solution 1 -- yes\n",
        "#from tensorflow import keras\n",
        "#try:\n",
        "#    import scikeras\n",
        "#except ImportError:\n",
        "    #!python -m pip install scikeras\n",
        "#from scikeras.wrappers import KerasClassifier, KerasRegressor\n",
        "# --\n",
        "from scikeras.wrappers import KerasClassifier, KerasRegressor\n",
        "# ---- model operations\n",
        "from joblib import dump, load                           # для сохранения и загрузки моделей \n",
        "from tensorflow.keras.models import load_model          # для загрузки моделей \n",
        "\n",
        "import warnings                                         # контроль предупреждения\n",
        "warnings.filterwarnings(\"default\", category=FutureWarning)\n",
        "warnings.simplefilter(action='ignore', category=FutureWarning)\n",
        "\n",
        "# ---- flask\n",
        "import flask\n",
        "from flask import Flask, request, render_template\n",
        "\n",
        "# для корректного отображения графиков в окне браузера\n",
        "%matplotlib inline  \n",
        "\n",
        "# ---- pretify output\n",
        "from google.colab import widgets\n",
        "from google.colab import data_table\n"
      ],
      "metadata": {
        "id": "nrKHXEN5J0a0",
        "colab": {
          "base_uri": "https://localhost:8080/"
        },
        "outputId": "a1a9c174-c948-4f6b-f3d2-65483e499942"
      },
      "execution_count": 73,
      "outputs": [
        {
          "output_type": "stream",
          "name": "stdout",
          "text": [
            "Looking in indexes: https://pypi.org/simple, https://us-python.pkg.dev/colab-wheels/public/simple/\n",
            "Requirement already satisfied: xgboost in /usr/local/lib/python3.9/dist-packages (1.7.5)\n",
            "Requirement already satisfied: scipy in /usr/local/lib/python3.9/dist-packages (from xgboost) (1.10.1)\n",
            "Requirement already satisfied: numpy in /usr/local/lib/python3.9/dist-packages (from xgboost) (1.22.4)\n",
            "Looking in indexes: https://pypi.org/simple, https://us-python.pkg.dev/colab-wheels/public/simple/\n",
            "Requirement already satisfied: scikeras[tensorflow] in /usr/local/lib/python3.9/dist-packages (0.10.0)\n",
            "Requirement already satisfied: packaging>=0.21 in /usr/local/lib/python3.9/dist-packages (from scikeras[tensorflow]) (23.0)\n",
            "Requirement already satisfied: scikit-learn>=1.0.0 in /usr/local/lib/python3.9/dist-packages (from scikeras[tensorflow]) (1.2.2)\n",
            "Requirement already satisfied: tensorflow>=2.11.0 in /usr/local/lib/python3.9/dist-packages (from scikeras[tensorflow]) (2.12.0)\n",
            "Requirement already satisfied: threadpoolctl>=2.0.0 in /usr/local/lib/python3.9/dist-packages (from scikit-learn>=1.0.0->scikeras[tensorflow]) (3.1.0)\n",
            "Requirement already satisfied: joblib>=1.1.1 in /usr/local/lib/python3.9/dist-packages (from scikit-learn>=1.0.0->scikeras[tensorflow]) (1.2.0)\n",
            "Requirement already satisfied: numpy>=1.17.3 in /usr/local/lib/python3.9/dist-packages (from scikit-learn>=1.0.0->scikeras[tensorflow]) (1.22.4)\n",
            "Requirement already satisfied: scipy>=1.3.2 in /usr/local/lib/python3.9/dist-packages (from scikit-learn>=1.0.0->scikeras[tensorflow]) (1.10.1)\n",
            "Requirement already satisfied: absl-py>=1.0.0 in /usr/local/lib/python3.9/dist-packages (from tensorflow>=2.11.0->scikeras[tensorflow]) (1.4.0)\n",
            "Requirement already satisfied: wrapt<1.15,>=1.11.0 in /usr/local/lib/python3.9/dist-packages (from tensorflow>=2.11.0->scikeras[tensorflow]) (1.14.1)\n",
            "Requirement already satisfied: jax>=0.3.15 in /usr/local/lib/python3.9/dist-packages (from tensorflow>=2.11.0->scikeras[tensorflow]) (0.4.8)\n",
            "Requirement already satisfied: tensorflow-estimator<2.13,>=2.12.0 in /usr/local/lib/python3.9/dist-packages (from tensorflow>=2.11.0->scikeras[tensorflow]) (2.12.0)\n",
            "Requirement already satisfied: six>=1.12.0 in /usr/local/lib/python3.9/dist-packages (from tensorflow>=2.11.0->scikeras[tensorflow]) (1.16.0)\n",
            "Requirement already satisfied: keras<2.13,>=2.12.0 in /usr/local/lib/python3.9/dist-packages (from tensorflow>=2.11.0->scikeras[tensorflow]) (2.12.0)\n",
            "Requirement already satisfied: protobuf!=4.21.0,!=4.21.1,!=4.21.2,!=4.21.3,!=4.21.4,!=4.21.5,<5.0.0dev,>=3.20.3 in /usr/local/lib/python3.9/dist-packages (from tensorflow>=2.11.0->scikeras[tensorflow]) (3.20.3)\n",
            "Requirement already satisfied: h5py>=2.9.0 in /usr/local/lib/python3.9/dist-packages (from tensorflow>=2.11.0->scikeras[tensorflow]) (3.8.0)\n",
            "Requirement already satisfied: astunparse>=1.6.0 in /usr/local/lib/python3.9/dist-packages (from tensorflow>=2.11.0->scikeras[tensorflow]) (1.6.3)\n",
            "Requirement already satisfied: tensorflow-io-gcs-filesystem>=0.23.1 in /usr/local/lib/python3.9/dist-packages (from tensorflow>=2.11.0->scikeras[tensorflow]) (0.32.0)\n",
            "Requirement already satisfied: google-pasta>=0.1.1 in /usr/local/lib/python3.9/dist-packages (from tensorflow>=2.11.0->scikeras[tensorflow]) (0.2.0)\n",
            "Requirement already satisfied: tensorboard<2.13,>=2.12 in /usr/local/lib/python3.9/dist-packages (from tensorflow>=2.11.0->scikeras[tensorflow]) (2.12.1)\n",
            "Requirement already satisfied: typing-extensions>=3.6.6 in /usr/local/lib/python3.9/dist-packages (from tensorflow>=2.11.0->scikeras[tensorflow]) (4.5.0)\n",
            "Requirement already satisfied: setuptools in /usr/local/lib/python3.9/dist-packages (from tensorflow>=2.11.0->scikeras[tensorflow]) (67.6.1)\n",
            "Requirement already satisfied: grpcio<2.0,>=1.24.3 in /usr/local/lib/python3.9/dist-packages (from tensorflow>=2.11.0->scikeras[tensorflow]) (1.53.0)\n",
            "Requirement already satisfied: opt-einsum>=2.3.2 in /usr/local/lib/python3.9/dist-packages (from tensorflow>=2.11.0->scikeras[tensorflow]) (3.3.0)\n",
            "Requirement already satisfied: gast<=0.4.0,>=0.2.1 in /usr/local/lib/python3.9/dist-packages (from tensorflow>=2.11.0->scikeras[tensorflow]) (0.4.0)\n",
            "Requirement already satisfied: termcolor>=1.1.0 in /usr/local/lib/python3.9/dist-packages (from tensorflow>=2.11.0->scikeras[tensorflow]) (2.2.0)\n",
            "Requirement already satisfied: flatbuffers>=2.0 in /usr/local/lib/python3.9/dist-packages (from tensorflow>=2.11.0->scikeras[tensorflow]) (23.3.3)\n",
            "Requirement already satisfied: libclang>=13.0.0 in /usr/local/lib/python3.9/dist-packages (from tensorflow>=2.11.0->scikeras[tensorflow]) (16.0.0)\n",
            "Requirement already satisfied: wheel<1.0,>=0.23.0 in /usr/local/lib/python3.9/dist-packages (from astunparse>=1.6.0->tensorflow>=2.11.0->scikeras[tensorflow]) (0.40.0)\n",
            "Requirement already satisfied: ml-dtypes>=0.0.3 in /usr/local/lib/python3.9/dist-packages (from jax>=0.3.15->tensorflow>=2.11.0->scikeras[tensorflow]) (0.0.4)\n",
            "Requirement already satisfied: markdown>=2.6.8 in /usr/local/lib/python3.9/dist-packages (from tensorboard<2.13,>=2.12->tensorflow>=2.11.0->scikeras[tensorflow]) (3.4.3)\n",
            "Requirement already satisfied: google-auth-oauthlib<1.1,>=0.5 in /usr/local/lib/python3.9/dist-packages (from tensorboard<2.13,>=2.12->tensorflow>=2.11.0->scikeras[tensorflow]) (1.0.0)\n",
            "Requirement already satisfied: requests<3,>=2.21.0 in /usr/local/lib/python3.9/dist-packages (from tensorboard<2.13,>=2.12->tensorflow>=2.11.0->scikeras[tensorflow]) (2.27.1)\n",
            "Requirement already satisfied: tensorboard-data-server<0.8.0,>=0.7.0 in /usr/local/lib/python3.9/dist-packages (from tensorboard<2.13,>=2.12->tensorflow>=2.11.0->scikeras[tensorflow]) (0.7.0)\n",
            "Requirement already satisfied: werkzeug>=1.0.1 in /usr/local/lib/python3.9/dist-packages (from tensorboard<2.13,>=2.12->tensorflow>=2.11.0->scikeras[tensorflow]) (2.2.3)\n",
            "Requirement already satisfied: google-auth<3,>=1.6.3 in /usr/local/lib/python3.9/dist-packages (from tensorboard<2.13,>=2.12->tensorflow>=2.11.0->scikeras[tensorflow]) (2.17.2)\n",
            "Requirement already satisfied: tensorboard-plugin-wit>=1.6.0 in /usr/local/lib/python3.9/dist-packages (from tensorboard<2.13,>=2.12->tensorflow>=2.11.0->scikeras[tensorflow]) (1.8.1)\n",
            "Requirement already satisfied: cachetools<6.0,>=2.0.0 in /usr/local/lib/python3.9/dist-packages (from google-auth<3,>=1.6.3->tensorboard<2.13,>=2.12->tensorflow>=2.11.0->scikeras[tensorflow]) (5.3.0)\n",
            "Requirement already satisfied: pyasn1-modules>=0.2.1 in /usr/local/lib/python3.9/dist-packages (from google-auth<3,>=1.6.3->tensorboard<2.13,>=2.12->tensorflow>=2.11.0->scikeras[tensorflow]) (0.2.8)\n",
            "Requirement already satisfied: rsa<5,>=3.1.4 in /usr/local/lib/python3.9/dist-packages (from google-auth<3,>=1.6.3->tensorboard<2.13,>=2.12->tensorflow>=2.11.0->scikeras[tensorflow]) (4.9)\n",
            "Requirement already satisfied: requests-oauthlib>=0.7.0 in /usr/local/lib/python3.9/dist-packages (from google-auth-oauthlib<1.1,>=0.5->tensorboard<2.13,>=2.12->tensorflow>=2.11.0->scikeras[tensorflow]) (1.3.1)\n",
            "Requirement already satisfied: importlib-metadata>=4.4 in /usr/local/lib/python3.9/dist-packages (from markdown>=2.6.8->tensorboard<2.13,>=2.12->tensorflow>=2.11.0->scikeras[tensorflow]) (6.3.0)\n",
            "Requirement already satisfied: idna<4,>=2.5 in /usr/local/lib/python3.9/dist-packages (from requests<3,>=2.21.0->tensorboard<2.13,>=2.12->tensorflow>=2.11.0->scikeras[tensorflow]) (3.4)\n",
            "Requirement already satisfied: certifi>=2017.4.17 in /usr/local/lib/python3.9/dist-packages (from requests<3,>=2.21.0->tensorboard<2.13,>=2.12->tensorflow>=2.11.0->scikeras[tensorflow]) (2022.12.7)\n",
            "Requirement already satisfied: charset-normalizer~=2.0.0 in /usr/local/lib/python3.9/dist-packages (from requests<3,>=2.21.0->tensorboard<2.13,>=2.12->tensorflow>=2.11.0->scikeras[tensorflow]) (2.0.12)\n",
            "Requirement already satisfied: urllib3<1.27,>=1.21.1 in /usr/local/lib/python3.9/dist-packages (from requests<3,>=2.21.0->tensorboard<2.13,>=2.12->tensorflow>=2.11.0->scikeras[tensorflow]) (1.26.15)\n",
            "Requirement already satisfied: MarkupSafe>=2.1.1 in /usr/local/lib/python3.9/dist-packages (from werkzeug>=1.0.1->tensorboard<2.13,>=2.12->tensorflow>=2.11.0->scikeras[tensorflow]) (2.1.2)\n",
            "Requirement already satisfied: zipp>=0.5 in /usr/local/lib/python3.9/dist-packages (from importlib-metadata>=4.4->markdown>=2.6.8->tensorboard<2.13,>=2.12->tensorflow>=2.11.0->scikeras[tensorflow]) (3.15.0)\n",
            "Requirement already satisfied: pyasn1<0.5.0,>=0.4.6 in /usr/local/lib/python3.9/dist-packages (from pyasn1-modules>=0.2.1->google-auth<3,>=1.6.3->tensorboard<2.13,>=2.12->tensorflow>=2.11.0->scikeras[tensorflow]) (0.4.8)\n",
            "Requirement already satisfied: oauthlib>=3.0.0 in /usr/local/lib/python3.9/dist-packages (from requests-oauthlib>=0.7.0->google-auth-oauthlib<1.1,>=0.5->tensorboard<2.13,>=2.12->tensorflow>=2.11.0->scikeras[tensorflow]) (3.2.2)\n"
          ]
        }
      ]
    },
    {
      "cell_type": "markdown",
      "source": [
        "### 2. Загрузка датасета.\n",
        "- github; "
      ],
      "metadata": {
        "id": "MusVjeCvpnA2"
      }
    },
    {
      "cell_type": "code",
      "source": [
        "# tmp\n",
        "!rm -rf /content/dataset"
      ],
      "metadata": {
        "id": "map72TZjoFQN"
      },
      "execution_count": null,
      "outputs": []
    },
    {
      "cell_type": "code",
      "source": [
        "# ---- ---- Загрузка исходного датасета из github; --- ----\n",
        "# ---- NOTE: prequistles -> to move in 'import'\n",
        "from google.colab import widgets\n",
        "\n",
        "# -- Разово.  Удалить лишнее из GoogleColab, создать папаку, проверить;\n",
        "! pwd && ls -la && rm -r /content/sample_data \n",
        "! mkdir /content/dataset\n",
        "print(f'\\n---- Мусор (\"sample_data\") удален, целевая папка создана:\\n')\n",
        "# контроль\n",
        "!ls -la | grep \"dataset\"\n",
        "# Загрузка датасета из гитхаба в папку 'dataset'\n",
        "print(f'\\n---- Грузим исходный датасет.\\n')\n",
        "!wget -qc https://github.com/wwwmyroot/DS_graduate/blob/main/dataset/in_x_bp.xlsx -P \"/content/dataset\"\n",
        "!wget -qc https://github.com/wwwmyroot/DS_graduate/blob/main/dataset/in_x_nup.xlsx -P \"/content/dataset\"\n",
        "! ls -la /content/dataset/\n",
        "print(f'\\n---- Готово.\\n')\n",
        "# -- p_fin --\n",
        "t = widgets.TabBar([\"-| план |-\", \"-| результат |-\"])\n",
        "with t.output_to(0):\n",
        "  print(\"1) Удалить папку 'sample_data'.\")\n",
        "  print(\"2) Cоздать папку 'dataset'.\")\n",
        "  print(\"3) Загрузить характеристики базальтопластика.\")\n",
        "  print(\"4) Загрузить характеристики нашивки из углепластика.\")\n",
        "  print(\"5) Всё проверить.\")\n",
        "\n",
        "with t.output_to(1):\n",
        "  print(\"1) Удалена папка 'sample_data'.\")\n",
        "  print(\"2) Cоздана целевая папка 'dataset'.\")\n",
        "  print(\"3) Загружены характеристики базальтопластика. -> Файл 'X_bp.xlsx'.\")\n",
        "  print(\"4) Загружены характеристики нашивки из углепластика.-> Файл 'X_nup.xlsx'. \")\n",
        "  print(\"5) Всё проверено. OK.\")"
      ],
      "metadata": {
        "colab": {
          "resources": {
            "http://localhost:8080/nbextensions/google.colab/tabbar.css": {
              "data": "Lmdvb2ctdGFie3Bvc2l0aW9uOnJlbGF0aXZlO3BhZGRpbmc6NHB4IDhweDtjb2xvcjojMDBjO3RleHQtZGVjb3JhdGlvbjp1bmRlcmxpbmU7Y3Vyc29yOmRlZmF1bHR9Lmdvb2ctdGFiLWJhci10b3AgLmdvb2ctdGFie21hcmdpbjoxcHggNHB4IDAgMDtib3JkZXItYm90dG9tOjA7ZmxvYXQ6bGVmdH0uZ29vZy10YWItYmFyLXRvcDphZnRlciwuZ29vZy10YWItYmFyLWJvdHRvbTphZnRlcntjb250ZW50OiIgIjtkaXNwbGF5OmJsb2NrO2hlaWdodDowO2NsZWFyOmJvdGg7dmlzaWJpbGl0eTpoaWRkZW59Lmdvb2ctdGFiLWJhci1ib3R0b20gLmdvb2ctdGFie21hcmdpbjowIDRweCAxcHggMDtib3JkZXItdG9wOjA7ZmxvYXQ6bGVmdH0uZ29vZy10YWItYmFyLXN0YXJ0IC5nb29nLXRhYnttYXJnaW46MCAwIDRweCAxcHg7Ym9yZGVyLXJpZ2h0OjB9Lmdvb2ctdGFiLWJhci1lbmQgLmdvb2ctdGFie21hcmdpbjowIDFweCA0cHggMDtib3JkZXItbGVmdDowfS5nb29nLXRhYi1ob3ZlcntiYWNrZ3JvdW5kOiNlZWV9Lmdvb2ctdGFiLWRpc2FibGVke2NvbG9yOiM2NjZ9Lmdvb2ctdGFiLXNlbGVjdGVke2NvbG9yOiMwMDA7YmFja2dyb3VuZDojZmZmO3RleHQtZGVjb3JhdGlvbjpub25lO2ZvbnQtd2VpZ2h0OmJvbGQ7Ym9yZGVyOjFweCBzb2xpZCAjNmI5MGRhfS5nb29nLXRhYi1iYXItdG9we3BhZGRpbmctdG9wOjVweCFpbXBvcnRhbnQ7cGFkZGluZy1sZWZ0OjVweCFpbXBvcnRhbnQ7Ym9yZGVyLWJvdHRvbToxcHggc29saWQgIzZiOTBkYSFpbXBvcnRhbnR9Lmdvb2ctdGFiLWJhci10b3AgLmdvb2ctdGFiLXNlbGVjdGVke3RvcDoxcHg7bWFyZ2luLXRvcDowO3BhZGRpbmctYm90dG9tOjVweH0uZ29vZy10YWItYmFyLWJvdHRvbSAuZ29vZy10YWItc2VsZWN0ZWR7dG9wOi0xcHg7bWFyZ2luLWJvdHRvbTowO3BhZGRpbmctdG9wOjVweH0uZ29vZy10YWItYmFyLXN0YXJ0IC5nb29nLXRhYi1zZWxlY3RlZHtsZWZ0OjFweDttYXJnaW4tbGVmdDowO3BhZGRpbmctcmlnaHQ6OXB4fS5nb29nLXRhYi1iYXItZW5kIC5nb29nLXRhYi1zZWxlY3RlZHtsZWZ0Oi0xcHg7bWFyZ2luLXJpZ2h0OjA7cGFkZGluZy1sZWZ0OjlweH0uZ29vZy10YWItYmFye21hcmdpbjowO2JvcmRlcjowO3BhZGRpbmc6MDtsaXN0LXN0eWxlOm5vbmU7Y3Vyc29yOmRlZmF1bHQ7b3V0bGluZTpub25lO2JhY2tncm91bmQ6I2ViZWZmOX0uZ29vZy10YWItYmFyLWNsZWFye2NsZWFyOmJvdGg7aGVpZ2h0OjA7b3ZlcmZsb3c6aGlkZGVufS5nb29nLXRhYi1iYXItc3RhcnR7ZmxvYXQ6bGVmdH0uZ29vZy10YWItYmFyLWVuZHtmbG9hdDpyaWdodH0qIGh0bWwgLmdvb2ctdGFiLWJhci1zdGFydHttYXJnaW4tcmlnaHQ6LTNweH0qIGh0bWwgLmdvb2ctdGFiLWJhci1lbmR7bWFyZ2luLWxlZnQ6LTNweH0=",
              "ok": true,
              "headers": [
                [
                  "content-type",
                  "text/css"
                ]
              ],
              "status": 200,
              "status_text": ""
            },
            "http://localhost:8080/nbextensions/google.colab/tabbar_main.min.js": {
              "data": "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",
              "ok": true,
              "headers": [
                [
                  "content-type",
                  "application/javascript"
                ]
              ],
              "status": 200,
              "status_text": ""
            }
          },
          "base_uri": "https://localhost:8080/",
          "height": 535
        },
        "id": "GLOc8DGtV1kR",
        "outputId": "a865214c-38b8-4033-a9f9-106791ebf0ae"
      },
      "execution_count": null,
      "outputs": [
        {
          "output_type": "stream",
          "name": "stdout",
          "text": [
            "/content\n",
            "total 16\n",
            "drwxr-xr-x 1 root root 4096 Apr 16 12:58 .\n",
            "drwxr-xr-x 1 root root 4096 Apr 16 09:09 ..\n",
            "drwxr-xr-x 4 root root 4096 Apr 13 13:29 .config\n",
            "rm: cannot remove '/content/sample_data': No such file or directory\n",
            "\n",
            "---- Мусор (\"sample_data\") удален, целевая папка создана:\n",
            "\n",
            "drwxr-xr-x 2 root root 4096 Apr 16 12:59 dataset\n",
            "\n",
            "---- Грузим исходный датасет.\n",
            "\n",
            "total 284\n",
            "drwxr-xr-x 2 root root   4096 Apr 16 12:59 .\n",
            "drwxr-xr-x 1 root root   4096 Apr 16 12:59 ..\n",
            "-rw-r--r-- 1 root root 138926 Apr 16 12:59 X_bp.xlsx\n",
            "-rw-r--r-- 1 root root 138949 Apr 16 12:59 X_nup.xlsx\n",
            "\n",
            "---- Готово.\n",
            "\n"
          ]
        },
        {
          "output_type": "display_data",
          "data": {
            "text/plain": [
              "<IPython.core.display.HTML object>"
            ],
            "text/html": [
              "<link rel=stylesheet type=text/css href='/nbextensions/google.colab/tabbar.css'></link>"
            ]
          },
          "metadata": {}
        },
        {
          "output_type": "display_data",
          "data": {
            "text/plain": [
              "<IPython.core.display.HTML object>"
            ],
            "text/html": [
              "<script src='/nbextensions/google.colab/tabbar_main.min.js'></script>"
            ]
          },
          "metadata": {}
        },
        {
          "output_type": "display_data",
          "data": {
            "text/plain": [
              "<IPython.core.display.HTML object>"
            ],
            "text/html": [
              "<div id=\"id57\"></div>"
            ]
          },
          "metadata": {}
        },
        {
          "output_type": "display_data",
          "data": {
            "text/plain": [
              "<IPython.core.display.Javascript object>"
            ],
            "application/javascript": [
              "window[\"76966246-dc56-11ed-9f1c-0242ac1c000c\"] = colab_lib.createTabBar({\"location\": \"top\", \"elementId\": \"id57\", \"tabNames\": [\"- \\u043f\\u043b\\u0430\\u043d -\", \" - \\u0440\\u0435\\u0437\\u0443\\u043b\\u044c\\u0442\\u0430\\u0442 -\"], \"initialSelection\": 0, \"contentBorder\": [\"0px\"], \"contentHeight\": [\"initial\"], \"borderColor\": [\"#a7a7a7\"]});\n",
              "//# sourceURL=js_9992df118d"
            ]
          },
          "metadata": {}
        },
        {
          "output_type": "display_data",
          "data": {
            "text/plain": [
              "<IPython.core.display.Javascript object>"
            ],
            "application/javascript": [
              "window[\"7696deb0-dc56-11ed-9f1c-0242ac1c000c\"] = window[\"id57\"].setSelectedTabIndex(0);\n",
              "//# sourceURL=js_0472b99c2a"
            ]
          },
          "metadata": {}
        },
        {
          "output_type": "display_data",
          "data": {
            "text/plain": [
              "<IPython.core.display.Javascript object>"
            ],
            "application/javascript": [
              "window[\"7697fb74-dc56-11ed-9f1c-0242ac1c000c\"] = google.colab.output.getActiveOutputArea();\n",
              "//# sourceURL=js_420fc0fcba"
            ]
          },
          "metadata": {}
        },
        {
          "output_type": "display_data",
          "data": {
            "text/plain": [
              "<IPython.core.display.Javascript object>"
            ],
            "application/javascript": [
              "window[\"76982f9a-dc56-11ed-9f1c-0242ac1c000c\"] = document.querySelector(\"#id57_content_0\");\n",
              "//# sourceURL=js_a82dde8396"
            ]
          },
          "metadata": {}
        },
        {
          "output_type": "display_data",
          "data": {
            "text/plain": [
              "<IPython.core.display.Javascript object>"
            ],
            "application/javascript": [
              "window[\"769862b2-dc56-11ed-9f1c-0242ac1c000c\"] = google.colab.output.setActiveOutputArea(window[\"76982f9a-dc56-11ed-9f1c-0242ac1c000c\"]);\n",
              "//# sourceURL=js_d5368d09f4"
            ]
          },
          "metadata": {}
        },
        {
          "output_type": "display_data",
          "data": {
            "text/plain": [
              "<IPython.core.display.Javascript object>"
            ],
            "application/javascript": [
              "window[\"76989516-dc56-11ed-9f1c-0242ac1c000c\"] = window[\"id57\"].setSelectedTabIndex(0);\n",
              "//# sourceURL=js_9d4c06f71c"
            ]
          },
          "metadata": {}
        },
        {
          "output_type": "stream",
          "name": "stdout",
          "text": [
            "1) Удалить папку 'sample_data'.\n",
            "2) Cоздать папку 'dataset'.\n",
            "3) Загрузить характеристики базальтопластика.\n",
            "4) Загрузить характеристики нашивки из углепластика.\n",
            "5) Всё проверить.\n"
          ]
        },
        {
          "output_type": "display_data",
          "data": {
            "text/plain": [
              "<IPython.core.display.Javascript object>"
            ],
            "application/javascript": [
              "window[\"769966e4-dc56-11ed-9f1c-0242ac1c000c\"] = google.colab.output.setActiveOutputArea(window[\"7697fb74-dc56-11ed-9f1c-0242ac1c000c\"]);\n",
              "//# sourceURL=js_9a0e1e6a34"
            ]
          },
          "metadata": {}
        },
        {
          "output_type": "display_data",
          "data": {
            "text/plain": [
              "<IPython.core.display.Javascript object>"
            ],
            "application/javascript": [
              "window[\"769aa072-dc56-11ed-9f1c-0242ac1c000c\"] = google.colab.output.getActiveOutputArea();\n",
              "//# sourceURL=js_55da5f99b2"
            ]
          },
          "metadata": {}
        },
        {
          "output_type": "display_data",
          "data": {
            "text/plain": [
              "<IPython.core.display.Javascript object>"
            ],
            "application/javascript": [
              "window[\"769ad510-dc56-11ed-9f1c-0242ac1c000c\"] = document.querySelector(\"#id57_content_1\");\n",
              "//# sourceURL=js_fd3ffd0cc9"
            ]
          },
          "metadata": {}
        },
        {
          "output_type": "display_data",
          "data": {
            "text/plain": [
              "<IPython.core.display.Javascript object>"
            ],
            "application/javascript": [
              "window[\"769b056c-dc56-11ed-9f1c-0242ac1c000c\"] = google.colab.output.setActiveOutputArea(window[\"769ad510-dc56-11ed-9f1c-0242ac1c000c\"]);\n",
              "//# sourceURL=js_7ffaae620a"
            ]
          },
          "metadata": {}
        },
        {
          "output_type": "display_data",
          "data": {
            "text/plain": [
              "<IPython.core.display.Javascript object>"
            ],
            "application/javascript": [
              "window[\"769b45ae-dc56-11ed-9f1c-0242ac1c000c\"] = window[\"id57\"].setSelectedTabIndex(1);\n",
              "//# sourceURL=js_d8a8723322"
            ]
          },
          "metadata": {}
        },
        {
          "output_type": "stream",
          "name": "stdout",
          "text": [
            "1) Удалена папка 'sample_data'.\n",
            "2) Cоздана целевая папка 'dataset'.\n",
            "3) Загружены характеристики базальтопластика. -> Файл 'X_bp.xlsx'.\n",
            "4) Загружены характеристики нашивки из углепластика.-> Файл 'X_nup.xlsx'. \n",
            "5) Всё проверено. OK.\n"
          ]
        },
        {
          "output_type": "display_data",
          "data": {
            "text/plain": [
              "<IPython.core.display.Javascript object>"
            ],
            "application/javascript": [
              "window[\"769c27bc-dc56-11ed-9f1c-0242ac1c000c\"] = google.colab.output.setActiveOutputArea(window[\"769aa072-dc56-11ed-9f1c-0242ac1c000c\"]);\n",
              "//# sourceURL=js_893063c0c5"
            ]
          },
          "metadata": {}
        }
      ]
    },
    {
      "cell_type": "markdown",
      "source": [
        "### Первый просмотр\n",
        "- enable_dataframe_formatter()\n",
        "- python profiler()"
      ],
      "metadata": {
        "id": "zeFopt85pSlF"
      }
    },
    {
      "cell_type": "code",
      "source": [
        "! pwd\n",
        "%cd /content/dataset/\n",
        "! pwd\n",
        "! ls -la"
      ],
      "metadata": {
        "id": "X4LL82Rlw1dx"
      },
      "execution_count": null,
      "outputs": []
    },
    {
      "cell_type": "code",
      "source": [
        "testfile = ('/content/test/Xbpt.xlsx')\n",
        "with pd.ExcelWriter(\"/content/dataset/X_bp.xlsx\") as writer:\n",
        "    testfile.to_excel(writer) "
      ],
      "metadata": {
        "id": "9N1GlX7t00yI"
      },
      "execution_count": null,
      "outputs": []
    },
    {
      "cell_type": "code",
      "source": [
        "#%load_ext google.colab.data_table\n",
        "#%load_ext tensorboard\n",
        "#\n",
        "#\n",
        "# Загрузим датасет из файла \"X_bp.xlsx\" (характеристики базальтопластика) и выведем 5 первых позиций датасета\n",
        "#dataset_bp = pd.DataFrame(pd.read_excel(\"/content/test/Датасет для ВКР_композиты.zip\", engine=\"openpyxl\"))\n",
        "\n",
        "dataset_bp = pd.DataFrame(pd.read_excel(\"/content/test/test1xbp.xlsx\", engine=\"openpyxl\"))\n",
        "\n",
        "\n",
        "# dataset_bp = pd.DataFrame(pd.read_excel(\"/content/dataset/X_bp.xlsx\", engine=\"xlrd\"))\n",
        "\n",
        "# df = pd.DataFrame(pd.read_excel(\"Test.xlsx\"))\n",
        "\n",
        "dataset_bp.head(100)\n",
        "\n",
        "# dataset_bp.enable_dataframe_formatter()"
      ],
      "metadata": {
        "id": "U8PhvQflJul3",
        "colab": {
          "base_uri": "https://localhost:8080/",
          "height": 2256
        },
        "outputId": "a053910e-a9b0-49e0-b7cd-277366831a9b"
      },
      "execution_count": 98,
      "outputs": [
        {
          "output_type": "execute_result",
          "data": {
            "text/plain": [
              "    Unnamed: 0  Соотношение матрица-наполнитель  Плотность, кг/м3  \\\n",
              "0            0                         1.857143       2030.000000   \n",
              "1            1                         1.857143       2030.000000   \n",
              "2            2                         1.857143       2030.000000   \n",
              "3            3                         1.857143       2030.000000   \n",
              "4            4                         2.771331       2030.000000   \n",
              "..         ...                              ...               ...   \n",
              "95          95                         3.833405       1921.917639   \n",
              "96          96                         2.607764       2009.034308   \n",
              "97          97                         3.465318       2009.797085   \n",
              "98          98                         2.148558       1978.553160   \n",
              "99          99                         3.952834       1931.687894   \n",
              "\n",
              "    модуль упругости, ГПа  Количество отвердителя, м.%  \\\n",
              "0              738.736842                    30.000000   \n",
              "1              738.736842                    50.000000   \n",
              "2              738.736842                    49.900000   \n",
              "3              738.736842                   129.000000   \n",
              "4              753.000000                   111.860000   \n",
              "..                    ...                          ...   \n",
              "95            1343.600867                   126.919152   \n",
              "96             250.547072                    79.346850   \n",
              "97            1061.407516                    71.420793   \n",
              "98             905.115296                   144.160098   \n",
              "99             348.354645                   108.403571   \n",
              "\n",
              "    Содержание эпоксидных групп,%_2  Температура вспышки, С_2  \\\n",
              "0                         22.267857                100.000000   \n",
              "1                         23.750000                284.615385   \n",
              "2                         33.000000                284.615385   \n",
              "3                         21.250000                300.000000   \n",
              "4                         22.267857                284.615385   \n",
              "..                              ...                       ...   \n",
              "95                        21.245371                303.842914   \n",
              "96                        21.874257                206.005128   \n",
              "97                        22.011831                345.952750   \n",
              "98                        21.015619                313.023467   \n",
              "99                        22.951690                208.041941   \n",
              "\n",
              "    Поверхностная плотность, г/м2  Модуль упругости при растяжении, ГПа  \\\n",
              "0                      210.000000                             70.000000   \n",
              "1                      210.000000                             70.000000   \n",
              "2                      210.000000                             70.000000   \n",
              "3                      210.000000                             70.000000   \n",
              "4                      210.000000                             70.000000   \n",
              "..                            ...                                   ...   \n",
              "95                      49.975761                             70.678692   \n",
              "96                     550.102416                             74.370869   \n",
              "97                     463.411501                             69.162766   \n",
              "98                     355.291453                             69.560636   \n",
              "99                      97.545358                             71.807955   \n",
              "\n",
              "    Прочность при растяжении, МПа  Потребление смолы, г/м2  \n",
              "0                     3000.000000               220.000000  \n",
              "1                     3000.000000               220.000000  \n",
              "2                     3000.000000               220.000000  \n",
              "3                     3000.000000               220.000000  \n",
              "4                     3000.000000               220.000000  \n",
              "..                            ...                      ...  \n",
              "95                    3077.869396               208.929446  \n",
              "96                    2018.178247               174.349765  \n",
              "97                    3051.040909               159.958935  \n",
              "98                    3277.660853               175.901628  \n",
              "99                    3725.190760               134.392555  \n",
              "\n",
              "[100 rows x 11 columns]"
            ],
            "text/html": [
              "\n",
              "  <div id=\"df-1b4e8218-4a03-4ac3-a64d-8fbe1eb12d33\">\n",
              "    <div class=\"colab-df-container\">\n",
              "      <div>\n",
              "<style scoped>\n",
              "    .dataframe tbody tr th:only-of-type {\n",
              "        vertical-align: middle;\n",
              "    }\n",
              "\n",
              "    .dataframe tbody tr th {\n",
              "        vertical-align: top;\n",
              "    }\n",
              "\n",
              "    .dataframe thead th {\n",
              "        text-align: right;\n",
              "    }\n",
              "</style>\n",
              "<table border=\"1\" class=\"dataframe\">\n",
              "  <thead>\n",
              "    <tr style=\"text-align: right;\">\n",
              "      <th></th>\n",
              "      <th>Unnamed: 0</th>\n",
              "      <th>Соотношение матрица-наполнитель</th>\n",
              "      <th>Плотность, кг/м3</th>\n",
              "      <th>модуль упругости, ГПа</th>\n",
              "      <th>Количество отвердителя, м.%</th>\n",
              "      <th>Содержание эпоксидных групп,%_2</th>\n",
              "      <th>Температура вспышки, С_2</th>\n",
              "      <th>Поверхностная плотность, г/м2</th>\n",
              "      <th>Модуль упругости при растяжении, ГПа</th>\n",
              "      <th>Прочность при растяжении, МПа</th>\n",
              "      <th>Потребление смолы, г/м2</th>\n",
              "    </tr>\n",
              "  </thead>\n",
              "  <tbody>\n",
              "    <tr>\n",
              "      <th>0</th>\n",
              "      <td>0</td>\n",
              "      <td>1.857143</td>\n",
              "      <td>2030.000000</td>\n",
              "      <td>738.736842</td>\n",
              "      <td>30.000000</td>\n",
              "      <td>22.267857</td>\n",
              "      <td>100.000000</td>\n",
              "      <td>210.000000</td>\n",
              "      <td>70.000000</td>\n",
              "      <td>3000.000000</td>\n",
              "      <td>220.000000</td>\n",
              "    </tr>\n",
              "    <tr>\n",
              "      <th>1</th>\n",
              "      <td>1</td>\n",
              "      <td>1.857143</td>\n",
              "      <td>2030.000000</td>\n",
              "      <td>738.736842</td>\n",
              "      <td>50.000000</td>\n",
              "      <td>23.750000</td>\n",
              "      <td>284.615385</td>\n",
              "      <td>210.000000</td>\n",
              "      <td>70.000000</td>\n",
              "      <td>3000.000000</td>\n",
              "      <td>220.000000</td>\n",
              "    </tr>\n",
              "    <tr>\n",
              "      <th>2</th>\n",
              "      <td>2</td>\n",
              "      <td>1.857143</td>\n",
              "      <td>2030.000000</td>\n",
              "      <td>738.736842</td>\n",
              "      <td>49.900000</td>\n",
              "      <td>33.000000</td>\n",
              "      <td>284.615385</td>\n",
              "      <td>210.000000</td>\n",
              "      <td>70.000000</td>\n",
              "      <td>3000.000000</td>\n",
              "      <td>220.000000</td>\n",
              "    </tr>\n",
              "    <tr>\n",
              "      <th>3</th>\n",
              "      <td>3</td>\n",
              "      <td>1.857143</td>\n",
              "      <td>2030.000000</td>\n",
              "      <td>738.736842</td>\n",
              "      <td>129.000000</td>\n",
              "      <td>21.250000</td>\n",
              "      <td>300.000000</td>\n",
              "      <td>210.000000</td>\n",
              "      <td>70.000000</td>\n",
              "      <td>3000.000000</td>\n",
              "      <td>220.000000</td>\n",
              "    </tr>\n",
              "    <tr>\n",
              "      <th>4</th>\n",
              "      <td>4</td>\n",
              "      <td>2.771331</td>\n",
              "      <td>2030.000000</td>\n",
              "      <td>753.000000</td>\n",
              "      <td>111.860000</td>\n",
              "      <td>22.267857</td>\n",
              "      <td>284.615385</td>\n",
              "      <td>210.000000</td>\n",
              "      <td>70.000000</td>\n",
              "      <td>3000.000000</td>\n",
              "      <td>220.000000</td>\n",
              "    </tr>\n",
              "    <tr>\n",
              "      <th>...</th>\n",
              "      <td>...</td>\n",
              "      <td>...</td>\n",
              "      <td>...</td>\n",
              "      <td>...</td>\n",
              "      <td>...</td>\n",
              "      <td>...</td>\n",
              "      <td>...</td>\n",
              "      <td>...</td>\n",
              "      <td>...</td>\n",
              "      <td>...</td>\n",
              "      <td>...</td>\n",
              "    </tr>\n",
              "    <tr>\n",
              "      <th>95</th>\n",
              "      <td>95</td>\n",
              "      <td>3.833405</td>\n",
              "      <td>1921.917639</td>\n",
              "      <td>1343.600867</td>\n",
              "      <td>126.919152</td>\n",
              "      <td>21.245371</td>\n",
              "      <td>303.842914</td>\n",
              "      <td>49.975761</td>\n",
              "      <td>70.678692</td>\n",
              "      <td>3077.869396</td>\n",
              "      <td>208.929446</td>\n",
              "    </tr>\n",
              "    <tr>\n",
              "      <th>96</th>\n",
              "      <td>96</td>\n",
              "      <td>2.607764</td>\n",
              "      <td>2009.034308</td>\n",
              "      <td>250.547072</td>\n",
              "      <td>79.346850</td>\n",
              "      <td>21.874257</td>\n",
              "      <td>206.005128</td>\n",
              "      <td>550.102416</td>\n",
              "      <td>74.370869</td>\n",
              "      <td>2018.178247</td>\n",
              "      <td>174.349765</td>\n",
              "    </tr>\n",
              "    <tr>\n",
              "      <th>97</th>\n",
              "      <td>97</td>\n",
              "      <td>3.465318</td>\n",
              "      <td>2009.797085</td>\n",
              "      <td>1061.407516</td>\n",
              "      <td>71.420793</td>\n",
              "      <td>22.011831</td>\n",
              "      <td>345.952750</td>\n",
              "      <td>463.411501</td>\n",
              "      <td>69.162766</td>\n",
              "      <td>3051.040909</td>\n",
              "      <td>159.958935</td>\n",
              "    </tr>\n",
              "    <tr>\n",
              "      <th>98</th>\n",
              "      <td>98</td>\n",
              "      <td>2.148558</td>\n",
              "      <td>1978.553160</td>\n",
              "      <td>905.115296</td>\n",
              "      <td>144.160098</td>\n",
              "      <td>21.015619</td>\n",
              "      <td>313.023467</td>\n",
              "      <td>355.291453</td>\n",
              "      <td>69.560636</td>\n",
              "      <td>3277.660853</td>\n",
              "      <td>175.901628</td>\n",
              "    </tr>\n",
              "    <tr>\n",
              "      <th>99</th>\n",
              "      <td>99</td>\n",
              "      <td>3.952834</td>\n",
              "      <td>1931.687894</td>\n",
              "      <td>348.354645</td>\n",
              "      <td>108.403571</td>\n",
              "      <td>22.951690</td>\n",
              "      <td>208.041941</td>\n",
              "      <td>97.545358</td>\n",
              "      <td>71.807955</td>\n",
              "      <td>3725.190760</td>\n",
              "      <td>134.392555</td>\n",
              "    </tr>\n",
              "  </tbody>\n",
              "</table>\n",
              "<p>100 rows × 11 columns</p>\n",
              "</div>\n",
              "      <button class=\"colab-df-convert\" onclick=\"convertToInteractive('df-1b4e8218-4a03-4ac3-a64d-8fbe1eb12d33')\"\n",
              "              title=\"Convert this dataframe to an interactive table.\"\n",
              "              style=\"display:none;\">\n",
              "        \n",
              "  <svg xmlns=\"http://www.w3.org/2000/svg\" height=\"24px\"viewBox=\"0 0 24 24\"\n",
              "       width=\"24px\">\n",
              "    <path d=\"M0 0h24v24H0V0z\" fill=\"none\"/>\n",
              "    <path d=\"M18.56 5.44l.94 2.06.94-2.06 2.06-.94-2.06-.94-.94-2.06-.94 2.06-2.06.94zm-11 1L8.5 8.5l.94-2.06 2.06-.94-2.06-.94L8.5 2.5l-.94 2.06-2.06.94zm10 10l.94 2.06.94-2.06 2.06-.94-2.06-.94-.94-2.06-.94 2.06-2.06.94z\"/><path d=\"M17.41 7.96l-1.37-1.37c-.4-.4-.92-.59-1.43-.59-.52 0-1.04.2-1.43.59L10.3 9.45l-7.72 7.72c-.78.78-.78 2.05 0 2.83L4 21.41c.39.39.9.59 1.41.59.51 0 1.02-.2 1.41-.59l7.78-7.78 2.81-2.81c.8-.78.8-2.07 0-2.86zM5.41 20L4 18.59l7.72-7.72 1.47 1.35L5.41 20z\"/>\n",
              "  </svg>\n",
              "      </button>\n",
              "      \n",
              "  <style>\n",
              "    .colab-df-container {\n",
              "      display:flex;\n",
              "      flex-wrap:wrap;\n",
              "      gap: 12px;\n",
              "    }\n",
              "\n",
              "    .colab-df-convert {\n",
              "      background-color: #E8F0FE;\n",
              "      border: none;\n",
              "      border-radius: 50%;\n",
              "      cursor: pointer;\n",
              "      display: none;\n",
              "      fill: #1967D2;\n",
              "      height: 32px;\n",
              "      padding: 0 0 0 0;\n",
              "      width: 32px;\n",
              "    }\n",
              "\n",
              "    .colab-df-convert:hover {\n",
              "      background-color: #E2EBFA;\n",
              "      box-shadow: 0px 1px 2px rgba(60, 64, 67, 0.3), 0px 1px 3px 1px rgba(60, 64, 67, 0.15);\n",
              "      fill: #174EA6;\n",
              "    }\n",
              "\n",
              "    [theme=dark] .colab-df-convert {\n",
              "      background-color: #3B4455;\n",
              "      fill: #D2E3FC;\n",
              "    }\n",
              "\n",
              "    [theme=dark] .colab-df-convert:hover {\n",
              "      background-color: #434B5C;\n",
              "      box-shadow: 0px 1px 3px 1px rgba(0, 0, 0, 0.15);\n",
              "      filter: drop-shadow(0px 1px 2px rgba(0, 0, 0, 0.3));\n",
              "      fill: #FFFFFF;\n",
              "    }\n",
              "  </style>\n",
              "\n",
              "      <script>\n",
              "        const buttonEl =\n",
              "          document.querySelector('#df-1b4e8218-4a03-4ac3-a64d-8fbe1eb12d33 button.colab-df-convert');\n",
              "        buttonEl.style.display =\n",
              "          google.colab.kernel.accessAllowed ? 'block' : 'none';\n",
              "\n",
              "        async function convertToInteractive(key) {\n",
              "          const element = document.querySelector('#df-1b4e8218-4a03-4ac3-a64d-8fbe1eb12d33');\n",
              "          const dataTable =\n",
              "            await google.colab.kernel.invokeFunction('convertToInteractive',\n",
              "                                                     [key], {});\n",
              "          if (!dataTable) return;\n",
              "\n",
              "          const docLinkHtml = 'Like what you see? Visit the ' +\n",
              "            '<a target=\"_blank\" href=https://colab.research.google.com/notebooks/data_table.ipynb>data table notebook</a>'\n",
              "            + ' to learn more about interactive tables.';\n",
              "          element.innerHTML = '';\n",
              "          dataTable['output_type'] = 'display_data';\n",
              "          await google.colab.output.renderOutput(dataTable, element);\n",
              "          const docLink = document.createElement('div');\n",
              "          docLink.innerHTML = docLinkHtml;\n",
              "          element.appendChild(docLink);\n",
              "        }\n",
              "      </script>\n",
              "    </div>\n",
              "  </div>\n",
              "  "
            ],
            "application/vnd.google.colaboratory.module+javascript": "\n      import \"https://ssl.gstatic.com/colaboratory/data_table/99dac6621f6ae8c4/data_table.js\";\n\n      window.createDataTable({\n        data: [[{\n            'v': 0,\n            'f': \"0\",\n        },\n{\n            'v': 0,\n            'f': \"0\",\n        },\n{\n            'v': 1.85714285714285,\n            'f': \"1.85714285714285\",\n        },\n{\n            'v': 2030.0,\n            'f': \"2030.0\",\n        },\n{\n            'v': 738.736842105263,\n            'f': \"738.736842105263\",\n        },\n{\n            'v': 30.0,\n            'f': \"30.0\",\n        },\n{\n            'v': 22.2678571428571,\n            'f': \"22.2678571428571\",\n        },\n{\n            'v': 100.0,\n            'f': \"100.0\",\n        },\n{\n            'v': 210.0,\n            'f': \"210.0\",\n        },\n{\n            'v': 70.0,\n            'f': \"70.0\",\n        },\n{\n            'v': 3000.0,\n            'f': \"3000.0\",\n        },\n{\n            'v': 220.0,\n            'f': \"220.0\",\n        }],\n [{\n            'v': 1,\n            'f': \"1\",\n        },\n{\n            'v': 1,\n            'f': \"1\",\n        },\n{\n            'v': 1.85714285714285,\n            'f': \"1.85714285714285\",\n        },\n{\n            'v': 2030.0,\n            'f': \"2030.0\",\n        },\n{\n            'v': 738.736842105263,\n            'f': \"738.736842105263\",\n        },\n{\n            'v': 50.0,\n            'f': \"50.0\",\n        },\n{\n            'v': 23.75,\n            'f': \"23.75\",\n        },\n{\n            'v': 284.615384615384,\n            'f': \"284.615384615384\",\n        },\n{\n            'v': 210.0,\n            'f': \"210.0\",\n        },\n{\n            'v': 70.0,\n            'f': \"70.0\",\n        },\n{\n            'v': 3000.0,\n            'f': \"3000.0\",\n        },\n{\n            'v': 220.0,\n            'f': \"220.0\",\n        }],\n [{\n            'v': 2,\n            'f': \"2\",\n        },\n{\n            'v': 2,\n            'f': \"2\",\n        },\n{\n            'v': 1.85714285714285,\n            'f': \"1.85714285714285\",\n        },\n{\n            'v': 2030.0,\n            'f': \"2030.0\",\n        },\n{\n            'v': 738.736842105263,\n            'f': \"738.736842105263\",\n        },\n{\n            'v': 49.9,\n            'f': \"49.9\",\n        },\n{\n            'v': 33.0,\n            'f': \"33.0\",\n        },\n{\n            'v': 284.615384615384,\n            'f': \"284.615384615384\",\n        },\n{\n            'v': 210.0,\n            'f': \"210.0\",\n        },\n{\n            'v': 70.0,\n            'f': \"70.0\",\n        },\n{\n            'v': 3000.0,\n            'f': \"3000.0\",\n        },\n{\n            'v': 220.0,\n            'f': \"220.0\",\n        }],\n [{\n            'v': 3,\n            'f': \"3\",\n        },\n{\n            'v': 3,\n            'f': \"3\",\n        },\n{\n            'v': 1.85714285714285,\n            'f': \"1.85714285714285\",\n        },\n{\n            'v': 2030.0,\n            'f': \"2030.0\",\n        },\n{\n            'v': 738.736842105263,\n            'f': \"738.736842105263\",\n        },\n{\n            'v': 129.0,\n            'f': \"129.0\",\n        },\n{\n            'v': 21.25,\n            'f': \"21.25\",\n        },\n{\n            'v': 300.0,\n            'f': \"300.0\",\n        },\n{\n            'v': 210.0,\n            'f': \"210.0\",\n        },\n{\n            'v': 70.0,\n            'f': \"70.0\",\n        },\n{\n            'v': 3000.0,\n            'f': \"3000.0\",\n        },\n{\n            'v': 220.0,\n            'f': \"220.0\",\n        }],\n [{\n            'v': 4,\n            'f': \"4\",\n        },\n{\n            'v': 4,\n            'f': \"4\",\n        },\n{\n            'v': 2.77133105802047,\n            'f': \"2.77133105802047\",\n        },\n{\n            'v': 2030.0,\n            'f': \"2030.0\",\n        },\n{\n            'v': 753.0,\n            'f': \"753.0\",\n        },\n{\n            'v': 111.86,\n            'f': \"111.86\",\n        },\n{\n            'v': 22.2678571428571,\n            'f': \"22.2678571428571\",\n        },\n{\n            'v': 284.615384615384,\n            'f': \"284.615384615384\",\n        },\n{\n            'v': 210.0,\n            'f': \"210.0\",\n        },\n{\n            'v': 70.0,\n            'f': \"70.0\",\n        },\n{\n            'v': 3000.0,\n            'f': \"3000.0\",\n        },\n{\n            'v': 220.0,\n            'f': \"220.0\",\n        }],\n [{\n            'v': 5,\n            'f': \"5\",\n        },\n{\n            'v': 5,\n            'f': \"5\",\n        },\n{\n            'v': 2.7679180887372,\n            'f': \"2.7679180887372\",\n        },\n{\n            'v': 2000.0,\n            'f': \"2000.0\",\n        },\n{\n            'v': 748.0,\n            'f': \"748.0\",\n        },\n{\n            'v': 111.86,\n            'f': \"111.86\",\n        },\n{\n            'v': 22.2678571428571,\n            'f': \"22.2678571428571\",\n        },\n{\n            'v': 284.615384615384,\n            'f': \"284.615384615384\",\n        },\n{\n            'v': 210.0,\n            'f': \"210.0\",\n        },\n{\n            'v': 70.0,\n            'f': \"70.0\",\n        },\n{\n            'v': 3000.0,\n            'f': \"3000.0\",\n        },\n{\n            'v': 220.0,\n            'f': \"220.0\",\n        }],\n [{\n            'v': 6,\n            'f': \"6\",\n        },\n{\n            'v': 6,\n            'f': \"6\",\n        },\n{\n            'v': 2.56962025316455,\n            'f': \"2.56962025316455\",\n        },\n{\n            'v': 1910.0,\n            'f': \"1910.0\",\n        },\n{\n            'v': 807.0,\n            'f': \"807.0\",\n        },\n{\n            'v': 111.86,\n            'f': \"111.86\",\n        },\n{\n            'v': 22.2678571428571,\n            'f': \"22.2678571428571\",\n        },\n{\n            'v': 284.615384615384,\n            'f': \"284.615384615384\",\n        },\n{\n            'v': 210.0,\n            'f': \"210.0\",\n        },\n{\n            'v': 70.0,\n            'f': \"70.0\",\n        },\n{\n            'v': 3000.0,\n            'f': \"3000.0\",\n        },\n{\n            'v': 220.0,\n            'f': \"220.0\",\n        }],\n [{\n            'v': 7,\n            'f': \"7\",\n        },\n{\n            'v': 7,\n            'f': \"7\",\n        },\n{\n            'v': 2.56147540983606,\n            'f': \"2.56147540983606\",\n        },\n{\n            'v': 1900.0,\n            'f': \"1900.0\",\n        },\n{\n            'v': 535.0,\n            'f': \"535.0\",\n        },\n{\n            'v': 111.86,\n            'f': \"111.86\",\n        },\n{\n            'v': 22.2678571428571,\n            'f': \"22.2678571428571\",\n        },\n{\n            'v': 284.615384615384,\n            'f': \"284.615384615384\",\n        },\n{\n            'v': 380.0,\n            'f': \"380.0\",\n        },\n{\n            'v': 75.0,\n            'f': \"75.0\",\n        },\n{\n            'v': 1800.0,\n            'f': \"1800.0\",\n        },\n{\n            'v': 120.0,\n            'f': \"120.0\",\n        }],\n [{\n            'v': 8,\n            'f': \"8\",\n        },\n{\n            'v': 8,\n            'f': \"8\",\n        },\n{\n            'v': 3.55701754385964,\n            'f': \"3.55701754385964\",\n        },\n{\n            'v': 1930.0,\n            'f': \"1930.0\",\n        },\n{\n            'v': 889.0,\n            'f': \"889.0\",\n        },\n{\n            'v': 129.0,\n            'f': \"129.0\",\n        },\n{\n            'v': 21.25,\n            'f': \"21.25\",\n        },\n{\n            'v': 300.0,\n            'f': \"300.0\",\n        },\n{\n            'v': 380.0,\n            'f': \"380.0\",\n        },\n{\n            'v': 75.0,\n            'f': \"75.0\",\n        },\n{\n            'v': 1800.0,\n            'f': \"1800.0\",\n        },\n{\n            'v': 120.0,\n            'f': \"120.0\",\n        }],\n [{\n            'v': 9,\n            'f': \"9\",\n        },\n{\n            'v': 9,\n            'f': \"9\",\n        },\n{\n            'v': 3.53233830845771,\n            'f': \"3.53233830845771\",\n        },\n{\n            'v': 2100.0,\n            'f': \"2100.0\",\n        },\n{\n            'v': 1421.0,\n            'f': \"1421.0\",\n        },\n{\n            'v': 129.0,\n            'f': \"129.0\",\n        },\n{\n            'v': 21.25,\n            'f': \"21.25\",\n        },\n{\n            'v': 300.0,\n            'f': \"300.0\",\n        },\n{\n            'v': 1010.0,\n            'f': \"1010.0\",\n        },\n{\n            'v': 78.0,\n            'f': \"78.0\",\n        },\n{\n            'v': 2000.0,\n            'f': \"2000.0\",\n        },\n{\n            'v': 300.0,\n            'f': \"300.0\",\n        }],\n [{\n            'v': 10,\n            'f': \"10\",\n        },\n{\n            'v': 10,\n            'f': \"10\",\n        },\n{\n            'v': 2.91967783631954,\n            'f': \"2.91967783631954\",\n        },\n{\n            'v': 2160.0,\n            'f': \"2160.0\",\n        },\n{\n            'v': 933.0,\n            'f': \"933.0\",\n        },\n{\n            'v': 129.0,\n            'f': \"129.0\",\n        },\n{\n            'v': 21.25,\n            'f': \"21.25\",\n        },\n{\n            'v': 300.0,\n            'f': \"300.0\",\n        },\n{\n            'v': 1010.0,\n            'f': \"1010.0\",\n        },\n{\n            'v': 78.0,\n            'f': \"78.0\",\n        },\n{\n            'v': 2000.0,\n            'f': \"2000.0\",\n        },\n{\n            'v': 300.0,\n            'f': \"300.0\",\n        }],\n [{\n            'v': 11,\n            'f': \"11\",\n        },\n{\n            'v': 11,\n            'f': \"11\",\n        },\n{\n            'v': 2.87735849056603,\n            'f': \"2.87735849056603\",\n        },\n{\n            'v': 1990.0,\n            'f': \"1990.0\",\n        },\n{\n            'v': 1628.0,\n            'f': \"1628.0\",\n        },\n{\n            'v': 129.0,\n            'f': \"129.0\",\n        },\n{\n            'v': 21.25,\n            'f': \"21.25\",\n        },\n{\n            'v': 300.0,\n            'f': \"300.0\",\n        },\n{\n            'v': 1010.0,\n            'f': \"1010.0\",\n        },\n{\n            'v': 78.0,\n            'f': \"78.0\",\n        },\n{\n            'v': 2000.0,\n            'f': \"2000.0\",\n        },\n{\n            'v': 300.0,\n            'f': \"300.0\",\n        }],\n [{\n            'v': 12,\n            'f': \"12\",\n        },\n{\n            'v': 12,\n            'f': \"12\",\n        },\n{\n            'v': 1.59817351598173,\n            'f': \"1.59817351598173\",\n        },\n{\n            'v': 1950.0,\n            'f': \"1950.0\",\n        },\n{\n            'v': 827.0,\n            'f': \"827.0\",\n        },\n{\n            'v': 129.0,\n            'f': \"129.0\",\n        },\n{\n            'v': 21.25,\n            'f': \"21.25\",\n        },\n{\n            'v': 300.0,\n            'f': \"300.0\",\n        },\n{\n            'v': 470.0,\n            'f': \"470.0\",\n        },\n{\n            'v': 73.3333333333333,\n            'f': \"73.3333333333333\",\n        },\n{\n            'v': 2455.55555555555,\n            'f': \"2455.55555555555\",\n        },\n{\n            'v': 220.0,\n            'f': \"220.0\",\n        }],\n [{\n            'v': 13,\n            'f': \"13\",\n        },\n{\n            'v': 13,\n            'f': \"13\",\n        },\n{\n            'v': 2.91967783631954,\n            'f': \"2.91967783631954\",\n        },\n{\n            'v': 1980.0,\n            'f': \"1980.0\",\n        },\n{\n            'v': 568.0,\n            'f': \"568.0\",\n        },\n{\n            'v': 129.0,\n            'f': \"129.0\",\n        },\n{\n            'v': 21.25,\n            'f': \"21.25\",\n        },\n{\n            'v': 300.0,\n            'f': \"300.0\",\n        },\n{\n            'v': 470.0,\n            'f': \"470.0\",\n        },\n{\n            'v': 73.3333333333333,\n            'f': \"73.3333333333333\",\n        },\n{\n            'v': 2455.55555555555,\n            'f': \"2455.55555555555\",\n        },\n{\n            'v': 220.0,\n            'f': \"220.0\",\n        }],\n [{\n            'v': 14,\n            'f': \"14\",\n        },\n{\n            'v': 14,\n            'f': \"14\",\n        },\n{\n            'v': 4.02912621359223,\n            'f': \"4.02912621359223\",\n        },\n{\n            'v': 1910.0,\n            'f': \"1910.0\",\n        },\n{\n            'v': 800.0,\n            'f': \"800.0\",\n        },\n{\n            'v': 129.0,\n            'f': \"129.0\",\n        },\n{\n            'v': 21.25,\n            'f': \"21.25\",\n        },\n{\n            'v': 300.0,\n            'f': \"300.0\",\n        },\n{\n            'v': 470.0,\n            'f': \"470.0\",\n        },\n{\n            'v': 73.3333333333333,\n            'f': \"73.3333333333333\",\n        },\n{\n            'v': 2455.55555555555,\n            'f': \"2455.55555555555\",\n        },\n{\n            'v': 220.0,\n            'f': \"220.0\",\n        }],\n [{\n            'v': 15,\n            'f': \"15\",\n        },\n{\n            'v': 15,\n            'f': \"15\",\n        },\n{\n            'v': 2.93478260869565,\n            'f': \"2.93478260869565\",\n        },\n{\n            'v': 2030.0,\n            'f': \"2030.0\",\n        },\n{\n            'v': 302.0,\n            'f': \"302.0\",\n        },\n{\n            'v': 129.0,\n            'f': \"129.0\",\n        },\n{\n            'v': 21.25,\n            'f': \"21.25\",\n        },\n{\n            'v': 300.0,\n            'f': \"300.0\",\n        },\n{\n            'v': 210.0,\n            'f': \"210.0\",\n        },\n{\n            'v': 70.0,\n            'f': \"70.0\",\n        },\n{\n            'v': 3000.0,\n            'f': \"3000.0\",\n        },\n{\n            'v': 220.0,\n            'f': \"220.0\",\n        }],\n [{\n            'v': 16,\n            'f': \"16\",\n        },\n{\n            'v': 16,\n            'f': \"16\",\n        },\n{\n            'v': 3.55701754385964,\n            'f': \"3.55701754385964\",\n        },\n{\n            'v': 1880.0,\n            'f': \"1880.0\",\n        },\n{\n            'v': 313.0,\n            'f': \"313.0\",\n        },\n{\n            'v': 129.0,\n            'f': \"129.0\",\n        },\n{\n            'v': 21.25,\n            'f': \"21.25\",\n        },\n{\n            'v': 300.0,\n            'f': \"300.0\",\n        },\n{\n            'v': 210.0,\n            'f': \"210.0\",\n        },\n{\n            'v': 70.0,\n            'f': \"70.0\",\n        },\n{\n            'v': 3000.0,\n            'f': \"3000.0\",\n        },\n{\n            'v': 220.0,\n            'f': \"220.0\",\n        }],\n [{\n            'v': 17,\n            'f': \"17\",\n        },\n{\n            'v': 17,\n            'f': \"17\",\n        },\n{\n            'v': 4.19354838709677,\n            'f': \"4.19354838709677\",\n        },\n{\n            'v': 1950.0,\n            'f': \"1950.0\",\n        },\n{\n            'v': 506.0,\n            'f': \"506.0\",\n        },\n{\n            'v': 129.0,\n            'f': \"129.0\",\n        },\n{\n            'v': 21.25,\n            'f': \"21.25\",\n        },\n{\n            'v': 300.0,\n            'f': \"300.0\",\n        },\n{\n            'v': 380.0,\n            'f': \"380.0\",\n        },\n{\n            'v': 75.0,\n            'f': \"75.0\",\n        },\n{\n            'v': 1800.0,\n            'f': \"1800.0\",\n        },\n{\n            'v': 120.0,\n            'f': \"120.0\",\n        }],\n [{\n            'v': 18,\n            'f': \"18\",\n        },\n{\n            'v': 18,\n            'f': \"18\",\n        },\n{\n            'v': 4.89795918367346,\n            'f': \"4.89795918367346\",\n        },\n{\n            'v': 1890.0,\n            'f': \"1890.0\",\n        },\n{\n            'v': 540.0,\n            'f': \"540.0\",\n        },\n{\n            'v': 129.0,\n            'f': \"129.0\",\n        },\n{\n            'v': 21.25,\n            'f': \"21.25\",\n        },\n{\n            'v': 300.0,\n            'f': \"300.0\",\n        },\n{\n            'v': 380.0,\n            'f': \"380.0\",\n        },\n{\n            'v': 75.0,\n            'f': \"75.0\",\n        },\n{\n            'v': 1800.0,\n            'f': \"1800.0\",\n        },\n{\n            'v': 120.0,\n            'f': \"120.0\",\n        }],\n [{\n            'v': 19,\n            'f': \"19\",\n        },\n{\n            'v': 19,\n            'f': \"19\",\n        },\n{\n            'v': 3.53233830845771,\n            'f': \"3.53233830845771\",\n        },\n{\n            'v': 1980.0,\n            'f': \"1980.0\",\n        },\n{\n            'v': 1183.0,\n            'f': \"1183.0\",\n        },\n{\n            'v': 111.86,\n            'f': \"111.86\",\n        },\n{\n            'v': 22.2678571428571,\n            'f': \"22.2678571428571\",\n        },\n{\n            'v': 284.615384615384,\n            'f': \"284.615384615384\",\n        },\n{\n            'v': 1010.0,\n            'f': \"1010.0\",\n        },\n{\n            'v': 78.0,\n            'f': \"78.0\",\n        },\n{\n            'v': 2000.0,\n            'f': \"2000.0\",\n        },\n{\n            'v': 300.0,\n            'f': \"300.0\",\n        }],\n [{\n            'v': 20,\n            'f': \"20\",\n        },\n{\n            'v': 20,\n            'f': \"20\",\n        },\n{\n            'v': 2.87735849056603,\n            'f': \"2.87735849056603\",\n        },\n{\n            'v': 2000.0,\n            'f': \"2000.0\",\n        },\n{\n            'v': 205.0,\n            'f': \"205.0\",\n        },\n{\n            'v': 111.86,\n            'f': \"111.86\",\n        },\n{\n            'v': 22.2678571428571,\n            'f': \"22.2678571428571\",\n        },\n{\n            'v': 284.615384615384,\n            'f': \"284.615384615384\",\n        },\n{\n            'v': 1010.0,\n            'f': \"1010.0\",\n        },\n{\n            'v': 78.0,\n            'f': \"78.0\",\n        },\n{\n            'v': 2000.0,\n            'f': \"2000.0\",\n        },\n{\n            'v': 300.0,\n            'f': \"300.0\",\n        }],\n [{\n            'v': 21,\n            'f': \"21\",\n        },\n{\n            'v': 21,\n            'f': \"21\",\n        },\n{\n            'v': 1.59817351598173,\n            'f': \"1.59817351598173\",\n        },\n{\n            'v': 1920.0,\n            'f': \"1920.0\",\n        },\n{\n            'v': 456.0,\n            'f': \"456.0\",\n        },\n{\n            'v': 111.86,\n            'f': \"111.86\",\n        },\n{\n            'v': 22.2678571428571,\n            'f': \"22.2678571428571\",\n        },\n{\n            'v': 284.615384615384,\n            'f': \"284.615384615384\",\n        },\n{\n            'v': 470.0,\n            'f': \"470.0\",\n        },\n{\n            'v': 73.3333333333333,\n            'f': \"73.3333333333333\",\n        },\n{\n            'v': 2455.55555555555,\n            'f': \"2455.55555555555\",\n        },\n{\n            'v': 220.0,\n            'f': \"220.0\",\n        }],\n [{\n            'v': 22,\n            'f': \"22\",\n        },\n{\n            'v': 22,\n            'f': \"22\",\n        },\n{\n            'v': 4.02912621359223,\n            'f': \"4.02912621359223\",\n        },\n{\n            'v': 1880.0,\n            'f': \"1880.0\",\n        },\n{\n            'v': 622.0,\n            'f': \"622.0\",\n        },\n{\n            'v': 111.86,\n            'f': \"111.86\",\n        },\n{\n            'v': 22.2678571428571,\n            'f': \"22.2678571428571\",\n        },\n{\n            'v': 284.615384615384,\n            'f': \"284.615384615384\",\n        },\n{\n            'v': 470.0,\n            'f': \"470.0\",\n        },\n{\n            'v': 73.3333333333333,\n            'f': \"73.3333333333333\",\n        },\n{\n            'v': 2455.55555555555,\n            'f': \"2455.55555555555\",\n        },\n{\n            'v': 220.0,\n            'f': \"220.0\",\n        }],\n [{\n            'v': 23,\n            'f': \"23\",\n        },\n{\n            'v': 23,\n            'f': \"23\",\n        },\n{\n            'v': 2.58734764319625,\n            'f': \"2.58734764319625\",\n        },\n{\n            'v': 1953.27492638743,\n            'f': \"1953.27492638743\",\n        },\n{\n            'v': 1136.59613462105,\n            'f': \"1136.59613462105\",\n        },\n{\n            'v': 137.62741961242,\n            'f': \"137.62741961242\",\n        },\n{\n            'v': 22.3445335715259,\n            'f': \"22.3445335715259\",\n        },\n{\n            'v': 234.716882964809,\n            'f': \"234.716882964809\",\n        },\n{\n            'v': 555.893453315223,\n            'f': \"555.893453315223\",\n        },\n{\n            'v': 80.8032217605356,\n            'f': \"80.8032217605356\",\n        },\n{\n            'v': 2587.34298289064,\n            'f': \"2587.34298289064\",\n        },\n{\n            'v': 246.613116536634,\n            'f': \"246.613116536634\",\n        }],\n [{\n            'v': 24,\n            'f': \"24\",\n        },\n{\n            'v': 24,\n            'f': \"24\",\n        },\n{\n            'v': 2.49991792788794,\n            'f': \"2.49991792788794\",\n        },\n{\n            'v': 1942.59577668332,\n            'f': \"1942.59577668332\",\n        },\n{\n            'v': 901.51994673357,\n            'f': \"901.51994673357\",\n        },\n{\n            'v': 146.252207766867,\n            'f': \"146.252207766867\",\n        },\n{\n            'v': 23.0817574798037,\n            'f': \"23.0817574798037\",\n        },\n{\n            'v': 351.231873967312,\n            'f': \"351.231873967312\",\n        },\n{\n            'v': 864.725483802792,\n            'f': \"864.725483802792\",\n        },\n{\n            'v': 76.1780750811993,\n            'f': \"76.1780750811993\",\n        },\n{\n            'v': 3705.67252336168,\n            'f': \"3705.67252336168\",\n        },\n{\n            'v': 226.222760364565,\n            'f': \"226.222760364565\",\n        }],\n [{\n            'v': 25,\n            'f': \"25\",\n        },\n{\n            'v': 25,\n            'f': \"25\",\n        },\n{\n            'v': 2.04647146357792,\n            'f': \"2.04647146357792\",\n        },\n{\n            'v': 2037.63181118987,\n            'f': \"2037.63181118987\",\n        },\n{\n            'v': 707.570887009741,\n            'f': \"707.570887009741\",\n        },\n{\n            'v': 101.617251334785,\n            'f': \"101.617251334785\",\n        },\n{\n            'v': 23.146392813099,\n            'f': \"23.146392813099\",\n        },\n{\n            'v': 312.307205242628,\n            'f': \"312.307205242628\",\n        },\n{\n            'v': 547.601218644053,\n            'f': \"547.601218644053\",\n        },\n{\n            'v': 73.8170666194231,\n            'f': \"73.8170666194231\",\n        },\n{\n            'v': 2624.02640716719,\n            'f': \"2624.02640716719\",\n        },\n{\n            'v': 178.198555892297,\n            'f': \"178.198555892297\",\n        }],\n [{\n            'v': 26,\n            'f': \"26\",\n        },\n{\n            'v': 26,\n            'f': \"26\",\n        },\n{\n            'v': 1.85647616956086,\n            'f': \"1.85647616956086\",\n        },\n{\n            'v': 2018.22033158733,\n            'f': \"2018.22033158733\",\n        },\n{\n            'v': 836.294381561619,\n            'f': \"836.294381561619\",\n        },\n{\n            'v': 135.401696554643,\n            'f': \"135.401696554643\",\n        },\n{\n            'v': 26.4355145955444,\n            'f': \"26.4355145955444\",\n        },\n{\n            'v': 327.51037669861,\n            'f': \"327.51037669861\",\n        },\n{\n            'v': 150.961448500303,\n            'f': \"150.961448500303\",\n        },\n{\n            'v': 77.210761575252,\n            'f': \"77.210761575252\",\n        },\n{\n            'v': 2473.18719456744,\n            'f': \"2473.18719456744\",\n        },\n{\n            'v': 123.34456143249,\n            'f': \"123.34456143249\",\n        }],\n [{\n            'v': 27,\n            'f': \"27\",\n        },\n{\n            'v': 27,\n            'f': \"27\",\n        },\n{\n            'v': 3.3055354218421,\n            'f': \"3.3055354218421\",\n        },\n{\n            'v': 1917.90750636706,\n            'f': \"1917.90750636706\",\n        },\n{\n            'v': 478.286247339653,\n            'f': \"478.286247339653\",\n        },\n{\n            'v': 105.786929571358,\n            'f': \"105.786929571358\",\n        },\n{\n            'v': 17.8740999097888,\n            'f': \"17.8740999097888\",\n        },\n{\n            'v': 328.15457946162,\n            'f': \"328.15457946162\",\n        },\n{\n            'v': 526.692159405927,\n            'f': \"526.692159405927\",\n        },\n{\n            'v': 72.3457087941471,\n            'f': \"72.3457087941471\",\n        },\n{\n            'v': 3059.03299121234,\n            'f': \"3059.03299121234\",\n        },\n{\n            'v': 275.5758795221,\n            'f': \"275.5758795221\",\n        }],\n [{\n            'v': 28,\n            'f': \"28\",\n        },\n{\n            'v': 28,\n            'f': \"28\",\n        },\n{\n            'v': 2.70955409454249,\n            'f': \"2.70955409454249\",\n        },\n{\n            'v': 1892.07112380677,\n            'f': \"1892.07112380677\",\n        },\n{\n            'v': 641.052549404649,\n            'f': \"641.052549404649\",\n        },\n{\n            'v': 96.5632931903446,\n            'f': \"96.5632931903446\",\n        },\n{\n            'v': 22.9892905613243,\n            'f': \"22.9892905613243\",\n        },\n{\n            'v': 262.956721990283,\n            'f': \"262.956721990283\",\n        },\n{\n            'v': 804.59262075019,\n            'f': \"804.59262075019\",\n        },\n{\n            'v': 74.511359223088,\n            'f': \"74.511359223088\",\n        },\n{\n            'v': 2288.96737657892,\n            'f': \"2288.96737657892\",\n        },\n{\n            'v': 126.816338870833,\n            'f': \"126.816338870833\",\n        }],\n [{\n            'v': 29,\n            'f': \"29\",\n        },\n{\n            'v': 29,\n            'f': \"29\",\n        },\n{\n            'v': 2.28282531370928,\n            'f': \"2.28282531370928\",\n        },\n{\n            'v': 2008.35759183338,\n            'f': \"2008.35759183338\",\n        },\n{\n            'v': 393.967325455383,\n            'f': \"393.967325455383\",\n        },\n{\n            'v': 149.372832370371,\n            'f': \"149.372832370371\",\n        },\n{\n            'v': 21.6617506765061,\n            'f': \"21.6617506765061\",\n        },\n{\n            'v': 330.498640996826,\n            'f': \"330.498640996826\",\n        },\n{\n            'v': 535.371459116834,\n            'f': \"535.371459116834\",\n        },\n{\n            'v': 72.2449240783816,\n            'f': \"72.2449240783816\",\n        },\n{\n            'v': 2704.44508096151,\n            'f': \"2704.44508096151\",\n        },\n{\n            'v': 261.077071612965,\n            'f': \"261.077071612965\",\n        }],\n [{\n            'v': 30,\n            'f': \"30\",\n        },\n{\n            'v': 30,\n            'f': \"30\",\n        },\n{\n            'v': 1.97814017317886,\n            'f': \"1.97814017317886\",\n        },\n{\n            'v': 1973.62909661136,\n            'f': \"1973.62909661136\",\n        },\n{\n            'v': 991.724094559311,\n            'f': \"991.724094559311\",\n        },\n{\n            'v': 149.372127890098,\n            'f': \"149.372127890098\",\n        },\n{\n            'v': 19.750577886982,\n            'f': \"19.750577886982\",\n        },\n{\n            'v': 232.058191344622,\n            'f': \"232.058191344622\",\n        },\n{\n            'v': 485.45377805732,\n            'f': \"485.45377805732\",\n        },\n{\n            'v': 75.6657005566096,\n            'f': \"75.6657005566096\",\n        },\n{\n            'v': 2448.94307925134,\n            'f': \"2448.94307925134\",\n        },\n{\n            'v': 162.493693621344,\n            'f': \"162.493693621344\",\n        }],\n [{\n            'v': 31,\n            'f': \"31\",\n        },\n{\n            'v': 31,\n            'f': \"31\",\n        },\n{\n            'v': 1.77143639306974,\n            'f': \"1.77143639306974\",\n        },\n{\n            'v': 1872.49155988411,\n            'f': \"1872.49155988411\",\n        },\n{\n            'v': 801.033882540326,\n            'f': \"801.033882540326\",\n        },\n{\n            'v': 79.7945478731184,\n            'f': \"79.7945478731184\",\n        },\n{\n            'v': 22.2963037219206,\n            'f': \"22.2963037219206\",\n        },\n{\n            'v': 340.736898443345,\n            'f': \"340.736898443345\",\n        },\n{\n            'v': 864.929183708856,\n            'f': \"864.929183708856\",\n        },\n{\n            'v': 70.9475915609757,\n            'f': \"70.9475915609757\",\n        },\n{\n            'v': 2796.78540176497,\n            'f': \"2796.78540176497\",\n        },\n{\n            'v': 123.356264267511,\n            'f': \"123.356264267511\",\n        }],\n [{\n            'v': 32,\n            'f': \"32\",\n        },\n{\n            'v': 32,\n            'f': \"32\",\n        },\n{\n            'v': 3.27708698694618,\n            'f': \"3.27708698694618\",\n        },\n{\n            'v': 2010.04701192391,\n            'f': \"2010.04701192391\",\n        },\n{\n            'v': 339.550422757456,\n            'f': \"339.550422757456\",\n        },\n{\n            'v': 67.4989930617371,\n            'f': \"67.4989930617371\",\n        },\n{\n            'v': 24.2806090209505,\n            'f': \"24.2806090209505\",\n        },\n{\n            'v': 254.949083669843,\n            'f': \"254.949083669843\",\n        },\n{\n            'v': 117.535234207925,\n            'f': \"117.535234207925\",\n        },\n{\n            'v': 67.4787066266392,\n            'f': \"67.4787066266392\",\n        },\n{\n            'v': 2462.60538586832,\n            'f': \"2462.60538586832\",\n        },\n{\n            'v': 207.018581295981,\n            'f': \"207.018581295981\",\n        }],\n [{\n            'v': 33,\n            'f': \"33\",\n        },\n{\n            'v': 33,\n            'f': \"33\",\n        },\n{\n            'v': 2.98436222584574,\n            'f': \"2.98436222584574\",\n        },\n{\n            'v': 1912.31543664458,\n            'f': \"1912.31543664458\",\n        },\n{\n            'v': 1183.09184548451,\n            'f': \"1183.09184548451\",\n        },\n{\n            'v': 133.549000743282,\n            'f': \"133.549000743282\",\n        },\n{\n            'v': 23.2637965673584,\n            'f': \"23.2637965673584\",\n        },\n{\n            'v': 314.996125461987,\n            'f': \"314.996125461987\",\n        },\n{\n            'v': 377.389009428455,\n            'f': \"377.389009428455\",\n        },\n{\n            'v': 75.2904522177158,\n            'f': \"75.2904522177158\",\n        },\n{\n            'v': 2303.7706561607,\n            'f': \"2303.7706561607\",\n        },\n{\n            'v': 200.580249351275,\n            'f': \"200.580249351275\",\n        }],\n [{\n            'v': 34,\n            'f': \"34\",\n        },\n{\n            'v': 34,\n            'f': \"34\",\n        },\n{\n            'v': 2.91614962097909,\n            'f': \"2.91614962097909\",\n        },\n{\n            'v': 1879.9698456543,\n            'f': \"1879.9698456543\",\n        },\n{\n            'v': 1003.27017753553,\n            'f': \"1003.27017753553\",\n        },\n{\n            'v': 109.239530469489,\n            'f': \"109.239530469489\",\n        },\n{\n            'v': 25.6827594776929,\n            'f': \"25.6827594776929\",\n        },\n{\n            'v': 294.048536607078,\n            'f': \"294.048536607078\",\n        },\n{\n            'v': 408.354239337243,\n            'f': \"408.354239337243\",\n        },\n{\n            'v': 71.7008556184055,\n            'f': \"71.7008556184055\",\n        },\n{\n            'v': 3086.54619576288,\n            'f': \"3086.54619576288\",\n        },\n{\n            'v': 192.191162092306,\n            'f': \"192.191162092306\",\n        }],\n [{\n            'v': 35,\n            'f': \"35\",\n        },\n{\n            'v': 35,\n            'f': \"35\",\n        },\n{\n            'v': 3.24761721067416,\n            'f': \"3.24761721067416\",\n        },\n{\n            'v': 1813.23459997756,\n            'f': \"1813.23459997756\",\n        },\n{\n            'v': 757.874478991465,\n            'f': \"757.874478991465\",\n        },\n{\n            'v': 81.3798708371328,\n            'f': \"81.3798708371328\",\n        },\n{\n            'v': 23.4224652380694,\n            'f': \"23.4224652380694\",\n        },\n{\n            'v': 279.080157491732,\n            'f': \"279.080157491732\",\n        },\n{\n            'v': 575.062857120828,\n            'f': \"575.062857120828\",\n        },\n{\n            'v': 69.341132877179,\n            'f': \"69.341132877179\",\n        },\n{\n            'v': 3188.13635771731,\n            'f': \"3188.13635771731\",\n        },\n{\n            'v': 252.87056880778,\n            'f': \"252.87056880778\",\n        }],\n [{\n            'v': 36,\n            'f': \"36\",\n        },\n{\n            'v': 36,\n            'f': \"36\",\n        },\n{\n            'v': 2.42387567266603,\n            'f': \"2.42387567266603\",\n        },\n{\n            'v': 1908.94060108184,\n            'f': \"1908.94060108184\",\n        },\n{\n            'v': 530.228686361803,\n            'f': \"530.228686361803\",\n        },\n{\n            'v': 58.2624142792189,\n            'f': \"58.2624142792189\",\n        },\n{\n            'v': 24.0735492275228,\n            'f': \"24.0735492275228\",\n        },\n{\n            'v': 325.138687978497,\n            'f': \"325.138687978497\",\n        },\n{\n            'v': 456.90804669773,\n            'f': \"456.90804669773\",\n        },\n{\n            'v': 74.2443541741854,\n            'f': \"74.2443541741854\",\n        },\n{\n            'v': 1890.50580698778,\n            'f': \"1890.50580698778\",\n        },\n{\n            'v': 222.699487259763,\n            'f': \"222.699487259763\",\n        }],\n [{\n            'v': 37,\n            'f': \"37\",\n        },\n{\n            'v': 37,\n            'f': \"37\",\n        },\n{\n            'v': 5.09899308958125,\n            'f': \"5.09899308958125\",\n        },\n{\n            'v': 1977.33904724926,\n            'f': \"1977.33904724926\",\n        },\n{\n            'v': 1572.09604227992,\n            'f': \"1572.09604227992\",\n        },\n{\n            'v': 132.343059816683,\n            'f': \"132.343059816683\",\n        },\n{\n            'v': 25.3970009790122,\n            'f': \"25.3970009790122\",\n        },\n{\n            'v': 286.55643085455,\n            'f': \"286.55643085455\",\n        },\n{\n            'v': 690.364835735948,\n            'f': \"690.364835735948\",\n        },\n{\n            'v': 72.3416397334948,\n            'f': \"72.3416397334948\",\n        },\n{\n            'v': 1386.57897293013,\n            'f': \"1386.57897293013\",\n        },\n{\n            'v': 271.901393688095,\n            'f': \"271.901393688095\",\n        }],\n [{\n            'v': 38,\n            'f': \"38\",\n        },\n{\n            'v': 38,\n            'f': \"38\",\n        },\n{\n            'v': 2.44417698589548,\n            'f': \"2.44417698589548\",\n        },\n{\n            'v': 2085.49583722341,\n            'f': \"2085.49583722341\",\n        },\n{\n            'v': 931.310636063099,\n            'f': \"931.310636063099\",\n        },\n{\n            'v': 110.564839894065,\n            'f': \"110.564839894065\",\n        },\n{\n            'v': 23.4871397611806,\n            'f': \"23.4871397611806\",\n        },\n{\n            'v': 270.286765096589,\n            'f': \"270.286765096589\",\n        },\n{\n            'v': 278.230020274264,\n            'f': \"278.230020274264\",\n        },\n{\n            'v': 71.4790604659631,\n            'f': \"71.4790604659631\",\n        },\n{\n            'v': 2740.22963128366,\n            'f': \"2740.22963128366\",\n        },\n{\n            'v': 187.861372739767,\n            'f': \"187.861372739767\",\n        }],\n [{\n            'v': 39,\n            'f': \"39\",\n        },\n{\n            'v': 39,\n            'f': \"39\",\n        },\n{\n            'v': 2.66769692914197,\n            'f': \"2.66769692914197\",\n        },\n{\n            'v': 2078.89467612972,\n            'f': \"2078.89467612972\",\n        },\n{\n            'v': 1542.1684576617,\n            'f': \"1542.1684576617\",\n        },\n{\n            'v': 132.147403310926,\n            'f': \"132.147403310926\",\n        },\n{\n            'v': 22.6501091996101,\n            'f': \"22.6501091996101\",\n        },\n{\n            'v': 357.972896225409,\n            'f': \"357.972896225409\",\n        },\n{\n            'v': 787.299217034787,\n            'f': \"787.299217034787\",\n        },\n{\n            'v': 76.4717884703426,\n            'f': \"76.4717884703426\",\n        },\n{\n            'v': 2559.64304741812,\n            'f': \"2559.64304741812\",\n        },\n{\n            'v': 163.902778015018,\n            'f': \"163.902778015018\",\n        }],\n [{\n            'v': 40,\n            'f': \"40\",\n        },\n{\n            'v': 40,\n            'f': \"40\",\n        },\n{\n            'v': 3.03439948276313,\n            'f': \"3.03439948276313\",\n        },\n{\n            'v': 1968.40138797479,\n            'f': \"1968.40138797479\",\n        },\n{\n            'v': 455.87101881671,\n            'f': \"455.87101881671\",\n        },\n{\n            'v': 61.4212965247638,\n            'f': \"61.4212965247638\",\n        },\n{\n            'v': 23.4907229119055,\n            'f': \"23.4907229119055\",\n        },\n{\n            'v': 316.414572148037,\n            'f': \"316.414572148037\",\n        },\n{\n            'v': 637.376892656562,\n            'f': \"637.376892656562\",\n        },\n{\n            'v': 75.0903717369656,\n            'f': \"75.0903717369656\",\n        },\n{\n            'v': 2848.49007846398,\n            'f': \"2848.49007846398\",\n        },\n{\n            'v': 311.052397919637,\n            'f': \"311.052397919637\",\n        }],\n [{\n            'v': 41,\n            'f': \"41\",\n        },\n{\n            'v': 41,\n            'f': \"41\",\n        },\n{\n            'v': 2.46520497109548,\n            'f': \"2.46520497109548\",\n        },\n{\n            'v': 1936.09913728867,\n            'f': \"1936.09913728867\",\n        },\n{\n            'v': 1056.55498512092,\n            'f': \"1056.55498512092\",\n        },\n{\n            'v': 71.2940582201344,\n            'f': \"71.2940582201344\",\n        },\n{\n            'v': 24.5233806974229,\n            'f': \"24.5233806974229\",\n        },\n{\n            'v': 271.975678290965,\n            'f': \"271.975678290965\",\n        },\n{\n            'v': 129.0771628561,\n            'f': \"129.0771628561\",\n        },\n{\n            'v': 66.4207943619588,\n            'f': \"66.4207943619588\",\n        },\n{\n            'v': 2868.58652722703,\n            'f': \"2868.58652722703\",\n        },\n{\n            'v': 227.02255734554,\n            'f': \"227.02255734554\",\n        }],\n [{\n            'v': 42,\n            'f': \"42\",\n        },\n{\n            'v': 42,\n            'f': \"42\",\n        },\n{\n            'v': 2.66438864884511,\n            'f': \"2.66438864884511\",\n        },\n{\n            'v': 1996.15914531562,\n            'f': \"1996.15914531562\",\n        },\n{\n            'v': 525.05777410666,\n            'f': \"525.05777410666\",\n        },\n{\n            'v': 77.506882539453,\n            'f': \"77.506882539453\",\n        },\n{\n            'v': 18.1261070575147,\n            'f': \"18.1261070575147\",\n        },\n{\n            'v': 223.408685433481,\n            'f': \"223.408685433481\",\n        },\n{\n            'v': 28.6581023413458,\n            'f': \"28.6581023413458\",\n        },\n{\n            'v': 69.4897734806242,\n            'f': \"69.4897734806242\",\n        },\n{\n            'v': 2220.58744458909,\n            'f': \"2220.58744458909\",\n        },\n{\n            'v': 314.776668711928,\n            'f': \"314.776668711928\",\n        }],\n [{\n            'v': 43,\n            'f': \"43\",\n        },\n{\n            'v': 43,\n            'f': \"43\",\n        },\n{\n            'v': 1.19352958197572,\n            'f': \"1.19352958197572\",\n        },\n{\n            'v': 1965.92922694261,\n            'f': \"1965.92922694261\",\n        },\n{\n            'v': 899.603701021752,\n            'f': \"899.603701021752\",\n        },\n{\n            'v': 102.959068581182,\n            'f': \"102.959068581182\",\n        },\n{\n            'v': 19.5667162363837,\n            'f': \"19.5667162363837\",\n        },\n{\n            'v': 225.810222871408,\n            'f': \"225.810222871408\",\n        },\n{\n            'v': 871.088954822428,\n            'f': \"871.088954822428\",\n        },\n{\n            'v': 73.4546945165033,\n            'f': \"73.4546945165033\",\n        },\n{\n            'v': 2335.54179171276,\n            'f': \"2335.54179171276\",\n        },\n{\n            'v': 91.047646334499,\n            'f': \"91.047646334499\",\n        }],\n [{\n            'v': 44,\n            'f': \"44\",\n        },\n{\n            'v': 44,\n            'f': \"44\",\n        },\n{\n            'v': 2.91433327547696,\n            'f': \"2.91433327547696\",\n        },\n{\n            'v': 2049.3734037036,\n            'f': \"2049.3734037036\",\n        },\n{\n            'v': 382.263358534453,\n            'f': \"382.263358534453\",\n        },\n{\n            'v': 81.3520473688647,\n            'f': \"81.3520473688647\",\n        },\n{\n            'v': 16.3915947268609,\n            'f': \"16.3915947268609\",\n        },\n{\n            'v': 233.296062693547,\n            'f': \"233.296062693547\",\n        },\n{\n            'v': 561.992130838731,\n            'f': \"561.992130838731\",\n        },\n{\n            'v': 69.8146151618113,\n            'f': \"69.8146151618113\",\n        },\n{\n            'v': 2262.78436556029,\n            'f': \"2262.78436556029\",\n        },\n{\n            'v': 303.075452369361,\n            'f': \"303.075452369361\",\n        }],\n [{\n            'v': 45,\n            'f': \"45\",\n        },\n{\n            'v': 45,\n            'f': \"45\",\n        },\n{\n            'v': 4.31566578217077,\n            'f': \"4.31566578217077\",\n        },\n{\n            'v': 1913.37967697839,\n            'f': \"1913.37967697839\",\n        },\n{\n            'v': 822.9187354835,\n            'f': \"822.9187354835\",\n        },\n{\n            'v': 143.576937132067,\n            'f': \"143.576937132067\",\n        },\n{\n            'v': 24.2755880964038,\n            'f': \"24.2755880964038\",\n        },\n{\n            'v': 274.988794415536,\n            'f': \"274.988794415536\",\n        },\n{\n            'v': 260.859341082141,\n            'f': \"260.859341082141\",\n        },\n{\n            'v': 75.9573285670879,\n            'f': \"75.9573285670879\",\n        },\n{\n            'v': 1639.91252544902,\n            'f': \"1639.91252544902\",\n        },\n{\n            'v': 248.244329856063,\n            'f': \"248.244329856063\",\n        }],\n [{\n            'v': 46,\n            'f': \"46\",\n        },\n{\n            'v': 46,\n            'f': \"46\",\n        },\n{\n            'v': 2.33842428819444,\n            'f': \"2.33842428819444\",\n        },\n{\n            'v': 1963.35156013111,\n            'f': \"1963.35156013111\",\n        },\n{\n            'v': 1155.16050409361,\n            'f': \"1155.16050409361\",\n        },\n{\n            'v': 150.015829771817,\n            'f': \"150.015829771817\",\n        },\n{\n            'v': 18.2994213764344,\n            'f': \"18.2994213764344\",\n        },\n{\n            'v': 315.904178072587,\n            'f': \"315.904178072587\",\n        },\n{\n            'v': 644.363142054109,\n            'f': \"644.363142054109\",\n        },\n{\n            'v': 71.303989767743,\n            'f': \"71.303989767743\",\n        },\n{\n            'v': 3407.71358118161,\n            'f': \"3407.71358118161\",\n        },\n{\n            'v': 304.423274095783,\n            'f': \"304.423274095783\",\n        }],\n [{\n            'v': 47,\n            'f': \"47\",\n        },\n{\n            'v': 47,\n            'f': \"47\",\n        },\n{\n            'v': 1.29816724555935,\n            'f': \"1.29816724555935\",\n        },\n{\n            'v': 1984.51137289759,\n            'f': \"1984.51137289759\",\n        },\n{\n            'v': 1405.78682165894,\n            'f': \"1405.78682165894\",\n        },\n{\n            'v': 130.942797937247,\n            'f': \"130.942797937247\",\n        },\n{\n            'v': 21.8292399010645,\n            'f': \"21.8292399010645\",\n        },\n{\n            'v': 288.95209880887,\n            'f': \"288.95209880887\",\n        },\n{\n            'v': 161.007718499953,\n            'f': \"161.007718499953\",\n        },\n{\n            'v': 74.6809132551444,\n            'f': \"74.6809132551444\",\n        },\n{\n            'v': 2526.81425574501,\n            'f': \"2526.81425574501\",\n        },\n{\n            'v': 228.867719644237,\n            'f': \"228.867719644237\",\n        }],\n [{\n            'v': 48,\n            'f': \"48\",\n        },\n{\n            'v': 48,\n            'f': \"48\",\n        },\n{\n            'v': 2.13444614423682,\n            'f': \"2.13444614423682\",\n        },\n{\n            'v': 1986.34905262266,\n            'f': \"1986.34905262266\",\n        },\n{\n            'v': 809.293803508733,\n            'f': \"809.293803508733\",\n        },\n{\n            'v': 95.0890218408534,\n            'f': \"95.0890218408534\",\n        },\n{\n            'v': 19.3649257190022,\n            'f': \"19.3649257190022\",\n        },\n{\n            'v': 205.499760973999,\n            'f': \"205.499760973999\",\n        },\n{\n            'v': 196.357642664904,\n            'f': \"196.357642664904\",\n        },\n{\n            'v': 76.340207250164,\n            'f': \"76.340207250164\",\n        },\n{\n            'v': 2459.52452600309,\n            'f': \"2459.52452600309\",\n        },\n{\n            'v': 289.957141572361,\n            'f': \"289.957141572361\",\n        }],\n [{\n            'v': 49,\n            'f': \"49\",\n        },\n{\n            'v': 49,\n            'f': \"49\",\n        },\n{\n            'v': 4.14796643221644,\n            'f': \"4.14796643221644\",\n        },\n{\n            'v': 1991.78978866553,\n            'f': \"1991.78978866553\",\n        },\n{\n            'v': 1250.19827510079,\n            'f': \"1250.19827510079\",\n        },\n{\n            'v': 116.856462171446,\n            'f': \"116.856462171446\",\n        },\n{\n            'v': 21.5732649493152,\n            'f': \"21.5732649493152\",\n        },\n{\n            'v': 320.740172497546,\n            'f': \"320.740172497546\",\n        },\n{\n            'v': 755.500555164435,\n            'f': \"755.500555164435\",\n        },\n{\n            'v': 70.3554640267673,\n            'f': \"70.3554640267673\",\n        },\n{\n            'v': 1795.71935925029,\n            'f': \"1795.71935925029\",\n        },\n{\n            'v': 189.88330728957,\n            'f': \"189.88330728957\",\n        }],\n [{\n            'v': 50,\n            'f': \"50\",\n        },\n{\n            'v': 50,\n            'f': \"50\",\n        },\n{\n            'v': 3.05783014692351,\n            'f': \"3.05783014692351\",\n        },\n{\n            'v': 1987.25985886021,\n            'f': \"1987.25985886021\",\n        },\n{\n            'v': 403.395230243573,\n            'f': \"403.395230243573\",\n        },\n{\n            'v': 112.719826048096,\n            'f': \"112.719826048096\",\n        },\n{\n            'v': 19.3905110709324,\n            'f': \"19.3905110709324\",\n        },\n{\n            'v': 336.245383730252,\n            'f': \"336.245383730252\",\n        },\n{\n            'v': 352.831983527717,\n            'f': \"352.831983527717\",\n        },\n{\n            'v': 73.0164888868577,\n            'f': \"73.0164888868577\",\n        },\n{\n            'v': 2016.50363680435,\n            'f': \"2016.50363680435\",\n        },\n{\n            'v': 206.693378878874,\n            'f': \"206.693378878874\",\n        }],\n [{\n            'v': 51,\n            'f': \"51\",\n        },\n{\n            'v': 51,\n            'f': \"51\",\n        },\n{\n            'v': 4.18212858438216,\n            'f': \"4.18212858438216\",\n        },\n{\n            'v': 1940.73923718186,\n            'f': \"1940.73923718186\",\n        },\n{\n            'v': 347.991750411159,\n            'f': \"347.991750411159\",\n        },\n{\n            'v': 111.969772877024,\n            'f': \"111.969772877024\",\n        },\n{\n            'v': 18.8002833612162,\n            'f': \"18.8002833612162\",\n        },\n{\n            'v': 304.190488336488,\n            'f': \"304.190488336488\",\n        },\n{\n            'v': 229.928336911591,\n            'f': \"229.928336911591\",\n        },\n{\n            'v': 72.7694732165961,\n            'f': \"72.7694732165961\",\n        },\n{\n            'v': 2097.66945238521,\n            'f': \"2097.66945238521\",\n        },\n{\n            'v': 226.422645257059,\n            'f': \"226.422645257059\",\n        }],\n [{\n            'v': 52,\n            'f': \"52\",\n        },\n{\n            'v': 52,\n            'f': \"52\",\n        },\n{\n            'v': 1.84692315458134,\n            'f': \"1.84692315458134\",\n        },\n{\n            'v': 1956.0872973781,\n            'f': \"1956.0872973781\",\n        },\n{\n            'v': 622.7227580118,\n            'f': \"622.7227580118\",\n        },\n{\n            'v': 115.70972016857,\n            'f': \"115.70972016857\",\n        },\n{\n            'v': 21.0433175526934,\n            'f': \"21.0433175526934\",\n        },\n{\n            'v': 236.883671599211,\n            'f': \"236.883671599211\",\n        },\n{\n            'v': 393.39543680609,\n            'f': \"393.39543680609\",\n        },\n{\n            'v': 64.6964003954224,\n            'f': \"64.6964003954224\",\n        },\n{\n            'v': 2436.27365928317,\n            'f': \"2436.27365928317\",\n        },\n{\n            'v': 188.274123032686,\n            'f': \"188.274123032686\",\n        }],\n [{\n            'v': 53,\n            'f': \"53\",\n        },\n{\n            'v': 53,\n            'f': \"53\",\n        },\n{\n            'v': 1.30102504367318,\n            'f': \"1.30102504367318\",\n        },\n{\n            'v': 2057.93919253743,\n            'f': \"2057.93919253743\",\n        },\n{\n            'v': 939.859008839481,\n            'f': \"939.859008839481\",\n        },\n{\n            'v': 136.323974578022,\n            'f': \"136.323974578022\",\n        },\n{\n            'v': 23.3292718838398,\n            'f': \"23.3292718838398\",\n        },\n{\n            'v': 292.625715602231,\n            'f': \"292.625715602231\",\n        },\n{\n            'v': 523.847248646196,\n            'f': \"523.847248646196\",\n        },\n{\n            'v': 69.3828660743641,\n            'f': \"69.3828660743641\",\n        },\n{\n            'v': 2561.54464642705,\n            'f': \"2561.54464642705\",\n        },\n{\n            'v': 219.321971333448,\n            'f': \"219.321971333448\",\n        }],\n [{\n            'v': 54,\n            'f': \"54\",\n        },\n{\n            'v': 54,\n            'f': \"54\",\n        },\n{\n            'v': 3.63193481154382,\n            'f': \"3.63193481154382\",\n        },\n{\n            'v': 2065.51787986419,\n            'f': \"2065.51787986419\",\n        },\n{\n            'v': 553.620936055687,\n            'f': \"553.620936055687\",\n        },\n{\n            'v': 120.69587752402,\n            'f': \"120.69587752402\",\n        },\n{\n            'v': 24.431893660076,\n            'f': \"24.431893660076\",\n        },\n{\n            'v': 308.978564926445,\n            'f': \"308.978564926445\",\n        },\n{\n            'v': 234.16167437556,\n            'f': \"234.16167437556\",\n        },\n{\n            'v': 69.8021906297403,\n            'f': \"69.8021906297403\",\n        },\n{\n            'v': 2320.81868146872,\n            'f': \"2320.81868146872\",\n        },\n{\n            'v': 266.13830124966,\n            'f': \"266.13830124966\",\n        }],\n [{\n            'v': 55,\n            'f': \"55\",\n        },\n{\n            'v': 55,\n            'f': \"55\",\n        },\n{\n            'v': 3.95035176348501,\n            'f': \"3.95035176348501\",\n        },\n{\n            'v': 2078.08518958498,\n            'f': \"2078.08518958498\",\n        },\n{\n            'v': 578.472210127331,\n            'f': \"578.472210127331\",\n        },\n{\n            'v': 101.985372572233,\n            'f': \"101.985372572233\",\n        },\n{\n            'v': 23.5215700672067,\n            'f': \"23.5215700672067\",\n        },\n{\n            'v': 263.936794164664,\n            'f': \"263.936794164664\",\n        },\n{\n            'v': 200.970956298652,\n            'f': \"200.970956298652\",\n        },\n{\n            'v': 75.9294262403174,\n            'f': \"75.9294262403174\",\n        },\n{\n            'v': 2684.39394681658,\n            'f': \"2684.39394681658\",\n        },\n{\n            'v': 321.58318393106,\n            'f': \"321.58318393106\",\n        }],\n [{\n            'v': 56,\n            'f': \"56\",\n        },\n{\n            'v': 56,\n            'f': \"56\",\n        },\n{\n            'v': 4.61698956841306,\n            'f': \"4.61698956841306\",\n        },\n{\n            'v': 1907.24088138391,\n            'f': \"1907.24088138391\",\n        },\n{\n            'v': 854.911878489206,\n            'f': \"854.911878489206\",\n        },\n{\n            'v': 107.633965680302,\n            'f': \"107.633965680302\",\n        },\n{\n            'v': 26.2609927739994,\n            'f': \"26.2609927739994\",\n        },\n{\n            'v': 294.750758090161,\n            'f': \"294.750758090161\",\n        },\n{\n            'v': 465.510428736911,\n            'f': \"465.510428736911\",\n        },\n{\n            'v': 74.9551385125935,\n            'f': \"74.9551385125935\",\n        },\n{\n            'v': 2708.0922867869,\n            'f': \"2708.0922867869\",\n        },\n{\n            'v': 249.425570165226,\n            'f': \"249.425570165226\",\n        }],\n [{\n            'v': 57,\n            'f': \"57\",\n        },\n{\n            'v': 57,\n            'f': \"57\",\n        },\n{\n            'v': 4.25637632736662,\n            'f': \"4.25637632736662\",\n        },\n{\n            'v': 1985.43627389172,\n            'f': \"1985.43627389172\",\n        },\n{\n            'v': 481.467008793364,\n            'f': \"481.467008793364\",\n        },\n{\n            'v': 86.2580477765799,\n            'f': \"86.2580477765799\",\n        },\n{\n            'v': 21.3510430299661,\n            'f': \"21.3510430299661\",\n        },\n{\n            'v': 240.093794136484,\n            'f': \"240.093794136484\",\n        },\n{\n            'v': 61.3178549317505,\n            'f': \"61.3178549317505\",\n        },\n{\n            'v': 71.5960274616026,\n            'f': \"71.5960274616026\",\n        },\n{\n            'v': 3156.30010328437,\n            'f': \"3156.30010328437\",\n        },\n{\n            'v': 279.646443441237,\n            'f': \"279.646443441237\",\n        }],\n [{\n            'v': 58,\n            'f': \"58\",\n        },\n{\n            'v': 58,\n            'f': \"58\",\n        },\n{\n            'v': 4.46735038107235,\n            'f': \"4.46735038107235\",\n        },\n{\n            'v': 2045.91998424776,\n            'f': \"2045.91998424776\",\n        },\n{\n            'v': 707.064066216619,\n            'f': \"707.064066216619\",\n        },\n{\n            'v': 40.3048056934109,\n            'f': \"40.3048056934109\",\n        },\n{\n            'v': 22.2303471856234,\n            'f': \"22.2303471856234\",\n        },\n{\n            'v': 239.576875689797,\n            'f': \"239.576875689797\",\n        },\n{\n            'v': 646.074221656415,\n            'f': \"646.074221656415\",\n        },\n{\n            'v': 73.8029667670687,\n            'f': \"73.8029667670687\",\n        },\n{\n            'v': 2718.50504829443,\n            'f': \"2718.50504829443\",\n        },\n{\n            'v': 268.64454753915,\n            'f': \"268.64454753915\",\n        }],\n [{\n            'v': 59,\n            'f': \"59\",\n        },\n{\n            'v': 59,\n            'f': \"59\",\n        },\n{\n            'v': 3.11817622250867,\n            'f': \"3.11817622250867\",\n        },\n{\n            'v': 1892.75780016532,\n            'f': \"1892.75780016532\",\n        },\n{\n            'v': 968.179171336095,\n            'f': \"968.179171336095\",\n        },\n{\n            'v': 162.465446710082,\n            'f': \"162.465446710082\",\n        },\n{\n            'v': 23.9675428207614,\n            'f': \"23.9675428207614\",\n        },\n{\n            'v': 260.189897198972,\n            'f': \"260.189897198972\",\n        },\n{\n            'v': 173.812811659156,\n            'f': \"173.812811659156\",\n        },\n{\n            'v': 71.1835610478094,\n            'f': \"71.1835610478094\",\n        },\n{\n            'v': 2002.04390800367,\n            'f': \"2002.04390800367\",\n        },\n{\n            'v': 187.890164290387,\n            'f': \"187.890164290387\",\n        }],\n [{\n            'v': 60,\n            'f': \"60\",\n        },\n{\n            'v': 60,\n            'f': \"60\",\n        },\n{\n            'v': 2.67656443820564,\n            'f': \"2.67656443820564\",\n        },\n{\n            'v': 2053.4297826253,\n            'f': \"2053.4297826253\",\n        },\n{\n            'v': 259.357736132267,\n            'f': \"259.357736132267\",\n        },\n{\n            'v': 106.195439435444,\n            'f': \"106.195439435444\",\n        },\n{\n            'v': 20.3113391841181,\n            'f': \"20.3113391841181\",\n        },\n{\n            'v': 300.754584110511,\n            'f': \"300.754584110511\",\n        },\n{\n            'v': 417.143283679578,\n            'f': \"417.143283679578\",\n        },\n{\n            'v': 71.1875536033647,\n            'f': \"71.1875536033647\",\n        },\n{\n            'v': 2145.01588116359,\n            'f': \"2145.01588116359\",\n        },\n{\n            'v': 304.428870764341,\n            'f': \"304.428870764341\",\n        }],\n [{\n            'v': 61,\n            'f': \"61\",\n        },\n{\n            'v': 61,\n            'f': \"61\",\n        },\n{\n            'v': 3.17576486892054,\n            'f': \"3.17576486892054\",\n        },\n{\n            'v': 1970.51813882891,\n            'f': \"1970.51813882891\",\n        },\n{\n            'v': 724.579859120517,\n            'f': \"724.579859120517\",\n        },\n{\n            'v': 151.416684185638,\n            'f': \"151.416684185638\",\n        },\n{\n            'v': 22.2063665946037,\n            'f': \"22.2063665946037\",\n        },\n{\n            'v': 313.627206741365,\n            'f': \"313.627206741365\",\n        },\n{\n            'v': 411.446771185876,\n            'f': \"411.446771185876\",\n        },\n{\n            'v': 73.5543672416027,\n            'f': \"73.5543672416027\",\n        },\n{\n            'v': 2505.32548580907,\n            'f': \"2505.32548580907\",\n        },\n{\n            'v': 205.202797305012,\n            'f': \"205.202797305012\",\n        }],\n [{\n            'v': 62,\n            'f': \"62\",\n        },\n{\n            'v': 62,\n            'f': \"62\",\n        },\n{\n            'v': 2.09774644082955,\n            'f': \"2.09774644082955\",\n        },\n{\n            'v': 2019.06596565285,\n            'f': \"2019.06596565285\",\n        },\n{\n            'v': 1081.41266004272,\n            'f': \"1081.41266004272\",\n        },\n{\n            'v': 135.949276438419,\n            'f': \"135.949276438419\",\n        },\n{\n            'v': 21.4973031317718,\n            'f': \"21.4973031317718\",\n        },\n{\n            'v': 362.877362326566,\n            'f': \"362.877362326566\",\n        },\n{\n            'v': 34.4889064368429,\n            'f': \"34.4889064368429\",\n        },\n{\n            'v': 74.2967008623467,\n            'f': \"74.2967008623467\",\n        },\n{\n            'v': 2860.2709609966,\n            'f': \"2860.2709609966\",\n        },\n{\n            'v': 186.555661741722,\n            'f': \"186.555661741722\",\n        }],\n [{\n            'v': 63,\n            'f': \"63\",\n        },\n{\n            'v': 63,\n            'f': \"63\",\n        },\n{\n            'v': 4.79471062727875,\n            'f': \"4.79471062727875\",\n        },\n{\n            'v': 1917.78360071006,\n            'f': \"1917.78360071006\",\n        },\n{\n            'v': 764.787106215564,\n            'f': \"764.787106215564\",\n        },\n{\n            'v': 91.6603001689428,\n            'f': \"91.6603001689428\",\n        },\n{\n            'v': 22.6763903716021,\n            'f': \"22.6763903716021\",\n        },\n{\n            'v': 317.473648157517,\n            'f': \"317.473648157517\",\n        },\n{\n            'v': 422.070243954587,\n            'f': \"422.070243954587\",\n        },\n{\n            'v': 69.0762520457978,\n            'f': \"69.0762520457978\",\n        },\n{\n            'v': 2250.21111996466,\n            'f': \"2250.21111996466\",\n        },\n{\n            'v': 321.145901909665,\n            'f': \"321.145901909665\",\n        }],\n [{\n            'v': 64,\n            'f': \"64\",\n        },\n{\n            'v': 64,\n            'f': \"64\",\n        },\n{\n            'v': 2.5619173843691,\n            'f': \"2.5619173843691\",\n        },\n{\n            'v': 1956.58718841296,\n            'f': \"1956.58718841296\",\n        },\n{\n            'v': 411.160200151565,\n            'f': \"411.160200151565\",\n        },\n{\n            'v': 84.2889186459112,\n            'f': \"84.2889186459112\",\n        },\n{\n            'v': 26.3858597471124,\n            'f': \"26.3858597471124\",\n        },\n{\n            'v': 264.963876475242,\n            'f': \"264.963876475242\",\n        },\n{\n            'v': 672.364980143195,\n            'f': \"672.364980143195\",\n        },\n{\n            'v': 70.1028944970212,\n            'f': \"70.1028944970212\",\n        },\n{\n            'v': 3004.69657199198,\n            'f': \"3004.69657199198\",\n        },\n{\n            'v': 194.853056966549,\n            'f': \"194.853056966549\",\n        }],\n [{\n            'v': 65,\n            'f': \"65\",\n        },\n{\n            'v': 65,\n            'f': \"65\",\n        },\n{\n            'v': 1.70519378852586,\n            'f': \"1.70519378852586\",\n        },\n{\n            'v': 1993.62408679527,\n            'f': \"1993.62408679527\",\n        },\n{\n            'v': 334.893406086304,\n            'f': \"334.893406086304\",\n        },\n{\n            'v': 115.482321184986,\n            'f': \"115.482321184986\",\n        },\n{\n            'v': 24.461133568691,\n            'f': \"24.461133568691\",\n        },\n{\n            'v': 302.348496497711,\n            'f': \"302.348496497711\",\n        },\n{\n            'v': 168.599067010175,\n            'f': \"168.599067010175\",\n        },\n{\n            'v': 73.7811776825022,\n            'f': \"73.7811776825022\",\n        },\n{\n            'v': 1624.72053300225,\n            'f': \"1624.72053300225\",\n        },\n{\n            'v': 283.289007232791,\n            'f': \"283.289007232791\",\n        }],\n [{\n            'v': 66,\n            'f': \"66\",\n        },\n{\n            'v': 66,\n            'f': \"66\",\n        },\n{\n            'v': 4.41416119685704,\n            'f': \"4.41416119685704\",\n        },\n{\n            'v': 2014.62331805313,\n            'f': \"2014.62331805313\",\n        },\n{\n            'v': 607.061634664446,\n            'f': \"607.061634664446\",\n        },\n{\n            'v': 104.097858932163,\n            'f': \"104.097858932163\",\n        },\n{\n            'v': 20.7786343232078,\n            'f': \"20.7786343232078\",\n        },\n{\n            'v': 227.51331059067,\n            'f': \"227.51331059067\",\n        },\n{\n            'v': 654.548803323962,\n            'f': \"654.548803323962\",\n        },\n{\n            'v': 77.0465882211044,\n            'f': \"77.0465882211044\",\n        },\n{\n            'v': 2241.46361145778,\n            'f': \"2241.46361145778\",\n        },\n{\n            'v': 281.270927847583,\n            'f': \"281.270927847583\",\n        }],\n [{\n            'v': 67,\n            'f': \"67\",\n        },\n{\n            'v': 67,\n            'f': \"67\",\n        },\n{\n            'v': 3.45282114986932,\n            'f': \"3.45282114986932\",\n        },\n{\n            'v': 1868.34874519129,\n            'f': \"1868.34874519129\",\n        },\n{\n            'v': 576.503658192798,\n            'f': \"576.503658192798\",\n        },\n{\n            'v': 87.3869345312855,\n            'f': \"87.3869345312855\",\n        },\n{\n            'v': 23.3224226502699,\n            'f': \"23.3224226502699\",\n        },\n{\n            'v': 291.339068668643,\n            'f': \"291.339068668643\",\n        },\n{\n            'v': 338.937140584667,\n            'f': \"338.937140584667\",\n        },\n{\n            'v': 73.5938171327313,\n            'f': \"73.5938171327313\",\n        },\n{\n            'v': 2957.91551381655,\n            'f': \"2957.91551381655\",\n        },\n{\n            'v': 228.91172416346,\n            'f': \"228.91172416346\",\n        }],\n [{\n            'v': 68,\n            'f': \"68\",\n        },\n{\n            'v': 68,\n            'f': \"68\",\n        },\n{\n            'v': 2.68194050892477,\n            'f': \"2.68194050892477\",\n        },\n{\n            'v': 1843.18256234416,\n            'f': \"1843.18256234416\",\n        },\n{\n            'v': 1185.99314968772,\n            'f': \"1185.99314968772\",\n        },\n{\n            'v': 106.823807795205,\n            'f': \"106.823807795205\",\n        },\n{\n            'v': 19.3327000435086,\n            'f': \"19.3327000435086\",\n        },\n{\n            'v': 320.363018577296,\n            'f': \"320.363018577296\",\n        },\n{\n            'v': 75.2400195451441,\n            'f': \"75.2400195451441\",\n        },\n{\n            'v': 71.2150322767018,\n            'f': \"71.2150322767018\",\n        },\n{\n            'v': 3377.32804427794,\n            'f': \"3377.32804427794\",\n        },\n{\n            'v': 92.4478651000093,\n            'f': \"92.4478651000093\",\n        }],\n [{\n            'v': 69,\n            'f': \"69\",\n        },\n{\n            'v': 69,\n            'f': \"69\",\n        },\n{\n            'v': 3.12002168259489,\n            'f': \"3.12002168259489\",\n        },\n{\n            'v': 2042.28028337428,\n            'f': \"2042.28028337428\",\n        },\n{\n            'v': 600.769621057725,\n            'f': \"600.769621057725\",\n        },\n{\n            'v': 88.4130126456654,\n            'f': \"88.4130126456654\",\n        },\n{\n            'v': 23.0854223167781,\n            'f': \"23.0854223167781\",\n        },\n{\n            'v': 280.643182017825,\n            'f': \"280.643182017825\",\n        },\n{\n            'v': 324.279402274901,\n            'f': \"324.279402274901\",\n        },\n{\n            'v': 69.5260148149445,\n            'f': \"69.5260148149445\",\n        },\n{\n            'v': 2164.38893556579,\n            'f': \"2164.38893556579\",\n        },\n{\n            'v': 138.224720766734,\n            'f': \"138.224720766734\",\n        }],\n [{\n            'v': 70,\n            'f': \"70\",\n        },\n{\n            'v': 70,\n            'f': \"70\",\n        },\n{\n            'v': 3.72515191986744,\n            'f': \"3.72515191986744\",\n        },\n{\n            'v': 2009.39872044359,\n            'f': \"2009.39872044359\",\n        },\n{\n            'v': 962.774186374449,\n            'f': \"962.774186374449\",\n        },\n{\n            'v': 148.316385759674,\n            'f': \"148.316385759674\",\n        },\n{\n            'v': 16.8696696350116,\n            'f': \"16.8696696350116\",\n        },\n{\n            'v': 289.23616959197,\n            'f': \"289.23616959197\",\n        },\n{\n            'v': 398.919837742403,\n            'f': \"398.919837742403\",\n        },\n{\n            'v': 69.2046420071986,\n            'f': \"69.2046420071986\",\n        },\n{\n            'v': 1337.424692334,\n            'f': \"1337.424692334\",\n        },\n{\n            'v': 172.549268899625,\n            'f': \"172.549268899625\",\n        }],\n [{\n            'v': 71,\n            'f': \"71\",\n        },\n{\n            'v': 71,\n            'f': \"71\",\n        },\n{\n            'v': 2.00123378085961,\n            'f': \"2.00123378085961\",\n        },\n{\n            'v': 2008.31072030206,\n            'f': \"2008.31072030206\",\n        },\n{\n            'v': 53.5822776311981,\n            'f': \"53.5822776311981\",\n        },\n{\n            'v': 111.25927526507,\n            'f': \"111.25927526507\",\n        },\n{\n            'v': 22.7850763746836,\n            'f': \"22.7850763746836\",\n        },\n{\n            'v': 309.579804260058,\n            'f': \"309.579804260058\",\n        },\n{\n            'v': 887.094294913776,\n            'f': \"887.094294913776\",\n        },\n{\n            'v': 72.4865459842513,\n            'f': \"72.4865459842513\",\n        },\n{\n            'v': 2835.5711428293,\n            'f': \"2835.5711428293\",\n        },\n{\n            'v': 141.59841601308,\n            'f': \"141.59841601308\",\n        }],\n [{\n            'v': 72,\n            'f': \"72\",\n        },\n{\n            'v': 72,\n            'f': \"72\",\n        },\n{\n            'v': 2.53886870194548,\n            'f': \"2.53886870194548\",\n        },\n{\n            'v': 1929.67753077483,\n            'f': \"1929.67753077483\",\n        },\n{\n            'v': 1143.78711291358,\n            'f': \"1143.78711291358\",\n        },\n{\n            'v': 161.557740686131,\n            'f': \"161.557740686131\",\n        },\n{\n            'v': 22.7251942440169,\n            'f': \"22.7251942440169\",\n        },\n{\n            'v': 303.53008959714,\n            'f': \"303.53008959714\",\n        },\n{\n            'v': 894.354923411658,\n            'f': \"894.354923411658\",\n        },\n{\n            'v': 75.3210982301261,\n            'f': \"75.3210982301261\",\n        },\n{\n            'v': 1934.31603288287,\n            'f': \"1934.31603288287\",\n        },\n{\n            'v': 131.922189046358,\n            'f': \"131.922189046358\",\n        }],\n [{\n            'v': 73,\n            'f': \"73\",\n        },\n{\n            'v': 73,\n            'f': \"73\",\n        },\n{\n            'v': 4.18091114843855,\n            'f': \"4.18091114843855\",\n        },\n{\n            'v': 2068.26739082148,\n            'f': \"2068.26739082148\",\n        },\n{\n            'v': 844.905565397782,\n            'f': \"844.905565397782\",\n        },\n{\n            'v': 117.857237307933,\n            'f': \"117.857237307933\",\n        },\n{\n            'v': 18.0395915889216,\n            'f': \"18.0395915889216\",\n        },\n{\n            'v': 347.608414194633,\n            'f': \"347.608414194633\",\n        },\n{\n            'v': 404.645934559472,\n            'f': \"404.645934559472\",\n        },\n{\n            'v': 69.6004028193487,\n            'f': \"69.6004028193487\",\n        },\n{\n            'v': 3134.10349822334,\n            'f': \"3134.10349822334\",\n        },\n{\n            'v': 219.99535125577,\n            'f': \"219.99535125577\",\n        }],\n [{\n            'v': 74,\n            'f': \"74\",\n        },\n{\n            'v': 74,\n            'f': \"74\",\n        },\n{\n            'v': 3.12666059634732,\n            'f': \"3.12666059634732\",\n        },\n{\n            'v': 1985.37632674925,\n            'f': \"1985.37632674925\",\n        },\n{\n            'v': 1039.38596849616,\n            'f': \"1039.38596849616\",\n        },\n{\n            'v': 122.027950485535,\n            'f': \"122.027950485535\",\n        },\n{\n            'v': 22.6877653304713,\n            'f': \"22.6877653304713\",\n        },\n{\n            'v': 247.090686428188,\n            'f': \"247.090686428188\",\n        },\n{\n            'v': 202.395245625015,\n            'f': \"202.395245625015\",\n        },\n{\n            'v': 67.6480612318363,\n            'f': \"67.6480612318363\",\n        },\n{\n            'v': 1780.63138638265,\n            'f': \"1780.63138638265\",\n        },\n{\n            'v': 198.685795025871,\n            'f': \"198.685795025871\",\n        }],\n [{\n            'v': 75,\n            'f': \"75\",\n        },\n{\n            'v': 75,\n            'f': \"75\",\n        },\n{\n            'v': 2.39335559675756,\n            'f': \"2.39335559675756\",\n        },\n{\n            'v': 2053.92831802024,\n            'f': \"2053.92831802024\",\n        },\n{\n            'v': 710.851928521885,\n            'f': \"710.851928521885\",\n        },\n{\n            'v': 134.957547547227,\n            'f': \"134.957547547227\",\n        },\n{\n            'v': 22.1304484869894,\n            'f': \"22.1304484869894\",\n        },\n{\n            'v': 304.832999237713,\n            'f': \"304.832999237713\",\n        },\n{\n            'v': 361.106340941915,\n            'f': \"361.106340941915\",\n        },\n{\n            'v': 72.0474413283835,\n            'f': \"72.0474413283835\",\n        },\n{\n            'v': 2802.17805816386,\n            'f': \"2802.17805816386\",\n        },\n{\n            'v': 234.208913634003,\n            'f': \"234.208913634003\",\n        }],\n [{\n            'v': 76,\n            'f': \"76\",\n        },\n{\n            'v': 76,\n            'f': \"76\",\n        },\n{\n            'v': 1.94002141130966,\n            'f': \"1.94002141130966\",\n        },\n{\n            'v': 1969.62361231578,\n            'f': \"1969.62361231578\",\n        },\n{\n            'v': 1251.78990565381,\n            'f': \"1251.78990565381\",\n        },\n{\n            'v': 92.4193283683085,\n            'f': \"92.4193283683085\",\n        },\n{\n            'v': 22.2446691752612,\n            'f': \"22.2446691752612\",\n        },\n{\n            'v': 291.935734394608,\n            'f': \"291.935734394608\",\n        },\n{\n            'v': 565.339508132214,\n            'f': \"565.339508132214\",\n        },\n{\n            'v': 69.1815991618218,\n            'f': \"69.1815991618218\",\n        },\n{\n            'v': 2757.13030348676,\n            'f': \"2757.13030348676\",\n        },\n{\n            'v': 211.912630322441,\n            'f': \"211.912630322441\",\n        }],\n [{\n            'v': 77,\n            'f': \"77\",\n        },\n{\n            'v': 77,\n            'f': \"77\",\n        },\n{\n            'v': 2.96581179258464,\n            'f': \"2.96581179258464\",\n        },\n{\n            'v': 1952.0178976549,\n            'f': \"1952.0178976549\",\n        },\n{\n            'v': 105.154466533956,\n            'f': \"105.154466533956\",\n        },\n{\n            'v': 104.486677499559,\n            'f': \"104.486677499559\",\n        },\n{\n            'v': 23.8987280424436,\n            'f': \"23.8987280424436\",\n        },\n{\n            'v': 308.473988799102,\n            'f': \"308.473988799102\",\n        },\n{\n            'v': 808.806264014204,\n            'f': \"808.806264014204\",\n        },\n{\n            'v': 75.8254841649787,\n            'f': \"75.8254841649787\",\n        },\n{\n            'v': 1400.35793217963,\n            'f': \"1400.35793217963\",\n        },\n{\n            'v': 300.499627685786,\n            'f': \"300.499627685786\",\n        }],\n [{\n            'v': 78,\n            'f': \"78\",\n        },\n{\n            'v': 78,\n            'f': \"78\",\n        },\n{\n            'v': 4.43317554684919,\n            'f': \"4.43317554684919\",\n        },\n{\n            'v': 1949.45458722468,\n            'f': \"1949.45458722468\",\n        },\n{\n            'v': 638.939797087107,\n            'f': \"638.939797087107\",\n        },\n{\n            'v': 114.528376344994,\n            'f': \"114.528376344994\",\n        },\n{\n            'v': 25.7988298980678,\n            'f': \"25.7988298980678\",\n        },\n{\n            'v': 281.114390814806,\n            'f': \"281.114390814806\",\n        },\n{\n            'v': 293.444451877068,\n            'f': \"293.444451877068\",\n        },\n{\n            'v': 76.8360634066066,\n            'f': \"76.8360634066066\",\n        },\n{\n            'v': 2331.46952691839,\n            'f': \"2331.46952691839\",\n        },\n{\n            'v': 147.007066556703,\n            'f': \"147.007066556703\",\n        }],\n [{\n            'v': 79,\n            'f': \"79\",\n        },\n{\n            'v': 79,\n            'f': \"79\",\n        },\n{\n            'v': 2.89683591198512,\n            'f': \"2.89683591198512\",\n        },\n{\n            'v': 1929.52018533042,\n            'f': \"1929.52018533042\",\n        },\n{\n            'v': 386.79318228456,\n            'f': \"386.79318228456\",\n        },\n{\n            'v': 147.304327145391,\n            'f': \"147.304327145391\",\n        },\n{\n            'v': 22.5293840478616,\n            'f': \"22.5293840478616\",\n        },\n{\n            'v': 306.854196901891,\n            'f': \"306.854196901891\",\n        },\n{\n            'v': 207.521157348898,\n            'f': \"207.521157348898\",\n        },\n{\n            'v': 69.0941856872217,\n            'f': \"69.0941856872217\",\n        },\n{\n            'v': 1869.98008853837,\n            'f': \"1869.98008853837\",\n        },\n{\n            'v': 138.967712213374,\n            'f': \"138.967712213374\",\n        }],\n [{\n            'v': 80,\n            'f': \"80\",\n        },\n{\n            'v': 80,\n            'f': \"80\",\n        },\n{\n            'v': 2.52620785257568,\n            'f': \"2.52620785257568\",\n        },\n{\n            'v': 1990.62526162108,\n            'f': \"1990.62526162108\",\n        },\n{\n            'v': 469.692137770416,\n            'f': \"469.692137770416\",\n        },\n{\n            'v': 107.581745858228,\n            'f': \"107.581745858228\",\n        },\n{\n            'v': 25.1264946874864,\n            'f': \"25.1264946874864\",\n        },\n{\n            'v': 325.158879481838,\n            'f': \"325.158879481838\",\n        },\n{\n            'v': 451.86436518306,\n            'f': \"451.86436518306\",\n        },\n{\n            'v': 71.7098961371883,\n            'f': \"71.7098961371883\",\n        },\n{\n            'v': 2004.93278613354,\n            'f': \"2004.93278613354\",\n        },\n{\n            'v': 195.97859018411,\n            'f': \"195.97859018411\",\n        }],\n [{\n            'v': 81,\n            'f': \"81\",\n        },\n{\n            'v': 81,\n            'f': \"81\",\n        },\n{\n            'v': 3.71167553514513,\n            'f': \"3.71167553514513\",\n        },\n{\n            'v': 1835.94606537685,\n            'f': \"1835.94606537685\",\n        },\n{\n            'v': 1312.26650249731,\n            'f': \"1312.26650249731\",\n        },\n{\n            'v': 115.495390128164,\n            'f': \"115.495390128164\",\n        },\n{\n            'v': 24.1676319673921,\n            'f': \"24.1676319673921\",\n        },\n{\n            'v': 259.258200768966,\n            'f': \"259.258200768966\",\n        },\n{\n            'v': 7.09535401264071,\n            'f': \"7.09535401264071\",\n        },\n{\n            'v': 75.0632223881923,\n            'f': \"75.0632223881923\",\n        },\n{\n            'v': 2840.93485251891,\n            'f': \"2840.93485251891\",\n        },\n{\n            'v': 228.50865320882,\n            'f': \"228.50865320882\",\n        }],\n [{\n            'v': 82,\n            'f': \"82\",\n        },\n{\n            'v': 82,\n            'f': \"82\",\n        },\n{\n            'v': 3.4371928777298,\n            'f': \"3.4371928777298\",\n        },\n{\n            'v': 1878.49402858102,\n            'f': \"1878.49402858102\",\n        },\n{\n            'v': 1129.2518001018,\n            'f': \"1129.2518001018\",\n        },\n{\n            'v': 142.130759048646,\n            'f': \"142.130759048646\",\n        },\n{\n            'v': 24.5343570280639,\n            'f': \"24.5343570280639\",\n        },\n{\n            'v': 246.809360514364,\n            'f': \"246.809360514364\",\n        },\n{\n            'v': 489.988285995282,\n            'f': \"489.988285995282\",\n        },\n{\n            'v': 71.4313833014238,\n            'f': \"71.4313833014238\",\n        },\n{\n            'v': 2010.3343388636,\n            'f': \"2010.3343388636\",\n        },\n{\n            'v': 156.263366293575,\n            'f': \"156.263366293575\",\n        }],\n [{\n            'v': 83,\n            'f': \"83\",\n        },\n{\n            'v': 83,\n            'f': \"83\",\n        },\n{\n            'v': 2.95252638624795,\n            'f': \"2.95252638624795\",\n        },\n{\n            'v': 2014.75524946944,\n            'f': \"2014.75524946944\",\n        },\n{\n            'v': 971.080034390633,\n            'f': \"971.080034390633\",\n        },\n{\n            'v': 99.7579909083023,\n            'f': \"99.7579909083023\",\n        },\n{\n            'v': 20.2086361361128,\n            'f': \"20.2086361361128\",\n        },\n{\n            'v': 297.14694776363,\n            'f': \"297.14694776363\",\n        },\n{\n            'v': 574.786073099323,\n            'f': \"574.786073099323\",\n        },\n{\n            'v': 69.9339583427704,\n            'f': \"69.9339583427704\",\n        },\n{\n            'v': 2902.50915558568,\n            'f': \"2902.50915558568\",\n        },\n{\n            'v': 244.035478370514,\n            'f': \"244.035478370514\",\n        }],\n [{\n            'v': 84,\n            'f': \"84\",\n        },\n{\n            'v': 84,\n            'f': \"84\",\n        },\n{\n            'v': 2.90330482263953,\n            'f': \"2.90330482263953\",\n        },\n{\n            'v': 2019.60113491693,\n            'f': \"2019.60113491693\",\n        },\n{\n            'v': 278.106720460541,\n            'f': \"278.106720460541\",\n        },\n{\n            'v': 96.0452717071344,\n            'f': \"96.0452717071344\",\n        },\n{\n            'v': 19.7153238418283,\n            'f': \"19.7153238418283\",\n        },\n{\n            'v': 303.818771039945,\n            'f': \"303.818771039945\",\n        },\n{\n            'v': 1021.61009393758,\n            'f': \"1021.61009393758\",\n        },\n{\n            'v': 77.9765608091946,\n            'f': \"77.9765608091946\",\n        },\n{\n            'v': 1604.1445022462,\n            'f': \"1604.1445022462\",\n        },\n{\n            'v': 241.318361361569,\n            'f': \"241.318361361569\",\n        }],\n [{\n            'v': 85,\n            'f': \"85\",\n        },\n{\n            'v': 85,\n            'f': \"85\",\n        },\n{\n            'v': 4.45711998805819,\n            'f': \"4.45711998805819\",\n        },\n{\n            'v': 2017.20441780194,\n            'f': \"2017.20441780194\",\n        },\n{\n            'v': 980.189230193403,\n            'f': \"980.189230193403\",\n        },\n{\n            'v': 99.675032793115,\n            'f': \"99.675032793115\",\n        },\n{\n            'v': 25.7224493200724,\n            'f': \"25.7224493200724\",\n        },\n{\n            'v': 292.101684786064,\n            'f': \"292.101684786064\",\n        },\n{\n            'v': 300.260202408651,\n            'f': \"300.260202408651\",\n        },\n{\n            'v': 73.7828278686362,\n            'f': \"73.7828278686362\",\n        },\n{\n            'v': 2546.35196236238,\n            'f': \"2546.35196236238\",\n        },\n{\n            'v': 192.158907636717,\n            'f': \"192.158907636717\",\n        }],\n [{\n            'v': 86,\n            'f': \"86\",\n        },\n{\n            'v': 86,\n            'f': \"86\",\n        },\n{\n            'v': 1.04436147111365,\n            'f': \"1.04436147111365\",\n        },\n{\n            'v': 1948.39523770175,\n            'f': \"1948.39523770175\",\n        },\n{\n            'v': 1072.0103959914,\n            'f': \"1072.0103959914\",\n        },\n{\n            'v': 126.027685319243,\n            'f': \"126.027685319243\",\n        },\n{\n            'v': 21.3449149327709,\n            'f': \"21.3449149327709\",\n        },\n{\n            'v': 356.530711599113,\n            'f': \"356.530711599113\",\n        },\n{\n            'v': 221.233654221069,\n            'f': \"221.233654221069\",\n        },\n{\n            'v': 69.3453726996293,\n            'f': \"69.3453726996293\",\n        },\n{\n            'v': 2436.6915081748,\n            'f': \"2436.6915081748\",\n        },\n{\n            'v': 172.969660830289,\n            'f': \"172.969660830289\",\n        }],\n [{\n            'v': 87,\n            'f': \"87\",\n        },\n{\n            'v': 87,\n            'f': \"87\",\n        },\n{\n            'v': 2.52710220131329,\n            'f': \"2.52710220131329\",\n        },\n{\n            'v': 2021.85639528586,\n            'f': \"2021.85639528586\",\n        },\n{\n            'v': 881.137149919579,\n            'f': \"881.137149919579\",\n        },\n{\n            'v': 132.65352487722,\n            'f': \"132.65352487722\",\n        },\n{\n            'v': 22.4472819943523,\n            'f': \"22.4472819943523\",\n        },\n{\n            'v': 255.190945494869,\n            'f': \"255.190945494869\",\n        },\n{\n            'v': 194.049749141959,\n            'f': \"194.049749141959\",\n        },\n{\n            'v': 72.2711830029007,\n            'f': \"72.2711830029007\",\n        },\n{\n            'v': 3214.53480934595,\n            'f': \"3214.53480934595\",\n        },\n{\n            'v': 220.557907868402,\n            'f': \"220.557907868402\",\n        }],\n [{\n            'v': 88,\n            'f': \"88\",\n        },\n{\n            'v': 88,\n            'f': \"88\",\n        },\n{\n            'v': 3.31942347145868,\n            'f': \"3.31942347145868\",\n        },\n{\n            'v': 2075.22120263035,\n            'f': \"2075.22120263035\",\n        },\n{\n            'v': 78.9143236438797,\n            'f': \"78.9143236438797\",\n        },\n{\n            'v': 140.938971719314,\n            'f': \"140.938971719314\",\n        },\n{\n            'v': 24.3704754933437,\n            'f': \"24.3704754933437\",\n        },\n{\n            'v': 261.486931646461,\n            'f': \"261.486931646461\",\n        },\n{\n            'v': 1013.02960617917,\n            'f': \"1013.02960617917\",\n        },\n{\n            'v': 74.2735490653323,\n            'f': \"74.2735490653323\",\n        },\n{\n            'v': 2044.04357325501,\n            'f': \"2044.04357325501\",\n        },\n{\n            'v': 301.76575439247,\n            'f': \"301.76575439247\",\n        }],\n [{\n            'v': 89,\n            'f': \"89\",\n        },\n{\n            'v': 89,\n            'f': \"89\",\n        },\n{\n            'v': 3.85839462105363,\n            'f': \"3.85839462105363\",\n        },\n{\n            'v': 1873.63015432042,\n            'f': \"1873.63015432042\",\n        },\n{\n            'v': 981.863229192678,\n            'f': \"981.863229192678\",\n        },\n{\n            'v': 102.429378146075,\n            'f': \"102.429378146075\",\n        },\n{\n            'v': 19.8395923863193,\n            'f': \"19.8395923863193\",\n        },\n{\n            'v': 244.802386412792,\n            'f': \"244.802386412792\",\n        },\n{\n            'v': 876.827541329149,\n            'f': \"876.827541329149\",\n        },\n{\n            'v': 75.9714893100369,\n            'f': \"75.9714893100369\",\n        },\n{\n            'v': 1913.04928896465,\n            'f': \"1913.04928896465\",\n        },\n{\n            'v': 192.197370895773,\n            'f': \"192.197370895773\",\n        }],\n [{\n            'v': 90,\n            'f': \"90\",\n        },\n{\n            'v': 90,\n            'f': \"90\",\n        },\n{\n            'v': 2.14361668143806,\n            'f': \"2.14361668143806\",\n        },\n{\n            'v': 1924.8648321671,\n            'f': \"1924.8648321671\",\n        },\n{\n            'v': 957.378290184471,\n            'f': \"957.378290184471\",\n        },\n{\n            'v': 116.753626353082,\n            'f': \"116.753626353082\",\n        },\n{\n            'v': 21.9788140951841,\n            'f': \"21.9788140951841\",\n        },\n{\n            'v': 334.333067090101,\n            'f': \"334.333067090101\",\n        },\n{\n            'v': 679.950216839347,\n            'f': \"679.950216839347\",\n        },\n{\n            'v': 67.0265082250484,\n            'f': \"67.0265082250484\",\n        },\n{\n            'v': 2133.59114678859,\n            'f': \"2133.59114678859\",\n        },\n{\n            'v': 111.056522728756,\n            'f': \"111.056522728756\",\n        }],\n [{\n            'v': 91,\n            'f': \"91\",\n        },\n{\n            'v': 91,\n            'f': \"91\",\n        },\n{\n            'v': 2.0413521645778,\n            'f': \"2.0413521645778\",\n        },\n{\n            'v': 1967.03752657551,\n            'f': \"1967.03752657551\",\n        },\n{\n            'v': 457.127194947934,\n            'f': \"457.127194947934\",\n        },\n{\n            'v': 131.215489040203,\n            'f': \"131.215489040203\",\n        },\n{\n            'v': 21.8451439021792,\n            'f': \"21.8451439021792\",\n        },\n{\n            'v': 341.412674813216,\n            'f': \"341.412674813216\",\n        },\n{\n            'v': 812.629311794083,\n            'f': \"812.629311794083\",\n        },\n{\n            'v': 76.0015279368089,\n            'f': \"76.0015279368089\",\n        },\n{\n            'v': 2573.63255590374,\n            'f': \"2573.63255590374\",\n        },\n{\n            'v': 239.241272224609,\n            'f': \"239.241272224609\",\n        }],\n [{\n            'v': 92,\n            'f': \"92\",\n        },\n{\n            'v': 92,\n            'f': \"92\",\n        },\n{\n            'v': 3.55241804852583,\n            'f': \"3.55241804852583\",\n        },\n{\n            'v': 1986.55243996333,\n            'f': \"1986.55243996333\",\n        },\n{\n            'v': 818.135194454281,\n            'f': \"818.135194454281\",\n        },\n{\n            'v': 102.614962309456,\n            'f': \"102.614962309456\",\n        },\n{\n            'v': 17.7515310835964,\n            'f': \"17.7515310835964\",\n        },\n{\n            'v': 256.335929683774,\n            'f': \"256.335929683774\",\n        },\n{\n            'v': 414.212654658843,\n            'f': \"414.212654658843\",\n        },\n{\n            'v': 72.5137471809204,\n            'f': \"72.5137471809204\",\n        },\n{\n            'v': 2427.7269226661,\n            'f': \"2427.7269226661\",\n        },\n{\n            'v': 277.746898334632,\n            'f': \"277.746898334632\",\n        }],\n [{\n            'v': 93,\n            'f': \"93\",\n        },\n{\n            'v': 93,\n            'f': \"93\",\n        },\n{\n            'v': 4.27197685251034,\n            'f': \"4.27197685251034\",\n        },\n{\n            'v': 1876.16804570014,\n            'f': \"1876.16804570014\",\n        },\n{\n            'v': 560.960950889983,\n            'f': \"560.960950889983\",\n        },\n{\n            'v': 63.5118456398383,\n            'f': \"63.5118456398383\",\n        },\n{\n            'v': 26.0390889169199,\n            'f': \"26.0390889169199\",\n        },\n{\n            'v': 289.494315739399,\n            'f': \"289.494315739399\",\n        },\n{\n            'v': 237.688171894452,\n            'f': \"237.688171894452\",\n        },\n{\n            'v': 76.439840642442,\n            'f': \"76.439840642442\",\n        },\n{\n            'v': 2155.8622848975,\n            'f': \"2155.8622848975\",\n        },\n{\n            'v': 188.756824295458,\n            'f': \"188.756824295458\",\n        }],\n [{\n            'v': 94,\n            'f': \"94\",\n        },\n{\n            'v': 94,\n            'f': \"94\",\n        },\n{\n            'v': 1.6209299773483,\n            'f': \"1.6209299773483\",\n        },\n{\n            'v': 2110.56643699759,\n            'f': \"2110.56643699759\",\n        },\n{\n            'v': 124.133740028623,\n            'f': \"124.133740028623\",\n        },\n{\n            'v': 191.053003718703,\n            'f': \"191.053003718703\",\n        },\n{\n            'v': 21.5902946586862,\n            'f': \"21.5902946586862\",\n        },\n{\n            'v': 280.120468432855,\n            'f': \"280.120468432855\",\n        },\n{\n            'v': 4.0990434009833,\n            'f': \"4.0990434009833\",\n        },\n{\n            'v': 72.6804124381655,\n            'f': \"72.6804124381655\",\n        },\n{\n            'v': 1461.44884516197,\n            'f': \"1461.44884516197\",\n        },\n{\n            'v': 171.988604783678,\n            'f': \"171.988604783678\",\n        }],\n [{\n            'v': 95,\n            'f': \"95\",\n        },\n{\n            'v': 95,\n            'f': \"95\",\n        },\n{\n            'v': 3.83340522231327,\n            'f': \"3.83340522231327\",\n        },\n{\n            'v': 1921.91763949269,\n            'f': \"1921.91763949269\",\n        },\n{\n            'v': 1343.60086748877,\n            'f': \"1343.60086748877\",\n        },\n{\n            'v': 126.919151502633,\n            'f': \"126.919151502633\",\n        },\n{\n            'v': 21.2453708727899,\n            'f': \"21.2453708727899\",\n        },\n{\n            'v': 303.842913915158,\n            'f': \"303.842913915158\",\n        },\n{\n            'v': 49.9757613999169,\n            'f': \"49.9757613999169\",\n        },\n{\n            'v': 70.6786915021356,\n            'f': \"70.6786915021356\",\n        },\n{\n            'v': 3077.86939648801,\n            'f': \"3077.86939648801\",\n        },\n{\n            'v': 208.929445658,\n            'f': \"208.929445658\",\n        }],\n [{\n            'v': 96,\n            'f': \"96\",\n        },\n{\n            'v': 96,\n            'f': \"96\",\n        },\n{\n            'v': 2.60776417871172,\n            'f': \"2.60776417871172\",\n        },\n{\n            'v': 2009.03430808664,\n            'f': \"2009.03430808664\",\n        },\n{\n            'v': 250.547072304832,\n            'f': \"250.547072304832\",\n        },\n{\n            'v': 79.3468498323662,\n            'f': \"79.3468498323662\",\n        },\n{\n            'v': 21.874256956087,\n            'f': \"21.874256956087\",\n        },\n{\n            'v': 206.005127700645,\n            'f': \"206.005127700645\",\n        },\n{\n            'v': 550.102415744885,\n            'f': \"550.102415744885\",\n        },\n{\n            'v': 74.370869325078,\n            'f': \"74.370869325078\",\n        },\n{\n            'v': 2018.17824714546,\n            'f': \"2018.17824714546\",\n        },\n{\n            'v': 174.349764717947,\n            'f': \"174.349764717947\",\n        }],\n [{\n            'v': 97,\n            'f': \"97\",\n        },\n{\n            'v': 97,\n            'f': \"97\",\n        },\n{\n            'v': 3.46531840714799,\n            'f': \"3.46531840714799\",\n        },\n{\n            'v': 2009.79708472036,\n            'f': \"2009.79708472036\",\n        },\n{\n            'v': 1061.40751599376,\n            'f': \"1061.40751599376\",\n        },\n{\n            'v': 71.4207934901581,\n            'f': \"71.4207934901581\",\n        },\n{\n            'v': 22.011830868851,\n            'f': \"22.011830868851\",\n        },\n{\n            'v': 345.95274960054,\n            'f': \"345.95274960054\",\n        },\n{\n            'v': 463.411500519586,\n            'f': \"463.411500519586\",\n        },\n{\n            'v': 69.1627659821526,\n            'f': \"69.1627659821526\",\n        },\n{\n            'v': 3051.04090860934,\n            'f': \"3051.04090860934\",\n        },\n{\n            'v': 159.958934783878,\n            'f': \"159.958934783878\",\n        }],\n [{\n            'v': 98,\n            'f': \"98\",\n        },\n{\n            'v': 98,\n            'f': \"98\",\n        },\n{\n            'v': 2.14855771403367,\n            'f': \"2.14855771403367\",\n        },\n{\n            'v': 1978.55316047838,\n            'f': \"1978.55316047838\",\n        },\n{\n            'v': 905.115295785839,\n            'f': \"905.115295785839\",\n        },\n{\n            'v': 144.160097753681,\n            'f': \"144.160097753681\",\n        },\n{\n            'v': 21.0156185020504,\n            'f': \"21.0156185020504\",\n        },\n{\n            'v': 313.02346719827,\n            'f': \"313.02346719827\",\n        },\n{\n            'v': 355.291453474395,\n            'f': \"355.291453474395\",\n        },\n{\n            'v': 69.5606356074802,\n            'f': \"69.5606356074802\",\n        },\n{\n            'v': 3277.66085324609,\n            'f': \"3277.66085324609\",\n        },\n{\n            'v': 175.901628041114,\n            'f': \"175.901628041114\",\n        }],\n [{\n            'v': 99,\n            'f': \"99\",\n        },\n{\n            'v': 99,\n            'f': \"99\",\n        },\n{\n            'v': 3.95283414387118,\n            'f': \"3.95283414387118\",\n        },\n{\n            'v': 1931.68789384737,\n            'f': \"1931.68789384737\",\n        },\n{\n            'v': 348.354645228981,\n            'f': \"348.354645228981\",\n        },\n{\n            'v': 108.403571029378,\n            'f': \"108.403571029378\",\n        },\n{\n            'v': 22.9516902903046,\n            'f': \"22.9516902903046\",\n        },\n{\n            'v': 208.041941374425,\n            'f': \"208.041941374425\",\n        },\n{\n            'v': 97.5453577326958,\n            'f': \"97.5453577326958\",\n        },\n{\n            'v': 71.807954850299,\n            'f': \"71.807954850299\",\n        },\n{\n            'v': 3725.19076007351,\n            'f': \"3725.19076007351\",\n        },\n{\n            'v': 134.392554538255,\n            'f': \"134.392554538255\",\n        }]],\n        columns: [[\"number\", \"index\"], [\"number\", \"Unnamed: 0\"], [\"number\", \"\\u0421\\u043e\\u043e\\u0442\\u043d\\u043e\\u0448\\u0435\\u043d\\u0438\\u0435 \\u043c\\u0430\\u0442\\u0440\\u0438\\u0446\\u0430-\\u043d\\u0430\\u043f\\u043e\\u043b\\u043d\\u0438\\u0442\\u0435\\u043b\\u044c\"], [\"number\", \"\\u041f\\u043b\\u043e\\u0442\\u043d\\u043e\\u0441\\u0442\\u044c, \\u043a\\u0433/\\u043c3\"], [\"number\", \"\\u043c\\u043e\\u0434\\u0443\\u043b\\u044c \\u0443\\u043f\\u0440\\u0443\\u0433\\u043e\\u0441\\u0442\\u0438, \\u0413\\u041f\\u0430\"], [\"number\", \"\\u041a\\u043e\\u043b\\u0438\\u0447\\u0435\\u0441\\u0442\\u0432\\u043e \\u043e\\u0442\\u0432\\u0435\\u0440\\u0434\\u0438\\u0442\\u0435\\u043b\\u044f, \\u043c.%\"], [\"number\", \"\\u0421\\u043e\\u0434\\u0435\\u0440\\u0436\\u0430\\u043d\\u0438\\u0435 \\u044d\\u043f\\u043e\\u043a\\u0441\\u0438\\u0434\\u043d\\u044b\\u0445 \\u0433\\u0440\\u0443\\u043f\\u043f,%_2\"], [\"number\", \"\\u0422\\u0435\\u043c\\u043f\\u0435\\u0440\\u0430\\u0442\\u0443\\u0440\\u0430 \\u0432\\u0441\\u043f\\u044b\\u0448\\u043a\\u0438, \\u0421_2\"], [\"number\", \"\\u041f\\u043e\\u0432\\u0435\\u0440\\u0445\\u043d\\u043e\\u0441\\u0442\\u043d\\u0430\\u044f \\u043f\\u043b\\u043e\\u0442\\u043d\\u043e\\u0441\\u0442\\u044c, \\u0433/\\u043c2\"], [\"number\", \"\\u041c\\u043e\\u0434\\u0443\\u043b\\u044c \\u0443\\u043f\\u0440\\u0443\\u0433\\u043e\\u0441\\u0442\\u0438 \\u043f\\u0440\\u0438 \\u0440\\u0430\\u0441\\u0442\\u044f\\u0436\\u0435\\u043d\\u0438\\u0438, \\u0413\\u041f\\u0430\"], [\"number\", \"\\u041f\\u0440\\u043e\\u0447\\u043d\\u043e\\u0441\\u0442\\u044c \\u043f\\u0440\\u0438 \\u0440\\u0430\\u0441\\u0442\\u044f\\u0436\\u0435\\u043d\\u0438\\u0438, \\u041c\\u041f\\u0430\"], [\"number\", \"\\u041f\\u043e\\u0442\\u0440\\u0435\\u0431\\u043b\\u0435\\u043d\\u0438\\u0435 \\u0441\\u043c\\u043e\\u043b\\u044b, \\u0433/\\u043c2\"]],\n        columnOptions: [{\"width\": \"1px\", \"className\": \"index_column\"}],\n        rowsPerPage: 25,\n        helpUrl: \"https://colab.research.google.com/notebooks/data_table.ipynb\",\n        suppressOutputScrolling: true,\n        minimumWidth: undefined,\n      });\n    "
          },
          "metadata": {},
          "execution_count": 98
        }
      ]
    },
    {
      "cell_type": "code",
      "source": [],
      "metadata": {
        "id": "OsCiUbl70B-a"
      },
      "execution_count": null,
      "outputs": []
    },
    {
      "cell_type": "code",
      "source": [],
      "metadata": {
        "id": "wjydzc760B1R"
      },
      "execution_count": null,
      "outputs": []
    },
    {
      "cell_type": "code",
      "source": [],
      "metadata": {
        "id": "6MROxWUW0BsZ"
      },
      "execution_count": null,
      "outputs": []
    },
    {
      "cell_type": "code",
      "source": [],
      "metadata": {
        "id": "1VZ34Ql_0BiX"
      },
      "execution_count": null,
      "outputs": []
    },
    {
      "cell_type": "code",
      "source": [
        "from google.colab import data_table\n",
        "\n",
        "# data_table.enable_dataframe_formatter()\n",
        "\n",
        "# data.airports()\n",
        "\n",
        "# data_table.DataTable(data.airports(), include_index=False, num_rows_per_page=10)\n"
      ],
      "metadata": {
        "id": "hfIOMDFZZExN"
      },
      "execution_count": null,
      "outputs": []
    },
    {
      "cell_type": "markdown",
      "source": [
        "# RAW _ 01"
      ],
      "metadata": {
        "id": "MYlsb2X_pH7H"
      }
    },
    {
      "cell_type": "code",
      "execution_count": null,
      "metadata": {
        "id": "YhHuQ-6Y7Ht8"
      },
      "outputs": [],
      "source": [
        "# вывод таблиц Tutorial: Formatted Output in Python\n",
        "# https://www.youtube.com/watch?v=fsBslGyCeYI\n",
        "# https://www.youtube.com/watch?v=Mfmr_Puhtew\n",
        "# "
      ]
    },
    {
      "cell_type": "code",
      "source": [
        "std_lst = [['RNo', 'Name', 'Age', 'Code', 'Misc'],\n",
        "           ['0', 'Alex', '24', '5674-GG', '&^&^==='],\n",
        "           ['1', 'Tonny', '37', '74-RRG', 'zoi v<szf'],\n",
        "           ['2', 'Lisa', '22', '7775-DE', 'u7u7udk VH'],\n",
        "           ['3', 'Ann', '14', '74-33-54-G', '7U7uu'],]\n",
        "\n",
        "gap=' | '\n",
        "\n",
        "heading=f\"{gap}{'RNo':3s}{gap}{'Name':20s}{gap}{'Age':4s}{gap}{'Code':20s}{gap}{'Misc':20s}{gap}\"\n",
        "\n",
        "print(\"=\"*84)\n",
        "print(heading)\n",
        "print(\"-\"*84)\n",
        "\n",
        "for data in std_lst[1:]:\n",
        "  rec = f\"{gap}{data[0]:3s}{gap}{data[1]:20s}{gap}{data[2]:4s}{gap}{data[3]:20s}{gap}{data[4]:20s}{gap}\"\n",
        "  print(rec)\n",
        "print(\"-\"*84)"
      ],
      "metadata": {
        "id": "ku-goy7sBvln",
        "colab": {
          "base_uri": "https://localhost:8080/"
        },
        "outputId": "31332e11-16ed-4764-88b5-d204fb87a6aa"
      },
      "execution_count": null,
      "outputs": [
        {
          "output_type": "stream",
          "name": "stdout",
          "text": [
            "====================================================================================\n",
            " | RNo | Name                 | Age  | Code                 | Misc                 | \n",
            "------------------------------------------------------------------------------------\n",
            " | 0   | Alex                 | 24   | 5674-GG              | &^&^===              | \n",
            " | 1   | Tonny                | 37   | 74-RRG               | zoi v<szf            | \n",
            " | 2   | Lisa                 | 22   | 7775-DE              | u7u7udk VH           | \n",
            " | 3   | Ann                  | 14   | 74-33-54-G           | 7U7uu                | \n",
            "------------------------------------------------------------------------------------\n"
          ]
        }
      ]
    },
    {
      "cell_type": "code",
      "source": [
        "# Визуальный описательный анализ данных\n",
        "# https://github.com/tudev/Workshops-2020-2021/tree/master/Google%20Colab%20Tutorials\n",
        "# https://www.youtube.com/watch?v=1d8-KUIC7wQ\n"
      ],
      "metadata": {
        "id": "v-kz04-KP-4G"
      },
      "execution_count": null,
      "outputs": []
    },
    {
      "cell_type": "code",
      "source": [
        "# https://www.youtube.com/watch?v=UFtKj5k2Sis&list=PL_lHtZQj-g8PUSRi3NAAX1YbbiEazGFBa&index=7\n",
        "# prevent from disconnecting\n",
        "\n",
        "import IPython\n",
        "from google.colab import output\n",
        "\n",
        "display(IPython.display.Javascript('''\n",
        "function ClickConnect(){\n",
        "  btn = document.querySelector(\"colab-connect-button\")\n",
        "  if (btn !=null) {\n",
        "    console.log(\"Click colab-connect-button\");\n",
        "    btn.click()\n",
        "    }  \n",
        "  btn = getElementByID('ok')\n",
        "  if (btn !=null) {\n",
        "    console.log(\"Click reconnect\");\n",
        "    btn.click()\n",
        "    }\n",
        " }\n",
        "\n",
        "setInterval(ClickConnect,60000)\n",
        "'''))"
      ],
      "metadata": {
        "id": "GW9cIUdq-nNK"
      },
      "execution_count": null,
      "outputs": []
    },
    {
      "cell_type": "code",
      "source": [
        "# colab connection details\n",
        "from psutil import *\n",
        "\n",
        "# how much CPU\n",
        "print(f'CPU count:')\n",
        "cpu_count()\n",
        "\n",
        "# CPU model and speed\n",
        "! lscpu | grep 'Model name'\n",
        "\n",
        "# Usable HDD space\n",
        "print(f'Usable HDD space:')\n",
        "! df -h / | awk '{print $4}'\n",
        "\n",
        "# Usable memory\n",
        "print(f'Usable memory:')\n",
        "! free -h --si | awk '/Mem:/{print $2}'\n",
        "\n",
        "# GPU Type\n",
        "print(f'GPU Type:')\n",
        "! nvidia-smi -L\n",
        "\n",
        "#GPU specs\n",
        "print(f'GPU specs:')\n",
        "! nvidia-smi\n",
        "\n",
        "\n"
      ],
      "metadata": {
        "id": "idhTwtQKBi5E",
        "colab": {
          "base_uri": "https://localhost:8080/"
        },
        "outputId": "97c195f9-db1b-4090-8f56-426b5e3cc3bc"
      },
      "execution_count": 77,
      "outputs": [
        {
          "output_type": "stream",
          "name": "stdout",
          "text": [
            "CPU count:\n",
            "Model name:                      AMD EPYC 7B12\n",
            "Usable HDD space:\n",
            "Avail\n",
            "85G\n",
            "Usable memory:\n",
            "12G\n",
            "GPU Type:\n",
            "/bin/bash: nvidia-smi: command not found\n",
            "GPU specs:\n",
            "/bin/bash: nvidia-smi: command not found\n"
          ]
        }
      ]
    },
    {
      "cell_type": "code",
      "source": [
        "from google.colab import widgets\n",
        "\n",
        "print(\"\\n------------- Заголовок. -------------\\n\")\n",
        "\n",
        "# Now we can create a grid, optional header_row and header_column\n",
        "# control whether we want header elements in the grid\n",
        "grid = widgets.Grid(6, 2, header_row=True, header_column=True)\n",
        "with grid.output_to(0, 0):\n",
        "  print(\"1 колонка 1 ряда\")\n",
        "with grid.output_to(0, 1):\n",
        "  print(\"2 колонка 1 ряда\")\n",
        "with grid.output_to(1, 0):\n",
        "  print(\"1 колонка 2 ряда\")\n",
        "with grid.output_to(1, 1):\n",
        "  print(\"2 колонка 2 ряда\")\n",
        "with grid.output_to(2, 0):\n",
        "  print(\"1 колонка 3 ряда\")\n",
        "with grid.output_to(2, 1):\n",
        "  print(\"2 колонка 3 ряда\")\n",
        "with grid.output_to(3, 0):\n",
        "  print(\"1 колонка 4 ряда\")\n",
        "with grid.output_to(3, 1):\n",
        "  print(\"2 колонка 4 ряда\")\n",
        "with grid.output_to(4, 0):\n",
        "  print(\"1 колонка 5 ряда\")\n",
        "with grid.output_to(4, 1):\n",
        "  print(\"2 колонка 5 ряда\")\n",
        "with grid.output_to(5, 0):\n",
        "  print(\"1 колонка 6 ряда\")\n",
        "with grid.output_to(5, 1):\n",
        "  print(\"2 колонка 6 ряда\")\n",
        "\n",
        "print(\"\\n------------- Выполнено. -------------\\n\")\n",
        "# -------------\n",
        "\n",
        "t = widgets.TabBar([\"- план работ -\", \" - результат работ -\"])\n",
        "with t.output_to(0):\n",
        "  print(\"1) Удалилить папку 'sample_data'.\")\n",
        "  print(\"2) Cоздать папку 'dataset'.\")\n",
        "  print(\"3) Загрузить характеристики базальтопластика.\")\n",
        "  print(\"4) Загрузить характеристики нашивки из углепластика.\")\n",
        "  print(\"5) Всё проверить.\")\n",
        "\n",
        "#t.clear_tab(0)  # clears current\n",
        "# with t.output_to(0):\n",
        "#  print(\"1) Удалилить папку 'sample_data'.\")\n",
        "#  print(\"2) Cоздать папку 'dataset'.\")\n",
        "#  print(\"3) Загрузить характеристики базальтопластика.\")\n",
        "#  print(\"4) Загрузить характеристики нашивки из углепластика.\")\n",
        "#  print(\"5) Всё проверить.\")\n",
        "\n",
        "with t.output_to(1):\n",
        "  print(\"1) Удалена папка 'sample_data'.\")\n",
        "  print(\"2) Cоздана целевая папка 'dataset'.\")\n",
        "  print(\"3) Загружены характеристики базальтопластика. -> Файл 'X_bp.xlsx'.\")\n",
        "  print(\"4) Загружены характеристики нашивки из углепластика.-> Файл 'X_nup.xlsx'. \")\n",
        "  print(\"5) Всё проверено. OK.\")\n",
        "#t.clear_tab(1)\n",
        "# with t.output_to(1):\n",
        "#  print(\"Me too temporary\")\n",
        "#  print(\"1/2 Me is permanent\")\n",
        "#  print(\"2/2 Me too is permanent\")"
      ],
      "metadata": {
        "colab": {
          "resources": {
            "http://localhost:8080/nbextensions/google.colab/tabbar.css": {
              "data": "Lmdvb2ctdGFie3Bvc2l0aW9uOnJlbGF0aXZlO3BhZGRpbmc6NHB4IDhweDtjb2xvcjojMDBjO3RleHQtZGVjb3JhdGlvbjp1bmRlcmxpbmU7Y3Vyc29yOmRlZmF1bHR9Lmdvb2ctdGFiLWJhci10b3AgLmdvb2ctdGFie21hcmdpbjoxcHggNHB4IDAgMDtib3JkZXItYm90dG9tOjA7ZmxvYXQ6bGVmdH0uZ29vZy10YWItYmFyLXRvcDphZnRlciwuZ29vZy10YWItYmFyLWJvdHRvbTphZnRlcntjb250ZW50OiIgIjtkaXNwbGF5OmJsb2NrO2hlaWdodDowO2NsZWFyOmJvdGg7dmlzaWJpbGl0eTpoaWRkZW59Lmdvb2ctdGFiLWJhci1ib3R0b20gLmdvb2ctdGFie21hcmdpbjowIDRweCAxcHggMDtib3JkZXItdG9wOjA7ZmxvYXQ6bGVmdH0uZ29vZy10YWItYmFyLXN0YXJ0IC5nb29nLXRhYnttYXJnaW46MCAwIDRweCAxcHg7Ym9yZGVyLXJpZ2h0OjB9Lmdvb2ctdGFiLWJhci1lbmQgLmdvb2ctdGFie21hcmdpbjowIDFweCA0cHggMDtib3JkZXItbGVmdDowfS5nb29nLXRhYi1ob3ZlcntiYWNrZ3JvdW5kOiNlZWV9Lmdvb2ctdGFiLWRpc2FibGVke2NvbG9yOiM2NjZ9Lmdvb2ctdGFiLXNlbGVjdGVke2NvbG9yOiMwMDA7YmFja2dyb3VuZDojZmZmO3RleHQtZGVjb3JhdGlvbjpub25lO2ZvbnQtd2VpZ2h0OmJvbGQ7Ym9yZGVyOjFweCBzb2xpZCAjNmI5MGRhfS5nb29nLXRhYi1iYXItdG9we3BhZGRpbmctdG9wOjVweCFpbXBvcnRhbnQ7cGFkZGluZy1sZWZ0OjVweCFpbXBvcnRhbnQ7Ym9yZGVyLWJvdHRvbToxcHggc29saWQgIzZiOTBkYSFpbXBvcnRhbnR9Lmdvb2ctdGFiLWJhci10b3AgLmdvb2ctdGFiLXNlbGVjdGVke3RvcDoxcHg7bWFyZ2luLXRvcDowO3BhZGRpbmctYm90dG9tOjVweH0uZ29vZy10YWItYmFyLWJvdHRvbSAuZ29vZy10YWItc2VsZWN0ZWR7dG9wOi0xcHg7bWFyZ2luLWJvdHRvbTowO3BhZGRpbmctdG9wOjVweH0uZ29vZy10YWItYmFyLXN0YXJ0IC5nb29nLXRhYi1zZWxlY3RlZHtsZWZ0OjFweDttYXJnaW4tbGVmdDowO3BhZGRpbmctcmlnaHQ6OXB4fS5nb29nLXRhYi1iYXItZW5kIC5nb29nLXRhYi1zZWxlY3RlZHtsZWZ0Oi0xcHg7bWFyZ2luLXJpZ2h0OjA7cGFkZGluZy1sZWZ0OjlweH0uZ29vZy10YWItYmFye21hcmdpbjowO2JvcmRlcjowO3BhZGRpbmc6MDtsaXN0LXN0eWxlOm5vbmU7Y3Vyc29yOmRlZmF1bHQ7b3V0bGluZTpub25lO2JhY2tncm91bmQ6I2ViZWZmOX0uZ29vZy10YWItYmFyLWNsZWFye2NsZWFyOmJvdGg7aGVpZ2h0OjA7b3ZlcmZsb3c6aGlkZGVufS5nb29nLXRhYi1iYXItc3RhcnR7ZmxvYXQ6bGVmdH0uZ29vZy10YWItYmFyLWVuZHtmbG9hdDpyaWdodH0qIGh0bWwgLmdvb2ctdGFiLWJhci1zdGFydHttYXJnaW4tcmlnaHQ6LTNweH0qIGh0bWwgLmdvb2ctdGFiLWJhci1lbmR7bWFyZ2luLWxlZnQ6LTNweH0=",
              "ok": true,
              "headers": [
                [
                  "content-type",
                  "text/css"
                ]
              ],
              "status": 200,
              "status_text": ""
            },
            "http://localhost:8080/nbextensions/google.colab/tabbar_main.min.js": {
              "data": "Ly8gY2xhbmctZm9ybWF0IG9mZgooZnVuY3Rpb24oKXt2YXIgaCxhYT1mdW5jdGlvbihhKXt2YXIgYj0wO3JldHVybiBmdW5jdGlvbigpe3JldHVybiBiPGEubGVuZ3RoP3tkb25lOiExLHZhbHVlOmFbYisrXX06e2RvbmU6ITB9fX0sYmE9ZnVuY3Rpb24oYSl7dmFyIGI9InVuZGVmaW5lZCIhPXR5cGVvZiBTeW1ib2wmJlN5bWJvbC5pdGVyYXRvciYmYVtTeW1ib2wuaXRlcmF0b3JdO3JldHVybiBiP2IuY2FsbChhKTp7bmV4dDphYShhKX19LGw9dGhpc3x8c2VsZixjYT1mdW5jdGlvbigpe30sZGE9ZnVuY3Rpb24oYSl7YS5CYT12b2lkIDA7YS5SPWZ1bmN0aW9uKCl7cmV0dXJuIGEuQmE/YS5CYTphLkJhPW5ldyBhfX0sZWE9ZnVuY3Rpb24oYSl7dmFyIGI9dHlwZW9mIGE7aWYoIm9iamVjdCI9PWIpaWYoYSl7aWYoYSBpbnN0YW5jZW9mIEFycmF5KXJldHVybiJhcnJheSI7aWYoYSBpbnN0YW5jZW9mIE9iamVjdClyZXR1cm4gYjt2YXIgYz1PYmplY3QucHJvdG90eXBlLnRvU3RyaW5nLmNhbGwoYSk7aWYoIltvYmplY3QgV2luZG93XSI9PWMpcmV0dXJuIm9iamVjdCI7CmlmKCJbb2JqZWN0IEFycmF5XSI9PWN8fCJudW1iZXIiPT10eXBlb2YgYS5sZW5ndGgmJiJ1bmRlZmluZWQiIT10eXBlb2YgYS5zcGxpY2UmJiJ1bmRlZmluZWQiIT10eXBlb2YgYS5wcm9wZXJ0eUlzRW51bWVyYWJsZSYmIWEucHJvcGVydHlJc0VudW1lcmFibGUoInNwbGljZSIpKXJldHVybiJhcnJheSI7aWYoIltvYmplY3QgRnVuY3Rpb25dIj09Y3x8InVuZGVmaW5lZCIhPXR5cGVvZiBhLmNhbGwmJiJ1bmRlZmluZWQiIT10eXBlb2YgYS5wcm9wZXJ0eUlzRW51bWVyYWJsZSYmIWEucHJvcGVydHlJc0VudW1lcmFibGUoImNhbGwiKSlyZXR1cm4iZnVuY3Rpb24ifWVsc2UgcmV0dXJuIm51bGwiO2Vsc2UgaWYoImZ1bmN0aW9uIj09YiYmInVuZGVmaW5lZCI9PXR5cGVvZiBhLmNhbGwpcmV0dXJuIm9iamVjdCI7cmV0dXJuIGJ9LGZhPWZ1bmN0aW9uKGEpe3JldHVybiJhcnJheSI9PWVhKGEpfSxoYT1mdW5jdGlvbihhKXt2YXIgYj1lYShhKTtyZXR1cm4iYXJyYXkiPT1ifHwib2JqZWN0Ij09CmImJiJudW1iZXIiPT10eXBlb2YgYS5sZW5ndGh9LGlhPWZ1bmN0aW9uKGEpe3JldHVybiJmdW5jdGlvbiI9PWVhKGEpfSxtPWZ1bmN0aW9uKGEpe3ZhciBiPXR5cGVvZiBhO3JldHVybiJvYmplY3QiPT1iJiZudWxsIT1hfHwiZnVuY3Rpb24iPT1ifSxqYT0iY2xvc3VyZV91aWRfIisoMUU5Kk1hdGgucmFuZG9tKCk+Pj4wKSxrYT0wLGxhPWZ1bmN0aW9uKGEsYil7dmFyIGM9QXJyYXkucHJvdG90eXBlLnNsaWNlLmNhbGwoYXJndW1lbnRzLDEpO3JldHVybiBmdW5jdGlvbigpe3ZhciBkPWMuc2xpY2UoKTtkLnB1c2guYXBwbHkoZCxhcmd1bWVudHMpO3JldHVybiBhLmFwcGx5KHRoaXMsZCl9fSxuPWZ1bmN0aW9uKGEsYil7ZnVuY3Rpb24gYygpe31jLnByb3RvdHlwZT1iLnByb3RvdHlwZTthLmk9Yi5wcm90b3R5cGU7YS5wcm90b3R5cGU9bmV3IGM7YS5wcm90b3R5cGUuY29uc3RydWN0b3I9YX07dmFyIG1hLG5hPXtlYjoiYWN0aXZlZGVzY2VuZGFudCIsamI6ImF0b21pYyIsa2I6ImF1dG9jb21wbGV0ZSIsbWI6ImJ1c3kiLHBiOiJjaGVja2VkIixxYjoiY29saW5kZXgiLHZiOiJjb250cm9scyIseGI6ImRlc2NyaWJlZGJ5IixBYjoiZGlzYWJsZWQiLENiOiJkcm9wZWZmZWN0IixEYjoiZXhwYW5kZWQiLEViOiJmbG93dG8iLEdiOiJncmFiYmVkIixLYjoiaGFzcG9wdXAiLE1iOiJoaWRkZW4iLE9iOiJpbnZhbGlkIixQYjoibGFiZWwiLFFiOiJsYWJlbGxlZGJ5IixSYjoibGV2ZWwiLFdiOiJsaXZlIixrYzoibXVsdGlsaW5lIixsYzoibXVsdGlzZWxlY3RhYmxlIixwYzoib3JpZW50YXRpb24iLHFjOiJvd25zIixyYzoicG9zaW5zZXQiLHRjOiJwcmVzc2VkIix4YzoicmVhZG9ubHkiLHpjOiJyZWxldmFudCIsQWM6InJlcXVpcmVkIixFYzoicm93aW5kZXgiLEhjOiJzZWxlY3RlZCIsSmM6InNldHNpemUiLExjOiJzb3J0IixaYzoidmFsdWVtYXgiLCRjOiJ2YWx1ZW1pbiIsYWQ6InZhbHVlbm93IiwKYmQ6InZhbHVldGV4dCJ9O3ZhciBvYT1mdW5jdGlvbihhLGIsYyl7Zm9yKHZhciBkIGluIGEpYi5jYWxsKGMsYVtkXSxkLGEpfSxwYT1mdW5jdGlvbihhLGIpe2Zvcih2YXIgYyBpbiBhKWlmKGFbY109PWIpcmV0dXJuITA7cmV0dXJuITF9LHFhPWZ1bmN0aW9uKGEsYixjKXtpZihudWxsIT09YSYmYiBpbiBhKXRocm93IEVycm9yKCdUaGUgb2JqZWN0IGFscmVhZHkgY29udGFpbnMgdGhlIGtleSAiJytiKyciJyk7YVtiXT1jfSxzYT1mdW5jdGlvbihhKXt2YXIgYj17fSxjO2ZvcihjIGluIGEpYlthW2NdXT1jO3JldHVybiBifSx0YT0iY29uc3RydWN0b3IgaGFzT3duUHJvcGVydHkgaXNQcm90b3R5cGVPZiBwcm9wZXJ0eUlzRW51bWVyYWJsZSB0b0xvY2FsZVN0cmluZyB0b1N0cmluZyB2YWx1ZU9mIi5zcGxpdCgiICIpLHVhPWZ1bmN0aW9uKGEsYil7Zm9yKHZhciBjLGQsZT0xO2U8YXJndW1lbnRzLmxlbmd0aDtlKyspe2Q9YXJndW1lbnRzW2VdO2ZvcihjIGluIGQpYVtjXT1kW2NdO2Zvcih2YXIgZj0wO2Y8dGEubGVuZ3RoO2YrKyljPQp0YVtmXSxPYmplY3QucHJvdG90eXBlLmhhc093blByb3BlcnR5LmNhbGwoZCxjKSYmKGFbY109ZFtjXSl9fTt2YXIgdmE9e2ZiOiJhbGVydCIsZ2I6ImFsZXJ0ZGlhbG9nIixoYjoiYXBwbGljYXRpb24iLGliOiJhcnRpY2xlIixsYjoiYmFubmVyIixuYjoiYnV0dG9uIixvYjoiY2hlY2tib3giLHJiOiJjb2x1bW5oZWFkZXIiLHNiOiJjb21ib2JveCIsdGI6ImNvbXBsZW1lbnRhcnkiLHViOiJjb250ZW50aW5mbyIsd2I6ImRlZmluaXRpb24iLHliOiJkaWFsb2ciLHpiOiJkaXJlY3RvcnkiLEJiOiJkb2N1bWVudCIsRmI6ImZvcm0iLEhiOiJncmlkIixJYjoiZ3JpZGNlbGwiLEpiOiJncm91cCIsTGI6ImhlYWRpbmciLE5iOiJpbWciLFNiOiJsaW5rIixUYjoibGlzdCIsVWI6Imxpc3Rib3giLFZiOiJsaXN0aXRlbSIsWGI6ImxvZyIsWWI6Im1haW4iLFpiOiJtYXJxdWVlIiwkYjoibWF0aCIsYWM6Im1lbnUiLGJjOiJtZW51YmFyIixjYzoibWVudWl0ZW0iLGRjOiJtZW51aXRlbWNoZWNrYm94IixlYzoibWVudWl0ZW1yYWRpbyIsbWM6Im5hdmlnYXRpb24iLG5jOiJub3RlIixvYzoib3B0aW9uIiwKc2M6InByZXNlbnRhdGlvbiIsdWM6InByb2dyZXNzYmFyIix2YzoicmFkaW8iLHdjOiJyYWRpb2dyb3VwIix5YzoicmVnaW9uIixCYzoicm93IixDYzoicm93Z3JvdXAiLERjOiJyb3doZWFkZXIiLEZjOiJzY3JvbGxiYXIiLEdjOiJzZWFyY2giLEljOiJzZXBhcmF0b3IiLEtjOiJzbGlkZXIiLE1jOiJzcGluYnV0dG9uIixOYzoic3RhdHVzIixPYzoidGFiIixQYzoidGFibGlzdCIsUWM6InRhYnBhbmVsIixSYzoidGV4dGJveCIsU2M6InRleHRpbmZvIixUYzoidGltZXIiLFVjOiJ0b29sYmFyIixWYzoidG9vbHRpcCIsV2M6InRyZWUiLFhjOiJ0cmVlZ3JpZCIsWWM6InRyZWVpdGVtIn07dmFyIHdhPWZ1bmN0aW9uKGEpe2lmKEVycm9yLmNhcHR1cmVTdGFja1RyYWNlKUVycm9yLmNhcHR1cmVTdGFja1RyYWNlKHRoaXMsd2EpO2Vsc2V7dmFyIGI9RXJyb3IoKS5zdGFjaztiJiYodGhpcy5zdGFjaz1iKX1hJiYodGhpcy5tZXNzYWdlPVN0cmluZyhhKSl9O24od2EsRXJyb3IpO3dhLnByb3RvdHlwZS5uYW1lPSJDdXN0b21FcnJvciI7dmFyIHhhO3ZhciB5YT1mdW5jdGlvbihhLGIpe2E9YS5zcGxpdCgiJXMiKTtmb3IodmFyIGM9IiIsZD1hLmxlbmd0aC0xLGU9MDtlPGQ7ZSsrKWMrPWFbZV0rKGU8Yi5sZW5ndGg/YltlXToiJXMiKTt3YS5jYWxsKHRoaXMsYythW2RdKX07bih5YSx3YSk7eWEucHJvdG90eXBlLm5hbWU9IkFzc2VydGlvbkVycm9yIjsKdmFyIHphPWZ1bmN0aW9uKGEsYixjLGQpe3ZhciBlPSJBc3NlcnRpb24gZmFpbGVkIjtpZihjKXtlKz0iOiAiK2M7dmFyIGY9ZH1lbHNlIGEmJihlKz0iOiAiK2EsZj1iKTt0aHJvdyBuZXcgeWEoIiIrZSxmfHxbXSk7fSxxPWZ1bmN0aW9uKGEsYixjKXthfHx6YSgiIixudWxsLGIsQXJyYXkucHJvdG90eXBlLnNsaWNlLmNhbGwoYXJndW1lbnRzLDIpKTtyZXR1cm4gYX0sQWE9ZnVuY3Rpb24oYSxiLGMpe20oYSkmJjE9PWEubm9kZVR5cGV8fHphKCJFeHBlY3RlZCBFbGVtZW50IGJ1dCBnb3QgJXM6ICVzLiIsW2VhKGEpLGFdLGIsQXJyYXkucHJvdG90eXBlLnNsaWNlLmNhbGwoYXJndW1lbnRzLDIpKX0sQ2E9ZnVuY3Rpb24oYSxiLGMsZCl7YSBpbnN0YW5jZW9mIGJ8fHphKCJFeHBlY3RlZCBpbnN0YW5jZW9mICVzIGJ1dCBnb3QgJXMuIixbQmEoYiksQmEoYSldLGMsQXJyYXkucHJvdG90eXBlLnNsaWNlLmNhbGwoYXJndW1lbnRzLDMpKX0sQmE9ZnVuY3Rpb24oYSl7cmV0dXJuIGEgaW5zdGFuY2VvZgpGdW5jdGlvbj9hLmRpc3BsYXlOYW1lfHxhLm5hbWV8fCJ1bmtub3duIHR5cGUgbmFtZSI6YSBpbnN0YW5jZW9mIE9iamVjdD9hLmNvbnN0cnVjdG9yLmRpc3BsYXlOYW1lfHxhLmNvbnN0cnVjdG9yLm5hbWV8fE9iamVjdC5wcm90b3R5cGUudG9TdHJpbmcuY2FsbChhKTpudWxsPT09YT8ibnVsbCI6dHlwZW9mIGF9O3ZhciBEYT1BcnJheS5wcm90b3R5cGUuaW5kZXhPZj9mdW5jdGlvbihhLGIpe3EobnVsbCE9YS5sZW5ndGgpO3JldHVybiBBcnJheS5wcm90b3R5cGUuaW5kZXhPZi5jYWxsKGEsYix2b2lkIDApfTpmdW5jdGlvbihhLGIpe2lmKCJzdHJpbmciPT09dHlwZW9mIGEpcmV0dXJuInN0cmluZyIhPT10eXBlb2YgYnx8MSE9Yi5sZW5ndGg/LTE6YS5pbmRleE9mKGIsMCk7Zm9yKHZhciBjPTA7YzxhLmxlbmd0aDtjKyspaWYoYyBpbiBhJiZhW2NdPT09YilyZXR1cm4gYztyZXR1cm4tMX0scj1BcnJheS5wcm90b3R5cGUuZm9yRWFjaD9mdW5jdGlvbihhLGIsYyl7cShudWxsIT1hLmxlbmd0aCk7QXJyYXkucHJvdG90eXBlLmZvckVhY2guY2FsbChhLGIsYyl9OmZ1bmN0aW9uKGEsYixjKXtmb3IodmFyIGQ9YS5sZW5ndGgsZT0ic3RyaW5nIj09PXR5cGVvZiBhP2Euc3BsaXQoIiIpOmEsZj0wO2Y8ZDtmKyspZiBpbiBlJiZiLmNhbGwoYyxlW2ZdLGYsYSl9LEVhPUFycmF5LnByb3RvdHlwZS5maWx0ZXI/CmZ1bmN0aW9uKGEsYil7cShudWxsIT1hLmxlbmd0aCk7cmV0dXJuIEFycmF5LnByb3RvdHlwZS5maWx0ZXIuY2FsbChhLGIsdm9pZCAwKX06ZnVuY3Rpb24oYSxiKXtmb3IodmFyIGM9YS5sZW5ndGgsZD1bXSxlPTAsZj0ic3RyaW5nIj09PXR5cGVvZiBhP2Euc3BsaXQoIiIpOmEsZz0wO2c8YztnKyspaWYoZyBpbiBmKXt2YXIgaz1mW2ddO2IuY2FsbCh2b2lkIDAsayxnLGEpJiYoZFtlKytdPWspfXJldHVybiBkfSxGYT1BcnJheS5wcm90b3R5cGUuZXZlcnk/ZnVuY3Rpb24oYSxiKXtxKG51bGwhPWEubGVuZ3RoKTtyZXR1cm4gQXJyYXkucHJvdG90eXBlLmV2ZXJ5LmNhbGwoYSxiLHZvaWQgMCl9OmZ1bmN0aW9uKGEsYil7Zm9yKHZhciBjPWEubGVuZ3RoLGQ9InN0cmluZyI9PT10eXBlb2YgYT9hLnNwbGl0KCIiKTphLGU9MDtlPGM7ZSsrKWlmKGUgaW4gZCYmIWIuY2FsbCh2b2lkIDAsZFtlXSxlLGEpKXJldHVybiExO3JldHVybiEwfSxHYT1mdW5jdGlvbihhLGIpe3JldHVybiAwPD0KRGEoYSxiKX0sSGE9ZnVuY3Rpb24oYSxiKXtiPURhKGEsYik7dmFyIGM7aWYoYz0wPD1iKXEobnVsbCE9YS5sZW5ndGgpLEFycmF5LnByb3RvdHlwZS5zcGxpY2UuY2FsbChhLGIsMSk7cmV0dXJuIGN9LElhPWZ1bmN0aW9uKGEpe3JldHVybiBBcnJheS5wcm90b3R5cGUuY29uY2F0LmFwcGx5KFtdLGFyZ3VtZW50cyl9LEphPWZ1bmN0aW9uKGEpe3ZhciBiPWEubGVuZ3RoO2lmKDA8Yil7Zm9yKHZhciBjPUFycmF5KGIpLGQ9MDtkPGI7ZCsrKWNbZF09YVtkXTtyZXR1cm4gY31yZXR1cm5bXX0sTGE9ZnVuY3Rpb24oYSxiLGMsZCl7cShudWxsIT1hLmxlbmd0aCk7QXJyYXkucHJvdG90eXBlLnNwbGljZS5hcHBseShhLEthKGFyZ3VtZW50cywxKSl9LEthPWZ1bmN0aW9uKGEsYixjKXtxKG51bGwhPWEubGVuZ3RoKTtyZXR1cm4gMj49YXJndW1lbnRzLmxlbmd0aD9BcnJheS5wcm90b3R5cGUuc2xpY2UuY2FsbChhLGIpOkFycmF5LnByb3RvdHlwZS5zbGljZS5jYWxsKGEsYixjKX07dmFyIE1hPVN0cmluZy5wcm90b3R5cGUudHJpbT9mdW5jdGlvbihhKXtyZXR1cm4gYS50cmltKCl9OmZ1bmN0aW9uKGEpe3JldHVybi9eW1xzXHhhMF0qKFtcc1xTXSo/KVtcc1x4YTBdKiQvLmV4ZWMoYSlbMV19LE5hPS8mL2csT2E9LzwvZyxQYT0vPi9nLFFhPS8iL2csUmE9LycvZyxTYT0vXHgwMC9nLFRhPS9bXHgwMCY8PiInXS8sdD1mdW5jdGlvbihhLGIpe3JldHVybi0xIT1hLmluZGV4T2YoYil9LFVhPWZ1bmN0aW9uKGEsYil7cmV0dXJuIGE8Yj8tMTphPmI/MTowfTt2YXIgdTthOnt2YXIgVmE9bC5uYXZpZ2F0b3I7aWYoVmEpe3ZhciBXYT1WYS51c2VyQWdlbnQ7aWYoV2Epe3U9V2E7YnJlYWsgYX19dT0iIn07LyoKCiBDb3B5cmlnaHQgVGhlIENsb3N1cmUgTGlicmFyeSBBdXRob3JzLgogU1BEWC1MaWNlbnNlLUlkZW50aWZpZXI6IEFwYWNoZS0yLjAKKi8KdmFyIFhhPWZ1bmN0aW9uKGEpe1RhLnRlc3QoYSkmJigtMSE9YS5pbmRleE9mKCImIikmJihhPWEucmVwbGFjZShOYSwiJmFtcDsiKSksLTEhPWEuaW5kZXhPZigiPCIpJiYoYT1hLnJlcGxhY2UoT2EsIiZsdDsiKSksLTEhPWEuaW5kZXhPZigiPiIpJiYoYT1hLnJlcGxhY2UoUGEsIiZndDsiKSksLTEhPWEuaW5kZXhPZignIicpJiYoYT1hLnJlcGxhY2UoUWEsIiZxdW90OyIpKSwtMSE9YS5pbmRleE9mKCInIikmJihhPWEucmVwbGFjZShSYSwiJiMzOTsiKSksLTEhPWEuaW5kZXhPZigiXHgwMCIpJiYoYT1hLnJlcGxhY2UoU2EsIiYjMDsiKSkpO3JldHVybiBhfTt2YXIgWWE9ZnVuY3Rpb24oYSl7WWFbIiAiXShhKTtyZXR1cm4gYX07WWFbIiAiXT1jYTt2YXIgJGE9ZnVuY3Rpb24oYSxiKXt2YXIgYz1aYTtyZXR1cm4gT2JqZWN0LnByb3RvdHlwZS5oYXNPd25Qcm9wZXJ0eS5jYWxsKGMsYSk/Y1thXTpjW2FdPWIoYSl9O3ZhciBhYj10KHUsIk9wZXJhIiksdj10KHUsIlRyaWRlbnQiKXx8dCh1LCJNU0lFIiksYmI9dCh1LCJFZGdlIikseD10KHUsIkdlY2tvIikmJiEodCh1LnRvTG93ZXJDYXNlKCksIndlYmtpdCIpJiYhdCh1LCJFZGdlIikpJiYhKHQodSwiVHJpZGVudCIpfHx0KHUsIk1TSUUiKSkmJiF0KHUsIkVkZ2UiKSx5PXQodS50b0xvd2VyQ2FzZSgpLCJ3ZWJraXQiKSYmIXQodSwiRWRnZSIpLHo9dCh1LCJNYWNpbnRvc2giKSxjYj1mdW5jdGlvbigpe3ZhciBhPWwuZG9jdW1lbnQ7cmV0dXJuIGE/YS5kb2N1bWVudE1vZGU6dm9pZCAwfSxkYjsKYTp7dmFyIGViPSIiLGZiPWZ1bmN0aW9uKCl7dmFyIGE9dTtpZih4KXJldHVybi9ydjooW15cKTtdKykoXCl8OykvLmV4ZWMoYSk7aWYoYmIpcmV0dXJuL0VkZ2VcLyhbXGRcLl0rKS8uZXhlYyhhKTtpZih2KXJldHVybi9cYig/Ok1TSUV8cnYpWzogXShbXlwpO10rKShcKXw7KS8uZXhlYyhhKTtpZih5KXJldHVybi9XZWJLaXRcLyhcUyspLy5leGVjKGEpO2lmKGFiKXJldHVybi8oPzpWZXJzaW9uKVsgXC9dPyhcUyspLy5leGVjKGEpfSgpO2ZiJiYoZWI9ZmI/ZmJbMV06IiIpO2lmKHYpe3ZhciBnYj1jYigpO2lmKG51bGwhPWdiJiZnYj5wYXJzZUZsb2F0KGViKSl7ZGI9U3RyaW5nKGdiKTticmVhayBhfX1kYj1lYn0KdmFyIGhiPWRiLFphPXt9LEE9ZnVuY3Rpb24oYSl7cmV0dXJuICRhKGEsZnVuY3Rpb24oKXtmb3IodmFyIGI9MCxjPU1hKFN0cmluZyhoYikpLnNwbGl0KCIuIiksZD1NYShTdHJpbmcoYSkpLnNwbGl0KCIuIiksZT1NYXRoLm1heChjLmxlbmd0aCxkLmxlbmd0aCksZj0wOzA9PWImJmY8ZTtmKyspe3ZhciBnPWNbZl18fCIiLGs9ZFtmXXx8IiI7ZG97Zz0vKFxkKikoXEQqKSguKikvLmV4ZWMoZyl8fFsiIiwiIiwiIiwiIl07az0vKFxkKikoXEQqKSguKikvLmV4ZWMoayl8fFsiIiwiIiwiIiwiIl07aWYoMD09Z1swXS5sZW5ndGgmJjA9PWtbMF0ubGVuZ3RoKWJyZWFrO2I9VWEoMD09Z1sxXS5sZW5ndGg/MDpwYXJzZUludChnWzFdLDEwKSwwPT1rWzFdLmxlbmd0aD8wOnBhcnNlSW50KGtbMV0sMTApKXx8VWEoMD09Z1syXS5sZW5ndGgsMD09a1syXS5sZW5ndGgpfHxVYShnWzJdLGtbMl0pO2c9Z1szXTtrPWtbM119d2hpbGUoMD09Yil9cmV0dXJuIDA8PWJ9KX0saWI7CmliPWwuZG9jdW1lbnQmJnY/Y2IoKTp2b2lkIDA7dmFyIGpiPSF2fHw5PD1OdW1iZXIoaWIpO3ZhciBsYj1mdW5jdGlvbihhLGIpe29hKGIsZnVuY3Rpb24oYyxkKXtjJiYib2JqZWN0Ij09dHlwZW9mIGMmJmMuZGQmJihjPWMuY2QoKSk7InN0eWxlIj09ZD9hLnN0eWxlLmNzc1RleHQ9YzoiY2xhc3MiPT1kP2EuY2xhc3NOYW1lPWM6ImZvciI9PWQ/YS5odG1sRm9yPWM6a2IuaGFzT3duUHJvcGVydHkoZCk/YS5zZXRBdHRyaWJ1dGUoa2JbZF0sYyk6MD09ZC5sYXN0SW5kZXhPZigiYXJpYS0iLDApfHwwPT1kLmxhc3RJbmRleE9mKCJkYXRhLSIsMCk/YS5zZXRBdHRyaWJ1dGUoZCxjKTphW2RdPWN9KX0sa2I9e2NlbGxwYWRkaW5nOiJjZWxsUGFkZGluZyIsY2VsbHNwYWNpbmc6ImNlbGxTcGFjaW5nIixjb2xzcGFuOiJjb2xTcGFuIixmcmFtZWJvcmRlcjoiZnJhbWVCb3JkZXIiLGhlaWdodDoiaGVpZ2h0IixtYXhsZW5ndGg6Im1heExlbmd0aCIsbm9uY2U6Im5vbmNlIixyb2xlOiJyb2xlIixyb3dzcGFuOiJyb3dTcGFuIix0eXBlOiJ0eXBlIix1c2VtYXA6InVzZU1hcCIsdmFsaWduOiJ2QWxpZ24iLAp3aWR0aDoid2lkdGgifSxtYj1mdW5jdGlvbihhLGIsYyl7ZnVuY3Rpb24gZChrKXtrJiZiLmFwcGVuZENoaWxkKCJzdHJpbmciPT09dHlwZW9mIGs/YS5jcmVhdGVUZXh0Tm9kZShrKTprKX1mb3IodmFyIGU9MjtlPGMubGVuZ3RoO2UrKyl7dmFyIGY9Y1tlXTtpZighaGEoZil8fG0oZikmJjA8Zi5ub2RlVHlwZSlkKGYpO2Vsc2V7YTp7aWYoZiYmIm51bWJlciI9PXR5cGVvZiBmLmxlbmd0aCl7aWYobShmKSl7dmFyIGc9ImZ1bmN0aW9uIj09dHlwZW9mIGYuaXRlbXx8InN0cmluZyI9PXR5cGVvZiBmLml0ZW07YnJlYWsgYX1pZihpYShmKSl7Zz0iZnVuY3Rpb24iPT10eXBlb2YgZi5pdGVtO2JyZWFrIGF9fWc9ITF9cihnP0phKGYpOmYsZCl9fX0sbmI9ZnVuY3Rpb24oYSxiKXtiPVN0cmluZyhiKTsiYXBwbGljYXRpb24veGh0bWwreG1sIj09PWEuY29udGVudFR5cGUmJihiPWIudG9Mb3dlckNhc2UoKSk7cmV0dXJuIGEuY3JlYXRlRWxlbWVudChiKX0sb2I9ZnVuY3Rpb24oYSl7YSYmCmEucGFyZW50Tm9kZSYmYS5wYXJlbnROb2RlLnJlbW92ZUNoaWxkKGEpfSxwYj1mdW5jdGlvbihhLGIpe2lmKCFhfHwhYilyZXR1cm4hMTtpZihhLmNvbnRhaW5zJiYxPT1iLm5vZGVUeXBlKXJldHVybiBhPT1ifHxhLmNvbnRhaW5zKGIpO2lmKCJ1bmRlZmluZWQiIT10eXBlb2YgYS5jb21wYXJlRG9jdW1lbnRQb3NpdGlvbilyZXR1cm4gYT09Ynx8ISEoYS5jb21wYXJlRG9jdW1lbnRQb3NpdGlvbihiKSYxNik7Zm9yKDtiJiZhIT1iOyliPWIucGFyZW50Tm9kZTtyZXR1cm4gYj09YX0scWI9ZnVuY3Rpb24oYSl7cShhLCJOb2RlIGNhbm5vdCBiZSBudWxsIG9yIHVuZGVmaW5lZC4iKTtyZXR1cm4gOT09YS5ub2RlVHlwZT9hOmEub3duZXJEb2N1bWVudHx8YS5kb2N1bWVudH0scmI9ZnVuY3Rpb24oYSxiKXtiP2EudGFiSW5kZXg9MDooYS50YWJJbmRleD0tMSxhLnJlbW92ZUF0dHJpYnV0ZSgidGFiSW5kZXgiKSl9LHNiPWZ1bmN0aW9uKGEpe3JldHVybiB2JiYhQSgiOSIpPyhhPWEuZ2V0QXR0cmlidXRlTm9kZSgidGFiaW5kZXgiKSwKbnVsbCE9YSYmYS5zcGVjaWZpZWQpOmEuaGFzQXR0cmlidXRlKCJ0YWJpbmRleCIpfSx0Yj1mdW5jdGlvbihhKXthPWEudGFiSW5kZXg7cmV0dXJuIm51bWJlciI9PT10eXBlb2YgYSYmMDw9YSYmMzI3Njg+YX0sdWI9ZnVuY3Rpb24oYSl7dGhpcy5hPWF8fGwuZG9jdW1lbnR8fGRvY3VtZW50fTt1Yi5wcm90b3R5cGUuZj1mdW5jdGlvbihhKXtyZXR1cm4ic3RyaW5nIj09PXR5cGVvZiBhP3RoaXMuYS5nZXRFbGVtZW50QnlJZChhKTphfTsKdWIucHJvdG90eXBlLmI9ZnVuY3Rpb24oYSxiLGMpe3ZhciBkPXRoaXMuYSxlPWFyZ3VtZW50cyxmPVN0cmluZyhlWzBdKSxnPWVbMV07aWYoIWpiJiZnJiYoZy5uYW1lfHxnLnR5cGUpKXtmPVsiPCIsZl07Zy5uYW1lJiZmLnB1c2goJyBuYW1lPSInLFhhKGcubmFtZSksJyInKTtpZihnLnR5cGUpe2YucHVzaCgnIHR5cGU9IicsWGEoZy50eXBlKSwnIicpO3ZhciBrPXt9O3VhKGssZyk7ZGVsZXRlIGsudHlwZTtnPWt9Zi5wdXNoKCI+Iik7Zj1mLmpvaW4oIiIpfWY9bmIoZCxmKTtnJiYoInN0cmluZyI9PT10eXBlb2YgZz9mLmNsYXNzTmFtZT1nOmZhKGcpP2YuY2xhc3NOYW1lPWcuam9pbigiICIpOmxiKGYsZykpOzI8ZS5sZW5ndGgmJm1iKGQsZixlKTtyZXR1cm4gZn07dmFyIHZiPWZ1bmN0aW9uKGEsYil7Yj8ocShwYSh2YSxiKSwiTm8gc3VjaCBBUklBIHJvbGUgIitiKSxhLnNldEF0dHJpYnV0ZSgicm9sZSIsYikpOmEucmVtb3ZlQXR0cmlidXRlKCJyb2xlIil9LHhiPWZ1bmN0aW9uKGEsYixjKXtmYShjKSYmKGM9Yy5qb2luKCIgIikpO3ZhciBkPXdiKGIpOyIiPT09Y3x8dm9pZCAwPT1jPyhtYXx8KG1hPXthdG9taWM6ITEsYXV0b2NvbXBsZXRlOiJub25lIixkcm9wZWZmZWN0OiJub25lIixoYXNwb3B1cDohMSxsaXZlOiJvZmYiLG11bHRpbGluZTohMSxtdWx0aXNlbGVjdGFibGU6ITEsb3JpZW50YXRpb246InZlcnRpY2FsIixyZWFkb25seTohMSxyZWxldmFudDoiYWRkaXRpb25zIHRleHQiLHJlcXVpcmVkOiExLHNvcnQ6Im5vbmUiLGJ1c3k6ITEsZGlzYWJsZWQ6ITEsaGlkZGVuOiExLGludmFsaWQ6ImZhbHNlIn0pLGM9bWEsYiBpbiBjP2Euc2V0QXR0cmlidXRlKGQsY1tiXSk6YS5yZW1vdmVBdHRyaWJ1dGUoZCkpOmEuc2V0QXR0cmlidXRlKGQsCmMpfSx3Yj1mdW5jdGlvbihhKXtxKGEsIkFSSUEgYXR0cmlidXRlIGNhbm5vdCBiZSBlbXB0eS4iKTtxKHBhKG5hLGEpLCJObyBzdWNoIEFSSUEgYXR0cmlidXRlICIrYSk7cmV0dXJuImFyaWEtIithfTt2YXIgeWI9T2JqZWN0LmZyZWV6ZXx8ZnVuY3Rpb24oYSl7cmV0dXJuIGF9O3ZhciBDPWZ1bmN0aW9uKCl7dGhpcy5VPXRoaXMuVTt0aGlzLko9dGhpcy5KfTtDLnByb3RvdHlwZS5VPSExO0MucHJvdG90eXBlLk49ZnVuY3Rpb24oKXt0aGlzLlV8fCh0aGlzLlU9ITAsdGhpcy51KCkpfTt2YXIgemI9ZnVuY3Rpb24oYSxiKXthLlU/YigpOihhLkp8fChhLko9W10pLGEuSi5wdXNoKGIpKX07Qy5wcm90b3R5cGUudT1mdW5jdGlvbigpe2lmKHRoaXMuSilmb3IoO3RoaXMuSi5sZW5ndGg7KXRoaXMuSi5zaGlmdCgpKCl9O3ZhciBBYj1mdW5jdGlvbihhKXthJiYiZnVuY3Rpb24iPT10eXBlb2YgYS5OJiZhLk4oKX07dmFyIEJiPWZ1bmN0aW9uKGEpe3JldHVybiJzdHJpbmciPT10eXBlb2YgYS5jbGFzc05hbWU/YS5jbGFzc05hbWU6YS5nZXRBdHRyaWJ1dGUmJmEuZ2V0QXR0cmlidXRlKCJjbGFzcyIpfHwiIn0sRD1mdW5jdGlvbihhKXtyZXR1cm4gYS5jbGFzc0xpc3Q/YS5jbGFzc0xpc3Q6QmIoYSkubWF0Y2goL1xTKy9nKXx8W119LENiPWZ1bmN0aW9uKGEsYil7InN0cmluZyI9PXR5cGVvZiBhLmNsYXNzTmFtZT9hLmNsYXNzTmFtZT1iOmEuc2V0QXR0cmlidXRlJiZhLnNldEF0dHJpYnV0ZSgiY2xhc3MiLGIpfSxEYj1mdW5jdGlvbihhLGIpe3JldHVybiBhLmNsYXNzTGlzdD9hLmNsYXNzTGlzdC5jb250YWlucyhiKTpHYShEKGEpLGIpfSxFYj1mdW5jdGlvbihhLGIpe2lmKGEuY2xhc3NMaXN0KWEuY2xhc3NMaXN0LmFkZChiKTtlbHNlIGlmKCFEYihhLGIpKXt2YXIgYz1CYihhKTtDYihhLGMrKDA8Yy5sZW5ndGg/IiAiK2I6YikpfX0sRmI9ZnVuY3Rpb24oYSxiKXtpZihhLmNsYXNzTGlzdClyKGIsCmZ1bmN0aW9uKGUpe0ViKGEsZSl9KTtlbHNle3ZhciBjPXt9O3IoRChhKSxmdW5jdGlvbihlKXtjW2VdPSEwfSk7cihiLGZ1bmN0aW9uKGUpe2NbZV09ITB9KTtiPSIiO2Zvcih2YXIgZCBpbiBjKWIrPTA8Yi5sZW5ndGg/IiAiK2Q6ZDtDYihhLGIpfX0sR2I9ZnVuY3Rpb24oYSxiKXthLmNsYXNzTGlzdD9hLmNsYXNzTGlzdC5yZW1vdmUoYik6RGIoYSxiKSYmQ2IoYSxFYShEKGEpLGZ1bmN0aW9uKGMpe3JldHVybiBjIT1ifSkuam9pbigiICIpKX0sSGI9ZnVuY3Rpb24oYSxiKXthLmNsYXNzTGlzdD9yKGIsZnVuY3Rpb24oYyl7R2IoYSxjKX0pOkNiKGEsRWEoRChhKSxmdW5jdGlvbihjKXtyZXR1cm4hR2EoYixjKX0pLmpvaW4oIiAiKSl9O3ZhciBJYj0hdnx8OTw9TnVtYmVyKGliKSxKYj0hdnx8OTw9TnVtYmVyKGliKSxLYj12JiYhQSgiOSIpLExiPWZ1bmN0aW9uKCl7aWYoIWwuYWRkRXZlbnRMaXN0ZW5lcnx8IU9iamVjdC5kZWZpbmVQcm9wZXJ0eSlyZXR1cm4hMTt2YXIgYT0hMSxiPU9iamVjdC5kZWZpbmVQcm9wZXJ0eSh7fSwicGFzc2l2ZSIse2dldDpmdW5jdGlvbigpe2E9ITB9fSk7dHJ5e2wuYWRkRXZlbnRMaXN0ZW5lcigidGVzdCIsY2EsYiksbC5yZW1vdmVFdmVudExpc3RlbmVyKCJ0ZXN0IixjYSxiKX1jYXRjaChjKXt9cmV0dXJuIGF9KCk7dmFyIEU9ZnVuY3Rpb24oYSxiKXt0aGlzLnR5cGU9YTt0aGlzLmE9dGhpcy50YXJnZXQ9Yjt0aGlzLmg9ITE7dGhpcy5LYT0hMH07RS5wcm90b3R5cGUuaj1mdW5jdGlvbigpe3RoaXMuaD0hMH07RS5wcm90b3R5cGUuZz1mdW5jdGlvbigpe3RoaXMuS2E9ITF9O3ZhciBGPXtMOiJtb3VzZWRvd24iLE06Im1vdXNldXAiLGFhOiJtb3VzZWNhbmNlbCIsaGM6Im1vdXNlbW92ZSIsamM6Im1vdXNlb3ZlciIsaWM6Im1vdXNlb3V0IixmYzoibW91c2VlbnRlciIsZ2M6Im1vdXNlbGVhdmUifTt2YXIgRz1mdW5jdGlvbihhLGIpe0UuY2FsbCh0aGlzLGE/YS50eXBlOiIiKTt0aGlzLnJlbGF0ZWRUYXJnZXQ9dGhpcy5hPXRoaXMudGFyZ2V0PW51bGw7dGhpcy5idXR0b249dGhpcy5zY3JlZW5ZPXRoaXMuc2NyZWVuWD10aGlzLmNsaWVudFk9dGhpcy5jbGllbnRYPTA7dGhpcy5rZXk9IiI7dGhpcy5jPTA7dGhpcy5BPXRoaXMubWV0YUtleT10aGlzLnNoaWZ0S2V5PXRoaXMuYWx0S2V5PXRoaXMuY3RybEtleT0hMTt0aGlzLnBvaW50ZXJJZD0wO3RoaXMucG9pbnRlclR5cGU9IiI7dGhpcy5iPW51bGw7aWYoYSl7dmFyIGM9dGhpcy50eXBlPWEudHlwZSxkPWEuY2hhbmdlZFRvdWNoZXMmJmEuY2hhbmdlZFRvdWNoZXMubGVuZ3RoP2EuY2hhbmdlZFRvdWNoZXNbMF06bnVsbDt0aGlzLnRhcmdldD1hLnRhcmdldHx8YS5zcmNFbGVtZW50O3RoaXMuYT1iO2lmKGI9YS5yZWxhdGVkVGFyZ2V0KXtpZih4KXthOnt0cnl7WWEoYi5ub2RlTmFtZSk7dmFyIGU9ITA7YnJlYWsgYX1jYXRjaChmKXt9ZT0KITF9ZXx8KGI9bnVsbCl9fWVsc2UibW91c2VvdmVyIj09Yz9iPWEuZnJvbUVsZW1lbnQ6Im1vdXNlb3V0Ij09YyYmKGI9YS50b0VsZW1lbnQpO3RoaXMucmVsYXRlZFRhcmdldD1iO2Q/KHRoaXMuY2xpZW50WD12b2lkIDAhPT1kLmNsaWVudFg/ZC5jbGllbnRYOmQucGFnZVgsdGhpcy5jbGllbnRZPXZvaWQgMCE9PWQuY2xpZW50WT9kLmNsaWVudFk6ZC5wYWdlWSx0aGlzLnNjcmVlblg9ZC5zY3JlZW5YfHwwLHRoaXMuc2NyZWVuWT1kLnNjcmVlbll8fDApOih0aGlzLmNsaWVudFg9dm9pZCAwIT09YS5jbGllbnRYP2EuY2xpZW50WDphLnBhZ2VYLHRoaXMuY2xpZW50WT12b2lkIDAhPT1hLmNsaWVudFk/YS5jbGllbnRZOmEucGFnZVksdGhpcy5zY3JlZW5YPWEuc2NyZWVuWHx8MCx0aGlzLnNjcmVlblk9YS5zY3JlZW5ZfHwwKTt0aGlzLmJ1dHRvbj1hLmJ1dHRvbjt0aGlzLmM9YS5rZXlDb2RlfHwwO3RoaXMua2V5PWEua2V5fHwiIjt0aGlzLmN0cmxLZXk9YS5jdHJsS2V5O3RoaXMuYWx0S2V5PQphLmFsdEtleTt0aGlzLnNoaWZ0S2V5PWEuc2hpZnRLZXk7dGhpcy5tZXRhS2V5PWEubWV0YUtleTt0aGlzLkE9ej9hLm1ldGFLZXk6YS5jdHJsS2V5O3RoaXMucG9pbnRlcklkPWEucG9pbnRlcklkfHwwO3RoaXMucG9pbnRlclR5cGU9InN0cmluZyI9PT10eXBlb2YgYS5wb2ludGVyVHlwZT9hLnBvaW50ZXJUeXBlOk1iW2EucG9pbnRlclR5cGVdfHwiIjt0aGlzLmI9YTthLmRlZmF1bHRQcmV2ZW50ZWQmJnRoaXMuZygpfX07bihHLEUpO3ZhciBOYj15YihbMSw0LDJdKSxNYj15Yih7MjoidG91Y2giLDM6InBlbiIsNDoibW91c2UifSksT2I9ZnVuY3Rpb24oYSl7cmV0dXJuIEliPzA9PWEuYi5idXR0b246ImNsaWNrIj09YS50eXBlPyEwOiEhKGEuYi5idXR0b24mTmJbMF0pfTtHLnByb3RvdHlwZS5qPWZ1bmN0aW9uKCl7Ry5pLmouY2FsbCh0aGlzKTt0aGlzLmIuc3RvcFByb3BhZ2F0aW9uP3RoaXMuYi5zdG9wUHJvcGFnYXRpb24oKTp0aGlzLmIuY2FuY2VsQnViYmxlPSEwfTsKRy5wcm90b3R5cGUuZz1mdW5jdGlvbigpe0cuaS5nLmNhbGwodGhpcyk7dmFyIGE9dGhpcy5iO2lmKGEucHJldmVudERlZmF1bHQpYS5wcmV2ZW50RGVmYXVsdCgpO2Vsc2UgaWYoYS5yZXR1cm5WYWx1ZT0hMSxLYil0cnl7aWYoYS5jdHJsS2V5fHwxMTI8PWEua2V5Q29kZSYmMTIzPj1hLmtleUNvZGUpYS5rZXlDb2RlPS0xfWNhdGNoKGIpe319O3ZhciBQYj0iY2xvc3VyZV9saXN0ZW5hYmxlXyIrKDFFNipNYXRoLnJhbmRvbSgpfDApLFFiPWZ1bmN0aW9uKGEpe3JldHVybiEoIWF8fCFhW1BiXSl9LFJiPTA7dmFyIFNiPWZ1bmN0aW9uKGEsYixjLGQsZSl7dGhpcy5saXN0ZW5lcj1hO3RoaXMuYT1udWxsO3RoaXMuc3JjPWI7dGhpcy50eXBlPWM7dGhpcy5jYXB0dXJlPSEhZDt0aGlzLm1hPWU7dGhpcy5rZXk9KytSYjt0aGlzLlg9dGhpcy5oYT0hMX0sVGI9ZnVuY3Rpb24oYSl7YS5YPSEwO2EubGlzdGVuZXI9bnVsbDthLmE9bnVsbDthLnNyYz1udWxsO2EubWE9bnVsbH07dmFyIFViPWZ1bmN0aW9uKGEpe3RoaXMuc3JjPWE7dGhpcy5hPXt9O3RoaXMuYj0wfTtVYi5wcm90b3R5cGUuYWRkPWZ1bmN0aW9uKGEsYixjLGQsZSl7dmFyIGY9YS50b1N0cmluZygpO2E9dGhpcy5hW2ZdO2F8fChhPXRoaXMuYVtmXT1bXSx0aGlzLmIrKyk7dmFyIGc9VmIoYSxiLGQsZSk7LTE8Zz8oYj1hW2ddLGN8fChiLmhhPSExKSk6KGI9bmV3IFNiKGIsdGhpcy5zcmMsZiwhIWQsZSksYi5oYT1jLGEucHVzaChiKSk7cmV0dXJuIGJ9Owp2YXIgV2I9ZnVuY3Rpb24oYSxiKXt2YXIgYz1iLnR5cGU7YyBpbiBhLmEmJkhhKGEuYVtjXSxiKSYmKFRiKGIpLDA9PWEuYVtjXS5sZW5ndGgmJihkZWxldGUgYS5hW2NdLGEuYi0tKSl9LFhiPWZ1bmN0aW9uKGEsYixjLGQsZSl7YT1hLmFbYi50b1N0cmluZygpXTtiPS0xO2EmJihiPVZiKGEsYyxkLGUpKTtyZXR1cm4tMTxiP2FbYl06bnVsbH0sVmI9ZnVuY3Rpb24oYSxiLGMsZCl7Zm9yKHZhciBlPTA7ZTxhLmxlbmd0aDsrK2Upe3ZhciBmPWFbZV07aWYoIWYuWCYmZi5saXN0ZW5lcj09YiYmZi5jYXB0dXJlPT0hIWMmJmYubWE9PWQpcmV0dXJuIGV9cmV0dXJuLTF9O3ZhciBZYj0iY2xvc3VyZV9sbV8iKygxRTYqTWF0aC5yYW5kb20oKXwwKSxaYj17fSwkYj0wLGJjPWZ1bmN0aW9uKGEsYixjLGQsZSl7aWYoZCYmZC5vbmNlKXJldHVybiBhYyhhLGIsYyxkLGUpO2lmKGZhKGIpKXtmb3IodmFyIGY9MDtmPGIubGVuZ3RoO2YrKyliYyhhLGJbZl0sYyxkLGUpO3JldHVybiBudWxsfWM9Y2MoYyk7cmV0dXJuIFFiKGEpP2RjKGEsYixjLG0oZCk/ISFkLmNhcHR1cmU6ISFkLGUpOmVjKGEsYixjLCExLGQsZSl9LGVjPWZ1bmN0aW9uKGEsYixjLGQsZSxmKXtpZighYil0aHJvdyBFcnJvcigiSW52YWxpZCBldmVudCB0eXBlIik7dmFyIGc9bShlKT8hIWUuY2FwdHVyZTohIWUsaz1mYyhhKTtrfHwoYVtZYl09az1uZXcgVWIoYSkpO2M9ay5hZGQoYixjLGQsZyxmKTtpZihjLmEpcmV0dXJuIGM7ZD1nYygpO2MuYT1kO2Quc3JjPWE7ZC5saXN0ZW5lcj1jO2lmKGEuYWRkRXZlbnRMaXN0ZW5lcilMYnx8KGU9Zyksdm9pZCAwPT09ZSYmKGU9ITEpLGEuYWRkRXZlbnRMaXN0ZW5lcihiLnRvU3RyaW5nKCksCmQsZSk7ZWxzZSBpZihhLmF0dGFjaEV2ZW50KWEuYXR0YWNoRXZlbnQoaGMoYi50b1N0cmluZygpKSxkKTtlbHNlIGlmKGEuYWRkTGlzdGVuZXImJmEucmVtb3ZlTGlzdGVuZXIpcSgiY2hhbmdlIj09PWIsIk1lZGlhUXVlcnlMaXN0IG9ubHkgaGFzIGEgY2hhbmdlIGV2ZW50IiksYS5hZGRMaXN0ZW5lcihkKTtlbHNlIHRocm93IEVycm9yKCJhZGRFdmVudExpc3RlbmVyIGFuZCBhdHRhY2hFdmVudCBhcmUgdW5hdmFpbGFibGUuIik7JGIrKztyZXR1cm4gY30sZ2M9ZnVuY3Rpb24oKXt2YXIgYT1pYyxiPUpiP2Z1bmN0aW9uKGMpe3JldHVybiBhLmNhbGwoYi5zcmMsYi5saXN0ZW5lcixjKX06ZnVuY3Rpb24oYyl7Yz1hLmNhbGwoYi5zcmMsYi5saXN0ZW5lcixjKTtpZighYylyZXR1cm4gY307cmV0dXJuIGJ9LGFjPWZ1bmN0aW9uKGEsYixjLGQsZSl7aWYoZmEoYikpe2Zvcih2YXIgZj0wO2Y8Yi5sZW5ndGg7ZisrKWFjKGEsYltmXSxjLGQsZSk7cmV0dXJuIG51bGx9Yz1jYyhjKTtyZXR1cm4gUWIoYSk/CmEuaC5hZGQoU3RyaW5nKGIpLGMsITAsbShkKT8hIWQuY2FwdHVyZTohIWQsZSk6ZWMoYSxiLGMsITAsZCxlKX0samM9ZnVuY3Rpb24oYSxiLGMsZCxlKXtpZihmYShiKSlmb3IodmFyIGY9MDtmPGIubGVuZ3RoO2YrKylqYyhhLGJbZl0sYyxkLGUpO2Vsc2UgZD1tKGQpPyEhZC5jYXB0dXJlOiEhZCxjPWNjKGMpLFFiKGEpPyhhPWEuaCxiPVN0cmluZyhiKS50b1N0cmluZygpLGIgaW4gYS5hJiYoZj1hLmFbYl0sYz1WYihmLGMsZCxlKSwtMTxjJiYoVGIoZltjXSkscShudWxsIT1mLmxlbmd0aCksQXJyYXkucHJvdG90eXBlLnNwbGljZS5jYWxsKGYsYywxKSwwPT1mLmxlbmd0aCYmKGRlbGV0ZSBhLmFbYl0sYS5iLS0pKSkpOmEmJihhPWZjKGEpKSYmKGM9WGIoYSxiLGMsZCxlKSkmJmtjKGMpfSxrYz1mdW5jdGlvbihhKXtpZigibnVtYmVyIiE9PXR5cGVvZiBhJiZhJiYhYS5YKXt2YXIgYj1hLnNyYztpZihRYihiKSlXYihiLmgsYSk7ZWxzZXt2YXIgYz1hLnR5cGUsZD1hLmE7Yi5yZW1vdmVFdmVudExpc3RlbmVyPwpiLnJlbW92ZUV2ZW50TGlzdGVuZXIoYyxkLGEuY2FwdHVyZSk6Yi5kZXRhY2hFdmVudD9iLmRldGFjaEV2ZW50KGhjKGMpLGQpOmIuYWRkTGlzdGVuZXImJmIucmVtb3ZlTGlzdGVuZXImJmIucmVtb3ZlTGlzdGVuZXIoZCk7JGItLTsoYz1mYyhiKSk/KFdiKGMsYSksMD09Yy5iJiYoYy5zcmM9bnVsbCxiW1liXT1udWxsKSk6VGIoYSl9fX0saGM9ZnVuY3Rpb24oYSl7cmV0dXJuIGEgaW4gWmI/WmJbYV06WmJbYV09Im9uIithfSxtYz1mdW5jdGlvbihhLGIsYyxkKXt2YXIgZT0hMDtpZihhPWZjKGEpKWlmKGI9YS5hW2IudG9TdHJpbmcoKV0pZm9yKGI9Yi5jb25jYXQoKSxhPTA7YTxiLmxlbmd0aDthKyspe3ZhciBmPWJbYV07ZiYmZi5jYXB0dXJlPT1jJiYhZi5YJiYoZj1sYyhmLGQpLGU9ZSYmITEhPT1mKX1yZXR1cm4gZX0sbGM9ZnVuY3Rpb24oYSxiKXt2YXIgYz1hLmxpc3RlbmVyLGQ9YS5tYXx8YS5zcmM7YS5oYSYma2MoYSk7cmV0dXJuIGMuY2FsbChkLGIpfSxpYz1mdW5jdGlvbihhLApiKXtpZihhLlgpcmV0dXJuITA7aWYoIUpiKXtpZighYilhOntiPVsid2luZG93IiwiZXZlbnQiXTtmb3IodmFyIGM9bCxkPTA7ZDxiLmxlbmd0aDtkKyspaWYoYz1jW2JbZF1dLG51bGw9PWMpe2I9bnVsbDticmVhayBhfWI9Y31kPWI7Yj1uZXcgRyhkLHRoaXMpO2M9ITA7aWYoISgwPmQua2V5Q29kZXx8dm9pZCAwIT1kLnJldHVyblZhbHVlKSl7YTp7dmFyIGU9ITE7aWYoMD09ZC5rZXlDb2RlKXRyeXtkLmtleUNvZGU9LTE7YnJlYWsgYX1jYXRjaChnKXtlPSEwfWlmKGV8fHZvaWQgMD09ZC5yZXR1cm5WYWx1ZSlkLnJldHVyblZhbHVlPSEwfWQ9W107Zm9yKGU9Yi5hO2U7ZT1lLnBhcmVudE5vZGUpZC5wdXNoKGUpO2E9YS50eXBlO2ZvcihlPWQubGVuZ3RoLTE7IWIuaCYmMDw9ZTtlLS0pe2IuYT1kW2VdO3ZhciBmPW1jKGRbZV0sYSwhMCxiKTtjPWMmJmZ9Zm9yKGU9MDshYi5oJiZlPGQubGVuZ3RoO2UrKyliLmE9ZFtlXSxmPW1jKGRbZV0sYSwhMSxiKSxjPWMmJmZ9cmV0dXJuIGN9cmV0dXJuIGxjKGEsCm5ldyBHKGIsdGhpcykpfSxmYz1mdW5jdGlvbihhKXthPWFbWWJdO3JldHVybiBhIGluc3RhbmNlb2YgVWI/YTpudWxsfSxuYz0iX19jbG9zdXJlX2V2ZW50c19mbl8iKygxRTkqTWF0aC5yYW5kb20oKT4+PjApLGNjPWZ1bmN0aW9uKGEpe3EoYSwiTGlzdGVuZXIgY2FuIG5vdCBiZSBudWxsLiIpO2lmKGlhKGEpKXJldHVybiBhO3EoYS5oYW5kbGVFdmVudCwiQW4gb2JqZWN0IGxpc3RlbmVyIG11c3QgaGF2ZSBoYW5kbGVFdmVudCBtZXRob2QuIik7YVtuY118fChhW25jXT1mdW5jdGlvbihiKXtyZXR1cm4gYS5oYW5kbGVFdmVudChiKX0pO3JldHVybiBhW25jXX07dmFyIG9jPWZ1bmN0aW9uKGEpe0MuY2FsbCh0aGlzKTt0aGlzLmI9YTt0aGlzLmE9e319O24ob2MsQyk7CnZhciBwYz1bXSxIPWZ1bmN0aW9uKGEsYixjLGQpe2ZhKGMpfHwoYyYmKHBjWzBdPWMudG9TdHJpbmcoKSksYz1wYyk7Zm9yKHZhciBlPTA7ZTxjLmxlbmd0aDtlKyspe3ZhciBmPWJjKGIsY1tlXSxkfHxhLmhhbmRsZUV2ZW50LCExLGEuYnx8YSk7aWYoIWYpYnJlYWs7YS5hW2Yua2V5XT1mfXJldHVybiBhfSxxYz1mdW5jdGlvbihhLGIsYyxkLGUsZil7aWYoZmEoYykpZm9yKHZhciBnPTA7ZzxjLmxlbmd0aDtnKyspcWMoYSxiLGNbZ10sZCxlLGYpO2Vsc2UgZD1kfHxhLmhhbmRsZUV2ZW50LGU9bShlKT8hIWUuY2FwdHVyZTohIWUsZj1mfHxhLmJ8fGEsZD1jYyhkKSxlPSEhZSxjPVFiKGIpP1hiKGIuaCxTdHJpbmcoYyksZCxlLGYpOmI/KGI9ZmMoYikpP1hiKGIsYyxkLGUsZik6bnVsbDpudWxsLGMmJihrYyhjKSxkZWxldGUgYS5hW2Mua2V5XSk7cmV0dXJuIGF9LHJjPWZ1bmN0aW9uKGEpe29hKGEuYSxmdW5jdGlvbihiLGMpe3RoaXMuYS5oYXNPd25Qcm9wZXJ0eShjKSYma2MoYil9LAphKTthLmE9e319O29jLnByb3RvdHlwZS51PWZ1bmN0aW9uKCl7b2MuaS51LmNhbGwodGhpcyk7cmModGhpcyl9O29jLnByb3RvdHlwZS5oYW5kbGVFdmVudD1mdW5jdGlvbigpe3Rocm93IEVycm9yKCJFdmVudEhhbmRsZXIuaGFuZGxlRXZlbnQgbm90IGltcGxlbWVudGVkIik7fTt2YXIgST1mdW5jdGlvbigpe0MuY2FsbCh0aGlzKTt0aGlzLmg9bmV3IFViKHRoaXMpO3RoaXMuTWE9dGhpczt0aGlzLnBhPW51bGx9O24oSSxDKTtJLnByb3RvdHlwZVtQYl09ITA7SS5wcm90b3R5cGUucmE9ZnVuY3Rpb24oYSl7dGhpcy5wYT1hfTtJLnByb3RvdHlwZS5yZW1vdmVFdmVudExpc3RlbmVyPWZ1bmN0aW9uKGEsYixjLGQpe2pjKHRoaXMsYSxiLGMsZCl9Owp2YXIgdWM9ZnVuY3Rpb24oYSxiKXtzYyhhKTt2YXIgYz1hLnBhO2lmKGMpe3ZhciBkPVtdO2Zvcih2YXIgZT0xO2M7Yz1jLnBhKWQucHVzaChjKSxxKDFFMz4rK2UsImluZmluaXRlIGxvb3AiKX1hPWEuTWE7Yz1iLnR5cGV8fGI7InN0cmluZyI9PT10eXBlb2YgYj9iPW5ldyBFKGIsYSk6YiBpbnN0YW5jZW9mIEU/Yi50YXJnZXQ9Yi50YXJnZXR8fGE6KGU9YixiPW5ldyBFKGMsYSksdWEoYixlKSk7ZT0hMDtpZihkKWZvcih2YXIgZj1kLmxlbmd0aC0xOyFiLmgmJjA8PWY7Zi0tKXt2YXIgZz1iLmE9ZFtmXTtlPXRjKGcsYywhMCxiKSYmZX1iLmh8fChnPWIuYT1hLGU9dGMoZyxjLCEwLGIpJiZlLGIuaHx8KGU9dGMoZyxjLCExLGIpJiZlKSk7aWYoZClmb3IoZj0wOyFiLmgmJmY8ZC5sZW5ndGg7ZisrKWc9Yi5hPWRbZl0sZT10YyhnLGMsITEsYikmJmU7cmV0dXJuIGV9OwpJLnByb3RvdHlwZS51PWZ1bmN0aW9uKCl7SS5pLnUuY2FsbCh0aGlzKTtpZih0aGlzLmgpe3ZhciBhPXRoaXMuaCxiPTAsYztmb3IoYyBpbiBhLmEpe2Zvcih2YXIgZD1hLmFbY10sZT0wO2U8ZC5sZW5ndGg7ZSsrKSsrYixUYihkW2VdKTtkZWxldGUgYS5hW2NdO2EuYi0tfX10aGlzLnBhPW51bGx9O3ZhciBkYz1mdW5jdGlvbihhLGIsYyxkLGUpe3NjKGEpO3JldHVybiBhLmguYWRkKFN0cmluZyhiKSxjLCExLGQsZSl9LHRjPWZ1bmN0aW9uKGEsYixjLGQpe2I9YS5oLmFbU3RyaW5nKGIpXTtpZighYilyZXR1cm4hMDtiPWIuY29uY2F0KCk7Zm9yKHZhciBlPSEwLGY9MDtmPGIubGVuZ3RoOysrZil7dmFyIGc9YltmXTtpZihnJiYhZy5YJiZnLmNhcHR1cmU9PWMpe3ZhciBrPWcubGlzdGVuZXIscD1nLm1hfHxnLnNyYztnLmhhJiZXYihhLmgsZyk7ZT0hMSE9PWsuY2FsbChwLGQpJiZlfX1yZXR1cm4gZSYmMCE9ZC5LYX0sc2M9ZnVuY3Rpb24oYSl7cShhLmgsIkV2ZW50IHRhcmdldCBpcyBub3QgaW5pdGlhbGl6ZWQuIERpZCB5b3UgY2FsbCB0aGUgc3VwZXJjbGFzcyAoZ29vZy5ldmVudHMuRXZlbnRUYXJnZXQpIGNvbnN0cnVjdG9yPyIpfTt2YXIgeGM9ZnVuY3Rpb24oYSxiLGMsZCxlLGYpe2lmKHkmJiFBKCI1MjUiKSlyZXR1cm4hMDtpZih6JiZlKXJldHVybiB2YyhhKTtpZihlJiYhZClyZXR1cm4hMTtpZigheCl7Im51bWJlciI9PT10eXBlb2YgYiYmKGI9d2MoYikpO3ZhciBnPTE3PT1ifHwxOD09Ynx8eiYmOTE9PWI7aWYoKCFjfHx6KSYmZ3x8eiYmMTY9PWImJihkfHxmKSlyZXR1cm4hMX1pZigoeXx8YmIpJiZkJiZjKXN3aXRjaChhKXtjYXNlIDIyMDpjYXNlIDIxOTpjYXNlIDIyMTpjYXNlIDE5MjpjYXNlIDE4NjpjYXNlIDE4OTpjYXNlIDE4NzpjYXNlIDE4ODpjYXNlIDE5MDpjYXNlIDE5MTpjYXNlIDE5MjpjYXNlIDIyMjpyZXR1cm4hMX1pZih2JiZkJiZiPT1hKXJldHVybiExO3N3aXRjaChhKXtjYXNlIDEzOnJldHVybiB4P2Z8fGU/ITE6IShjJiZkKTohMDtjYXNlIDI3OnJldHVybiEoeXx8YmJ8fHgpfXJldHVybiB4JiYoZHx8ZXx8Zik/ITE6dmMoYSl9LHZjPWZ1bmN0aW9uKGEpe2lmKDQ4PD1hJiY1Nz49YXx8Cjk2PD1hJiYxMDY+PWF8fDY1PD1hJiY5MD49YXx8KHl8fGJiKSYmMD09YSlyZXR1cm4hMDtzd2l0Y2goYSl7Y2FzZSAzMjpjYXNlIDQzOmNhc2UgNjM6Y2FzZSA2NDpjYXNlIDEwNzpjYXNlIDEwOTpjYXNlIDExMDpjYXNlIDExMTpjYXNlIDE4NjpjYXNlIDU5OmNhc2UgMTg5OmNhc2UgMTg3OmNhc2UgNjE6Y2FzZSAxODg6Y2FzZSAxOTA6Y2FzZSAxOTE6Y2FzZSAxOTI6Y2FzZSAyMjI6Y2FzZSAyMTk6Y2FzZSAyMjA6Y2FzZSAyMjE6Y2FzZSAxNjM6Y2FzZSA1ODpyZXR1cm4hMDtjYXNlIDE3MzpyZXR1cm4geDtkZWZhdWx0OnJldHVybiExfX0sd2M9ZnVuY3Rpb24oYSl7aWYoeClhPXljKGEpO2Vsc2UgaWYoeiYmeSlzd2l0Y2goYSl7Y2FzZSA5MzphPTkxfXJldHVybiBhfSx5Yz1mdW5jdGlvbihhKXtzd2l0Y2goYSl7Y2FzZSA2MTpyZXR1cm4gMTg3O2Nhc2UgNTk6cmV0dXJuIDE4NjtjYXNlIDE3MzpyZXR1cm4gMTg5O2Nhc2UgMjI0OnJldHVybiA5MTtjYXNlIDA6cmV0dXJuIDIyNDsKZGVmYXVsdDpyZXR1cm4gYX19O3ZhciBKPWZ1bmN0aW9uKGEsYil7SS5jYWxsKHRoaXMpO2EmJnpjKHRoaXMsYSxiKX07bihKLEkpO2g9Si5wcm90b3R5cGU7aC5TPW51bGw7aC5uYT1udWxsO2guQ2E9bnVsbDtoLm9hPW51bGw7aC53PS0xO2guRj0tMTtoLnVhPSExOwp2YXIgQWM9ezM6MTMsMTI6MTQ0LDYzMjMyOjM4LDYzMjMzOjQwLDYzMjM0OjM3LDYzMjM1OjM5LDYzMjM2OjExMiw2MzIzNzoxMTMsNjMyMzg6MTE0LDYzMjM5OjExNSw2MzI0MDoxMTYsNjMyNDE6MTE3LDYzMjQyOjExOCw2MzI0MzoxMTksNjMyNDQ6MTIwLDYzMjQ1OjEyMSw2MzI0NjoxMjIsNjMyNDc6MTIzLDYzMjQ4OjQ0LDYzMjcyOjQ2LDYzMjczOjM2LDYzMjc1OjM1LDYzMjc2OjMzLDYzMjc3OjM0LDYzMjg5OjE0NCw2MzMwMjo0NX0sQmM9e1VwOjM4LERvd246NDAsTGVmdDozNyxSaWdodDozOSxFbnRlcjoxMyxGMToxMTIsRjI6MTEzLEYzOjExNCxGNDoxMTUsRjU6MTE2LEY2OjExNyxGNzoxMTgsRjg6MTE5LEY5OjEyMCxGMTA6MTIxLEYxMToxMjIsRjEyOjEyMywiVSswMDdGIjo0NixIb21lOjM2LEVuZDozNSxQYWdlVXA6MzMsUGFnZURvd246MzQsSW5zZXJ0OjQ1fSxDYz0heXx8QSgiNTI1IiksRGM9eiYmeDsKSi5wcm90b3R5cGUuYT1mdW5jdGlvbihhKXtpZih5fHxiYilpZigxNz09dGhpcy53JiYhYS5jdHJsS2V5fHwxOD09dGhpcy53JiYhYS5hbHRLZXl8fHomJjkxPT10aGlzLncmJiFhLm1ldGFLZXkpdGhpcy5GPXRoaXMudz0tMTstMT09dGhpcy53JiYoYS5jdHJsS2V5JiYxNyE9YS5jP3RoaXMudz0xNzphLmFsdEtleSYmMTghPWEuYz90aGlzLnc9MTg6YS5tZXRhS2V5JiY5MSE9YS5jJiYodGhpcy53PTkxKSk7Q2MmJiF4YyhhLmMsdGhpcy53LGEuc2hpZnRLZXksYS5jdHJsS2V5LGEuYWx0S2V5LGEubWV0YUtleSk/dGhpcy5oYW5kbGVFdmVudChhKToodGhpcy5GPXdjKGEuYyksRGMmJih0aGlzLnVhPWEuYWx0S2V5KSl9O0oucHJvdG90eXBlLmI9ZnVuY3Rpb24oYSl7dGhpcy5GPXRoaXMudz0tMTt0aGlzLnVhPWEuYWx0S2V5fTsKSi5wcm90b3R5cGUuaGFuZGxlRXZlbnQ9ZnVuY3Rpb24oYSl7dmFyIGI9YS5iLGM9Yi5hbHRLZXk7aWYodiYmImtleXByZXNzIj09YS50eXBlKXt2YXIgZD10aGlzLkY7dmFyIGU9MTMhPWQmJjI3IT1kP2Iua2V5Q29kZTowfWVsc2UoeXx8YmIpJiYia2V5cHJlc3MiPT1hLnR5cGU/KGQ9dGhpcy5GLGU9MDw9Yi5jaGFyQ29kZSYmNjMyMzI+Yi5jaGFyQ29kZSYmdmMoZCk/Yi5jaGFyQ29kZTowKTphYiYmIXk/KGQ9dGhpcy5GLGU9dmMoZCk/Yi5rZXlDb2RlOjApOigia2V5cHJlc3MiPT1hLnR5cGU/KERjJiYoYz10aGlzLnVhKSxiLmtleUNvZGU9PWIuY2hhckNvZGU/MzI+Yi5rZXlDb2RlPyhkPWIua2V5Q29kZSxlPTApOihkPXRoaXMuRixlPWIuY2hhckNvZGUpOihkPWIua2V5Q29kZXx8dGhpcy5GLGU9Yi5jaGFyQ29kZXx8MCkpOihkPWIua2V5Q29kZXx8dGhpcy5GLGU9Yi5jaGFyQ29kZXx8MCkseiYmNjM9PWUmJjIyND09ZCYmKGQ9MTkxKSk7dmFyIGY9ZD13YyhkKTtkPzYzMjMyPD0KZCYmZCBpbiBBYz9mPUFjW2RdOjI1PT1kJiZhLnNoaWZ0S2V5JiYoZj05KTpiLmtleUlkZW50aWZpZXImJmIua2V5SWRlbnRpZmllciBpbiBCYyYmKGY9QmNbYi5rZXlJZGVudGlmaWVyXSk7eCYmQ2MmJiJrZXlwcmVzcyI9PWEudHlwZSYmIXhjKGYsdGhpcy53LGEuc2hpZnRLZXksYS5jdHJsS2V5LGMsYS5tZXRhS2V5KXx8KGE9Zj09dGhpcy53LHRoaXMudz1mLGI9bmV3IEVjKGYsZSxhLGIpLGIuYWx0S2V5PWMsdWModGhpcyxiKSl9O0oucHJvdG90eXBlLmY9ZnVuY3Rpb24oKXtyZXR1cm4gdGhpcy5TfTsKdmFyIHpjPWZ1bmN0aW9uKGEsYixjKXthLm9hJiZGYyhhKTthLlM9YjthLm5hPWJjKGEuUywia2V5cHJlc3MiLGEsYyk7YS5DYT1iYyhhLlMsImtleWRvd24iLGEuYSxjLGEpO2Eub2E9YmMoYS5TLCJrZXl1cCIsYS5iLGMsYSl9LEZjPWZ1bmN0aW9uKGEpe2EubmEmJihrYyhhLm5hKSxrYyhhLkNhKSxrYyhhLm9hKSxhLm5hPW51bGwsYS5DYT1udWxsLGEub2E9bnVsbCk7YS5TPW51bGw7YS53PS0xO2EuRj0tMX07Si5wcm90b3R5cGUudT1mdW5jdGlvbigpe0ouaS51LmNhbGwodGhpcyk7RmModGhpcyl9O3ZhciBFYz1mdW5jdGlvbihhLGIsYyxkKXtHLmNhbGwodGhpcyxkKTt0aGlzLnR5cGU9ImtleSI7dGhpcy5jPWE7dGhpcy5yZXBlYXQ9Y307bihFYyxHKTt2YXIgR2M9eD8iTW96VXNlclNlbGVjdCI6eXx8YmI/IldlYmtpdFVzZXJTZWxlY3QiOm51bGwsSGM9ZnVuY3Rpb24oYSxiKXtiPWI/bnVsbDphLmdldEVsZW1lbnRzQnlUYWdOYW1lKCIqIik7aWYoR2Mpe3ZhciBjPSJub25lIjthLnN0eWxlJiYoYS5zdHlsZVtHY109Yyk7aWYoYil7YT0wO2Zvcih2YXIgZDtkPWJbYV07YSsrKWQuc3R5bGUmJihkLnN0eWxlW0djXT1jKX19ZWxzZSBpZih2fHxhYilpZihjPSJvbiIsYS5zZXRBdHRyaWJ1dGUoInVuc2VsZWN0YWJsZSIsYyksYilmb3IoYT0wO2Q9YlthXTthKyspZC5zZXRBdHRyaWJ1dGUoInVuc2VsZWN0YWJsZSIsYyl9O3ZhciBJYz1mdW5jdGlvbigpe307ZGEoSWMpO0ljLnByb3RvdHlwZS5hPTA7dmFyIEs9ZnVuY3Rpb24oYSl7SS5jYWxsKHRoaXMpO3RoaXMuaj1hfHx4YXx8KHhhPW5ldyB1Yik7dGhpcy5xYT1KYzt0aGlzLlk9bnVsbDt0aGlzLm09ITE7dGhpcy5hPW51bGw7dGhpcy5BPXZvaWQgMDt0aGlzLmc9dGhpcy5jPXRoaXMuYj1udWxsO3RoaXMuR2E9ITF9O24oSyxJKTtLLnByb3RvdHlwZS5PYT1JYy5SKCk7CnZhciBKYz1udWxsLEtjPWZ1bmN0aW9uKGEsYil7c3dpdGNoKGEpe2Nhc2UgMTpyZXR1cm4gYj8iZGlzYWJsZSI6ImVuYWJsZSI7Y2FzZSAyOnJldHVybiBiPyJoaWdobGlnaHQiOiJ1bmhpZ2hsaWdodCI7Y2FzZSA0OnJldHVybiBiPyJhY3RpdmF0ZSI6ImRlYWN0aXZhdGUiO2Nhc2UgODpyZXR1cm4gYj8ic2VsZWN0IjoidW5zZWxlY3QiO2Nhc2UgMTY6cmV0dXJuIGI/ImNoZWNrIjoidW5jaGVjayI7Y2FzZSAzMjpyZXR1cm4gYj8iZm9jdXMiOiJibHVyIjtjYXNlIDY0OnJldHVybiBiPyJvcGVuIjoiY2xvc2UifXRocm93IEVycm9yKCJJbnZhbGlkIGNvbXBvbmVudCBzdGF0ZSIpO30sTGM9ZnVuY3Rpb24oYSl7cmV0dXJuIGEuWXx8KGEuWT0iOiIrKGEuT2EuYSsrKS50b1N0cmluZygzNikpfSxNYz1mdW5jdGlvbihhLGIpe2lmKGEuYiYmYS5iLmcpe3ZhciBjPWEuYi5nLGQ9YS5ZO2QgaW4gYyYmZGVsZXRlIGNbZF07cWEoYS5iLmcsYixhKX1hLlk9Yn07Sy5wcm90b3R5cGUuZj1mdW5jdGlvbigpe3JldHVybiB0aGlzLmF9Owp2YXIgTmM9ZnVuY3Rpb24oYSl7YT1hLmE7cShhLCJDYW4gbm90IGNhbGwgZ2V0RWxlbWVudFN0cmljdCBiZWZvcmUgcmVuZGVyaW5nL2RlY29yYXRpbmcuIik7cmV0dXJuIGF9LE9jPWZ1bmN0aW9uKGEpe2EuQXx8KGEuQT1uZXcgb2MoYSkpO3JldHVybiBxKGEuQSl9O0sucHJvdG90eXBlLnJhPWZ1bmN0aW9uKGEpe2lmKHRoaXMuYiYmdGhpcy5iIT1hKXRocm93IEVycm9yKCJNZXRob2Qgbm90IHN1cHBvcnRlZCIpO0suaS5yYS5jYWxsKHRoaXMsYSl9O0sucHJvdG90eXBlLmlhPWZ1bmN0aW9uKCl7dGhpcy5hPW5iKHRoaXMuai5hLCJESVYiKX07CnZhciBQYz1mdW5jdGlvbihhLGIpe2lmKGEubSl0aHJvdyBFcnJvcigiQ29tcG9uZW50IGFscmVhZHkgcmVuZGVyZWQiKTtpZihiJiZhLnhhKGIpKXthLkdhPSEwO3ZhciBjPXFiKGIpO2EuaiYmYS5qLmE9PWN8fChhLmo9Yj9uZXcgdWIocWIoYikpOnhhfHwoeGE9bmV3IHViKSk7YS52YShiKTthLkQoKX1lbHNlIHRocm93IEVycm9yKCJJbnZhbGlkIGVsZW1lbnQgdG8gZGVjb3JhdGUiKTt9O2g9Sy5wcm90b3R5cGU7aC54YT1mdW5jdGlvbigpe3JldHVybiEwfTtoLnZhPWZ1bmN0aW9uKGEpe3RoaXMuYT1hfTtoLkQ9ZnVuY3Rpb24oKXt0aGlzLm09ITA7UWModGhpcyxmdW5jdGlvbihhKXshYS5tJiZhLmYoKSYmYS5EKCl9KX07aC5QPWZ1bmN0aW9uKCl7UWModGhpcyxmdW5jdGlvbihhKXthLm0mJmEuUCgpfSk7dGhpcy5BJiZyYyh0aGlzLkEpO3RoaXMubT0hMX07CmgudT1mdW5jdGlvbigpe3RoaXMubSYmdGhpcy5QKCk7dGhpcy5BJiYodGhpcy5BLk4oKSxkZWxldGUgdGhpcy5BKTtRYyh0aGlzLGZ1bmN0aW9uKGEpe2EuTigpfSk7IXRoaXMuR2EmJnRoaXMuYSYmb2IodGhpcy5hKTt0aGlzLmI9dGhpcy5hPXRoaXMuZz10aGlzLmM9bnVsbDtLLmkudS5jYWxsKHRoaXMpfTtoLnNhPWZ1bmN0aW9uKGEsYil7dGhpcy50YShhLFJjKHRoaXMpLGIpfTsKaC50YT1mdW5jdGlvbihhLGIsYyl7cSghIWEsIlByb3ZpZGVkIGVsZW1lbnQgbXVzdCBub3QgYmUgbnVsbC4iKTtpZihhLm0mJihjfHwhdGhpcy5tKSl0aHJvdyBFcnJvcigiQ29tcG9uZW50IGFscmVhZHkgcmVuZGVyZWQiKTtpZigwPmJ8fGI+UmModGhpcykpdGhyb3cgRXJyb3IoIkNoaWxkIGNvbXBvbmVudCBpbmRleCBvdXQgb2YgYm91bmRzIik7dGhpcy5nJiZ0aGlzLmN8fCh0aGlzLmc9e30sdGhpcy5jPVtdKTtpZihhLmI9PXRoaXMpe3ZhciBkPUxjKGEpO3RoaXMuZ1tkXT1hO0hhKHRoaXMuYyxhKX1lbHNlIHFhKHRoaXMuZyxMYyhhKSxhKTtpZihhPT10aGlzKXRocm93IEVycm9yKCJVbmFibGUgdG8gc2V0IHBhcmVudCBjb21wb25lbnQiKTtpZihkPXRoaXMmJmEuYiYmYS5ZKXt2YXIgZT1hLmI7ZD1hLlk7ZS5nJiZkPyhlPWUuZyxkPShudWxsIT09ZSYmZCBpbiBlP2VbZF06dm9pZCAwKXx8bnVsbCk6ZD1udWxsfWlmKGQmJmEuYiE9dGhpcyl0aHJvdyBFcnJvcigiVW5hYmxlIHRvIHNldCBwYXJlbnQgY29tcG9uZW50Iik7CmEuYj10aGlzO0suaS5yYS5jYWxsKGEsdGhpcyk7TGEodGhpcy5jLGIsMCxhKTtpZihhLm0mJnRoaXMubSYmYS5iPT10aGlzKWM9dGhpcy5qYSgpLGI9Yy5jaGlsZE5vZGVzW2JdfHxudWxsLGIhPWEuZigpJiZjLmluc2VydEJlZm9yZShhLmYoKSxiKTtlbHNlIGlmKGMpe3RoaXMuYXx8dGhpcy5pYSgpO2M9TCh0aGlzLGIrMSk7Yj10aGlzLmphKCk7Yz1jP2MuYTpudWxsO2lmKGEubSl0aHJvdyBFcnJvcigiQ29tcG9uZW50IGFscmVhZHkgcmVuZGVyZWQiKTthLmF8fGEuaWEoKTtiP2IuaW5zZXJ0QmVmb3JlKGEuYSxjfHxudWxsKTphLmouYS5ib2R5LmFwcGVuZENoaWxkKGEuYSk7YS5iJiYhYS5iLm18fGEuRCgpfWVsc2UgdGhpcy5tJiYhYS5tJiZhLmEmJmEuYS5wYXJlbnROb2RlJiYxPT1hLmEucGFyZW50Tm9kZS5ub2RlVHlwZSYmYS5EKCl9O2guamE9ZnVuY3Rpb24oKXtyZXR1cm4gdGhpcy5hfTsKdmFyIFNjPWZ1bmN0aW9uKGEpe2lmKG51bGw9PWEucWEpe3ZhciBiPWEubT9hLmE6YS5qLmEuYm9keTthOnt2YXIgYz1xYihiKTtpZihjLmRlZmF1bHRWaWV3JiZjLmRlZmF1bHRWaWV3LmdldENvbXB1dGVkU3R5bGUmJihjPWMuZGVmYXVsdFZpZXcuZ2V0Q29tcHV0ZWRTdHlsZShiLG51bGwpKSl7Yz1jLmRpcmVjdGlvbnx8Yy5nZXRQcm9wZXJ0eVZhbHVlKCJkaXJlY3Rpb24iKXx8IiI7YnJlYWsgYX1jPSIifWEucWE9InJ0bCI9PShjfHwoYi5jdXJyZW50U3R5bGU/Yi5jdXJyZW50U3R5bGUuZGlyZWN0aW9uOm51bGwpfHxiLnN0eWxlJiZiLnN0eWxlLmRpcmVjdGlvbil9cmV0dXJuIGEucWF9LFJjPWZ1bmN0aW9uKGEpe3JldHVybiBhLmM/YS5jLmxlbmd0aDowfSxMPWZ1bmN0aW9uKGEsYil7cmV0dXJuIGEuYz9hLmNbYl18fG51bGw6bnVsbH0sUWM9ZnVuY3Rpb24oYSxiLGMpe2EuYyYmcihhLmMsYixjKX0sVGM9ZnVuY3Rpb24oYSxiKXtyZXR1cm4gYS5jJiZiP0RhKGEuYyxiKTotMX07dmFyIFZjPWZ1bmN0aW9uKGEsYil7aWYoIWEpdGhyb3cgRXJyb3IoIkludmFsaWQgY2xhc3MgbmFtZSAiK2EpO2lmKCFpYShiKSl0aHJvdyBFcnJvcigiSW52YWxpZCBkZWNvcmF0b3IgZnVuY3Rpb24gIitiKTtVY1thXT1ifSxXYz17fSxVYz17fTt2YXIgWGM9ZnVuY3Rpb24oYSl7dGhpcy5oPWF9O2RhKFhjKTt2YXIgWWM9ZnVuY3Rpb24oYSxiKXthJiYoYS50YWJJbmRleD1iPzA6LTEpfSwkYz1mdW5jdGlvbihhLGIsYyl7Yy5pZCYmTWMoYixjLmlkKTt2YXIgZD1hLmIoKSxlPSExLGY9RChjKTtmJiZyKGYsZnVuY3Rpb24oZyl7Zz09ZD9lPSEwOmcmJnRoaXMuZyhiLGcsZCl9LGEpO2V8fEViKGMsZCk7WmMoYixjKTtyZXR1cm4gY307WGMucHJvdG90eXBlLmc9ZnVuY3Rpb24oYSxiLGMpe2I9PWMrIi1kaXNhYmxlZCI/YS5aKCExKTpiPT1jKyItaG9yaXpvbnRhbCI/YWQoYSwiaG9yaXpvbnRhbCIpOmI9PWMrIi12ZXJ0aWNhbCImJmFkKGEsInZlcnRpY2FsIil9Owp2YXIgWmM9ZnVuY3Rpb24oYSxiKXtpZihiKWZvcih2YXIgYz1iLmZpcnN0Q2hpbGQsZDtjJiZjLnBhcmVudE5vZGU9PWI7KXtkPWMubmV4dFNpYmxpbmc7aWYoMT09Yy5ub2RlVHlwZSl7YTp7dmFyIGU9YztxKGUpO2U9RChlKTtmb3IodmFyIGY9MCxnPWUubGVuZ3RoO2Y8ZztmKyspe3ZhciBrPWVbZl07aWYoaz1rIGluIFVjP1VjW2tdKCk6bnVsbCl7ZT1rO2JyZWFrIGF9fWU9bnVsbH1lJiYoZS5hPWMsYS5pc0VuYWJsZWQoKXx8ZS5aKCExKSxhLnNhKGUpLFBjKGUsYykpfWVsc2UgYy5ub2RlVmFsdWUmJiIiIT1NYShjLm5vZGVWYWx1ZSl8fGIucmVtb3ZlQ2hpbGQoYyk7Yz1kfX0sYmQ9ZnVuY3Rpb24oYSxiKXtiPWIuZigpO3EoYiwiVGhlIGNvbnRhaW5lciBET00gZWxlbWVudCBjYW5ub3QgYmUgbnVsbC4iKTtIYyhiLHgpO3YmJihiLmhpZGVGb2N1cz0hMCk7KGE9YS5oKSYmdmIoYixhKX07WGMucHJvdG90eXBlLmI9ZnVuY3Rpb24oKXtyZXR1cm4iZ29vZy1jb250YWluZXIifTsKWGMucHJvdG90eXBlLmM9ZnVuY3Rpb24oYSl7dmFyIGI9dGhpcy5iKCksYz1bYiwiaG9yaXpvbnRhbCI9PWEuSD9iKyItaG9yaXpvbnRhbCI6YisiLXZlcnRpY2FsIl07YS5pc0VuYWJsZWQoKXx8Yy5wdXNoKGIrIi1kaXNhYmxlZCIpO3JldHVybiBjfTt2YXIgTT1mdW5jdGlvbigpe30sY2Q7ZGEoTSk7dmFyIGRkPXtidXR0b246InByZXNzZWQiLGNoZWNrYm94OiJjaGVja2VkIixtZW51aXRlbToic2VsZWN0ZWQiLG1lbnVpdGVtY2hlY2tib3g6ImNoZWNrZWQiLG1lbnVpdGVtcmFkaW86ImNoZWNrZWQiLHJhZGlvOiJjaGVja2VkIix0YWI6InNlbGVjdGVkIix0cmVlaXRlbToic2VsZWN0ZWQifTtNLnByb3RvdHlwZS5oPWZ1bmN0aW9uKCl7fTtNLnByb3RvdHlwZS5jPWZ1bmN0aW9uKGEpe3JldHVybiBhLmouYigiRElWIixlZCh0aGlzLGEpLmpvaW4oIiAiKSxhLmJhKX07dmFyIGdkPWZ1bmN0aW9uKGEsYixjKXtpZihhPWEuZj9hLmYoKTphKXt2YXIgZD1bYl07diYmIUEoIjciKSYmKGQ9ZmQoRChhKSxiKSxkLnB1c2goYikpOyhjP0ZiOkhiKShhLGQpfX07Ck0ucHJvdG90eXBlLmc9ZnVuY3Rpb24oYSxiKXtiLmlkJiZNYyhhLGIuaWQpO2ImJmIuZmlyc3RDaGlsZD9oZChhLGIuZmlyc3RDaGlsZC5uZXh0U2libGluZz9KYShiLmNoaWxkTm9kZXMpOmIuZmlyc3RDaGlsZCk6YS5iYT1udWxsO3ZhciBjPTAsZD10aGlzLmEoKSxlPXRoaXMuYSgpLGY9ITEsZz0hMSxrPSExLHA9SmEoRChiKSk7cihwLGZ1bmN0aW9uKEIpe2Z8fEIhPWQ/Z3x8QiE9ZT9jfD1pZCh0aGlzLEIpOmc9ITA6KGY9ITAsZT09ZCYmKGc9ITApKTsxPT1pZCh0aGlzLEIpJiYoQWEoYiksc2IoYikmJnRiKGIpJiZyYihiLCExKSl9LHRoaXMpO2Eubz1jO2Z8fChwLnB1c2goZCksZT09ZCYmKGc9ITApKTtnfHxwLnB1c2goZSk7KGE9YS53YSkmJnAucHVzaC5hcHBseShwLGEpO2lmKHYmJiFBKCI3Iikpe3ZhciB3PWZkKHApOzA8dy5sZW5ndGgmJihwLnB1c2guYXBwbHkocCx3KSxrPSEwKX1mJiZnJiYhYSYmIWt8fENiKGIscC5qb2luKCIgIikpO3JldHVybiBifTsKdmFyIGpkPWZ1bmN0aW9uKGEsYil7aWYoYT1hLmgoKSl7cShiLCJUaGUgZWxlbWVudCBwYXNzZWQgYXMgYSBmaXJzdCBwYXJhbWV0ZXIgY2Fubm90IGJlIG51bGwuIik7dmFyIGM9Yi5nZXRBdHRyaWJ1dGUoInJvbGUiKXx8bnVsbDthIT1jJiZ2YihiLGEpfX0sa2Q9ZnVuY3Rpb24oYSxiKXt2YXIgYztpZihhLnYmMzImJihjPWEuZigpKSl7aWYoIWImJmEubyYzMil7dHJ5e2MuYmx1cigpfWNhdGNoKGQpe31hLm8mMzImJmEuRmEobnVsbCl9KHNiKGMpJiZ0YihjKSkhPWImJnJiKGMsYil9fSxsZD1mdW5jdGlvbihhLGIsYyl7Y2R8fChjZD17MToiZGlzYWJsZWQiLDg6InNlbGVjdGVkIiwxNjoiY2hlY2tlZCIsNjQ6ImV4cGFuZGVkIn0pO3EoYSwiVGhlIGVsZW1lbnQgcGFzc2VkIGFzIGEgZmlyc3QgcGFyYW1ldGVyIGNhbm5vdCBiZSBudWxsLiIpO2I9Y2RbYl07dmFyIGQ9YS5nZXRBdHRyaWJ1dGUoInJvbGUiKXx8bnVsbDtkJiYoZD1kZFtkXXx8YixiPSJjaGVja2VkIj09Ynx8InNlbGVjdGVkIj09CmI/ZDpiKTtiJiZ4YihhLGIsYyl9O00ucHJvdG90eXBlLmE9ZnVuY3Rpb24oKXtyZXR1cm4iZ29vZy1jb250cm9sIn07CnZhciBlZD1mdW5jdGlvbihhLGIpe3ZhciBjPWEuYSgpLGQ9W2NdLGU9YS5hKCk7ZSE9YyYmZC5wdXNoKGUpO2M9Yi5vO2ZvcihlPVtdO2M7KXt2YXIgZj1jJi1jO2UucHVzaChtZChhLGYpKTtjJj1+Zn1kLnB1c2guYXBwbHkoZCxlKTsoYT1iLndhKSYmZC5wdXNoLmFwcGx5KGQsYSk7diYmIUEoIjciKSYmZC5wdXNoLmFwcGx5KGQsZmQoZCkpO3JldHVybiBkfSxmZD1mdW5jdGlvbihhLGIpe3ZhciBjPVtdO2ImJihhPUlhKGEsW2JdKSk7cihbXSxmdW5jdGlvbihkKXshRmEoZCxsYShHYSxhKSl8fGImJiFHYShkLGIpfHxjLnB1c2goZC5qb2luKCJfIikpfSk7cmV0dXJuIGN9LG1kPWZ1bmN0aW9uKGEsYil7YS5ifHxuZChhKTtyZXR1cm4gYS5iW2JdfSxpZD1mdW5jdGlvbihhLGIpe2Euanx8KGEuYnx8bmQoYSksYS5qPXNhKGEuYikpO2E9cGFyc2VJbnQoYS5qW2JdLDEwKTtyZXR1cm4gaXNOYU4oYSk/MDphfSxuZD1mdW5jdGlvbihhKXt2YXIgYj1hLmEoKSxjPSF0KGIucmVwbGFjZSgvXHhhMHxccy9nLAoiICIpLCIgIik7cShjLCJDb250cm9sUmVuZGVyZXIgaGFzIGFuIGludmFsaWQgY3NzIGNsYXNzOiAnIitiKyInIik7YS5iPXsxOmIrIi1kaXNhYmxlZCIsMjpiKyItaG92ZXIiLDQ6YisiLWFjdGl2ZSIsODpiKyItc2VsZWN0ZWQiLDE2OmIrIi1jaGVja2VkIiwzMjpiKyItZm9jdXNlZCIsNjQ6YisiLW9wZW4ifX07dmFyIE49ZnVuY3Rpb24oYSxiLGMpe0suY2FsbCh0aGlzLGMpO2lmKCFiKXtiPXRoaXMuY29uc3RydWN0b3I7Zm9yKHZhciBkO2I7KXtkPWJbamFdfHwoYltqYV09KytrYSk7aWYoZD1XY1tkXSlicmVhaztiPWIuaT9iLmkuY29uc3RydWN0b3I6bnVsbH1iPWQ/aWEoZC5SKT9kLlIoKTpuZXcgZDpudWxsfXRoaXMuQj1iO3RoaXMuYmE9dm9pZCAwIT09YT9hOm51bGx9O24oTixLKTtoPU4ucHJvdG90eXBlO2guYmE9bnVsbDtoLm89MDtoLnY9Mzk7aC5LPTA7aC5JYT0hMDtoLndhPW51bGw7aC55YT0hMDtoLmlhPWZ1bmN0aW9uKCl7dmFyIGE9dGhpcy5CLmModGhpcyk7dGhpcy5hPWE7amQodGhpcy5CLGEpO0hjKGEsIXYmJiFhYik7dGhpcy5pc1Zpc2libGUoKXx8KGEuc3R5bGUuZGlzcGxheT0ibm9uZSIsYSYmeGIoYSwiaGlkZGVuIiwhMCkpfTtoLmphPWZ1bmN0aW9uKCl7cmV0dXJuIHRoaXMuZigpfTtoLnhhPWZ1bmN0aW9uKCl7cmV0dXJuITB9OwpoLnZhPWZ1bmN0aW9uKGEpe3RoaXMuYT1hPXRoaXMuQi5nKHRoaXMsYSk7amQodGhpcy5CLGEpO0hjKGEsIXYmJiFhYik7dGhpcy5JYT0ibm9uZSIhPWEuc3R5bGUuZGlzcGxheX07CmguRD1mdW5jdGlvbigpe04uaS5ELmNhbGwodGhpcyk7dmFyIGE9TmModGhpcyk7cSh0aGlzKTtxKGEpO3RoaXMuaXNWaXNpYmxlKCl8fHhiKGEsImhpZGRlbiIsIXRoaXMuaXNWaXNpYmxlKCkpO3RoaXMuaXNFbmFibGVkKCl8fGxkKGEsMSwhdGhpcy5pc0VuYWJsZWQoKSk7dGhpcy52JjgmJmxkKGEsOCwhISh0aGlzLm8mOCkpO3RoaXMudiYxNiYmbGQoYSwxNiwhISh0aGlzLm8mMTYpKTt0aGlzLnYmNjQmJmxkKGEsNjQsISEodGhpcy5vJjY0KSk7YT10aGlzLkI7U2ModGhpcykmJmdkKHRoaXMuZigpLGEuYSgpKyItcnRsIiwhMCk7dGhpcy5pc0VuYWJsZWQoKSYma2QodGhpcyx0aGlzLmlzVmlzaWJsZSgpKTtpZih0aGlzLnYmLTImJih0aGlzLnlhJiZvZCh0aGlzLCEwKSx0aGlzLnYmMzImJihhPXRoaXMuZigpKSkpe3ZhciBiPXRoaXMuV3x8KHRoaXMuVz1uZXcgSik7emMoYixhKTtIKEgoSChPYyh0aGlzKSxiLCJrZXkiLHRoaXMuZmEpLGEsImZvY3VzIix0aGlzLk5hKSxhLCJibHVyIiwKdGhpcy5GYSl9fTt2YXIgb2Q9ZnVuY3Rpb24oYSxiKXt2YXIgYz1PYyhhKSxkPWEuZigpO2I/KEgoSChIKEgoYyxkLEYuTCxhLmthKSxkLFtGLk0sRi5hYV0sYS5sYSksZCwibW91c2VvdmVyIixhLkFhKSxkLCJtb3VzZW91dCIsYS56YSksYS5lYSE9Y2EmJkgoYyxkLCJjb250ZXh0bWVudSIsYS5lYSksdiYmKEEoOSl8fEgoYyxkLCJkYmxjbGljayIsYS5KYSksYS5nYXx8KGEuZ2E9bmV3IHBkKGEpLHpiKGEsbGEoQWIsYS5nYSkpKSkpOihxYyhxYyhxYyhxYyhjLGQsRi5MLGEua2EpLGQsW0YuTSxGLmFhXSxhLmxhKSxkLCJtb3VzZW92ZXIiLGEuQWEpLGQsIm1vdXNlb3V0IixhLnphKSxhLmVhIT1jYSYmcWMoYyxkLCJjb250ZXh0bWVudSIsYS5lYSksdiYmKEEoOSl8fHFjKGMsZCwiZGJsY2xpY2siLGEuSmEpLEFiKGEuZ2EpLGEuZ2E9bnVsbCkpfTsKTi5wcm90b3R5cGUuUD1mdW5jdGlvbigpe04uaS5QLmNhbGwodGhpcyk7dGhpcy5XJiZGYyh0aGlzLlcpO3RoaXMuaXNWaXNpYmxlKCkmJnRoaXMuaXNFbmFibGVkKCkmJmtkKHRoaXMsITEpfTtOLnByb3RvdHlwZS51PWZ1bmN0aW9uKCl7Ti5pLnUuY2FsbCh0aGlzKTt0aGlzLlcmJih0aGlzLlcuTigpLGRlbGV0ZSB0aGlzLlcpO2RlbGV0ZSB0aGlzLkI7dGhpcy5nYT10aGlzLndhPXRoaXMuYmE9bnVsbH07dmFyIGhkPWZ1bmN0aW9uKGEsYil7YS5iYT1ifTtOLnByb3RvdHlwZS5pc1Zpc2libGU9ZnVuY3Rpb24oKXtyZXR1cm4gdGhpcy5JYX07Ti5wcm90b3R5cGUuaXNFbmFibGVkPWZ1bmN0aW9uKCl7cmV0dXJuISh0aGlzLm8mMSl9OwpOLnByb3RvdHlwZS5aPWZ1bmN0aW9uKGEpe3ZhciBiPXRoaXMuYjtiJiYiZnVuY3Rpb24iPT10eXBlb2YgYi5pc0VuYWJsZWQmJiFiLmlzRW5hYmxlZCgpfHwhTyh0aGlzLDEsIWEpfHwoYXx8KHFkKHRoaXMsITEpLFAodGhpcywhMSkpLHRoaXMuaXNWaXNpYmxlKCkmJmtkKHRoaXMsYSksUSh0aGlzLDEsIWEsITApKX07CnZhciBQPWZ1bmN0aW9uKGEsYil7TyhhLDIsYikmJlEoYSwyLGIpfSxxZD1mdW5jdGlvbihhLGIpe08oYSw0LGIpJiZRKGEsNCxiKX0scmQ9ZnVuY3Rpb24oYSxiKXtPKGEsOCxiKSYmUShhLDgsYil9LHNkPWZ1bmN0aW9uKGEsYil7TyhhLDY0LGIpJiZRKGEsNjQsYil9LFE9ZnVuY3Rpb24oYSxiLGMsZCl7aWYoIWQmJjE9PWIpYS5aKCFjKTtlbHNlIGlmKGEudiZiJiZjIT0hIShhLm8mYikpe3ZhciBlPWEuQjtpZihkPWEuZigpKShlPW1kKGUsYikpJiZnZChhLGUsYyksbGQoZCxiLGMpO2Eubz1jP2Eub3xiOmEubyZ+Yn19LHRkPWZ1bmN0aW9uKGEsYixjKXtpZihhLm0mJmEubyZiJiYhYyl0aHJvdyBFcnJvcigiQ29tcG9uZW50IGFscmVhZHkgcmVuZGVyZWQiKTshYyYmYS5vJmImJlEoYSxiLCExKTthLnY9Yz9hLnZ8YjphLnYmfmJ9LFI9ZnVuY3Rpb24oYSxiKXtyZXR1cm4hISgyNTUmYikmJiEhKGEudiZiKX0sTz1mdW5jdGlvbihhLGIsYyl7cmV0dXJuISEoYS52JmIpJiYhIShhLm8mCmIpIT1jJiYoIShhLksmYil8fHVjKGEsS2MoYixjKSkpJiYhYS5VfTtoPU4ucHJvdG90eXBlO2guQWE9ZnVuY3Rpb24oYSl7KCFhLnJlbGF0ZWRUYXJnZXR8fCFwYih0aGlzLmYoKSxhLnJlbGF0ZWRUYXJnZXQpKSYmdWModGhpcywiZW50ZXIiKSYmdGhpcy5pc0VuYWJsZWQoKSYmUih0aGlzLDIpJiZQKHRoaXMsITApfTtoLnphPWZ1bmN0aW9uKGEpe2EucmVsYXRlZFRhcmdldCYmcGIodGhpcy5mKCksYS5yZWxhdGVkVGFyZ2V0KXx8IXVjKHRoaXMsImxlYXZlIil8fChSKHRoaXMsNCkmJnFkKHRoaXMsITEpLFIodGhpcywyKSYmUCh0aGlzLCExKSl9O2guZWE9Y2E7Cmgua2E9ZnVuY3Rpb24oYSl7aWYodGhpcy5pc0VuYWJsZWQoKSYmKFIodGhpcywyKSYmUCh0aGlzLCEwKSxPYihhKSYmISh5JiZ6JiZhLmN0cmxLZXkpKSl7Uih0aGlzLDQpJiZxZCh0aGlzLCEwKTt2YXIgYjtpZihiPXRoaXMuQil7dmFyIGM7Yj10aGlzLnYmMzImJihjPXRoaXMuZigpKT9zYihjKSYmdGIoYyk6ITF9YiYmdGhpcy5mKCkuZm9jdXMoKX0hT2IoYSl8fHkmJnomJmEuY3RybEtleXx8YS5nKCl9O2gubGE9ZnVuY3Rpb24oYSl7dGhpcy5pc0VuYWJsZWQoKSYmKFIodGhpcywyKSYmUCh0aGlzLCEwKSx0aGlzLm8mNCYmdWQodGhpcyxhKSYmUih0aGlzLDQpJiZxZCh0aGlzLCExKSl9O2guSmE9ZnVuY3Rpb24oYSl7dGhpcy5pc0VuYWJsZWQoKSYmdWQodGhpcyxhKX07CnZhciB1ZD1mdW5jdGlvbihhLGIpe2lmKFIoYSwxNikpe3ZhciBjPSEoYS5vJjE2KTtPKGEsMTYsYykmJlEoYSwxNixjKX1SKGEsOCkmJnJkKGEsITApO1IoYSw2NCkmJnNkKGEsIShhLm8mNjQpKTtjPW5ldyBFKCJhY3Rpb24iLGEpO2ImJihjLmFsdEtleT1iLmFsdEtleSxjLmN0cmxLZXk9Yi5jdHJsS2V5LGMubWV0YUtleT1iLm1ldGFLZXksYy5zaGlmdEtleT1iLnNoaWZ0S2V5LGMuQT1iLkEpO3JldHVybiB1YyhhLGMpfTtOLnByb3RvdHlwZS5OYT1mdW5jdGlvbigpe1IodGhpcywzMikmJk8odGhpcywzMiwhMCkmJlEodGhpcywzMiwhMCl9O04ucHJvdG90eXBlLkZhPWZ1bmN0aW9uKCl7Uih0aGlzLDQpJiZxZCh0aGlzLCExKTtSKHRoaXMsMzIpJiZPKHRoaXMsMzIsITEpJiZRKHRoaXMsMzIsITEpfTsKTi5wcm90b3R5cGUuZmE9ZnVuY3Rpb24oYSl7cmV0dXJuIHRoaXMuaXNWaXNpYmxlKCkmJnRoaXMuaXNFbmFibGVkKCkmJjEzPT1hLmMmJnVkKHRoaXMsYSk/KGEuZygpLGEuaigpLCEwKTohMX07aWYoIWlhKE4pKXRocm93IEVycm9yKCJJbnZhbGlkIGNvbXBvbmVudCBjbGFzcyAiK04pO2lmKCFpYShNKSl0aHJvdyBFcnJvcigiSW52YWxpZCByZW5kZXJlciBjbGFzcyAiK00pO3ZhciB2ZD1OW2phXXx8KE5bamFdPSsra2EpO1djW3ZkXT1NO1ZjKCJnb29nLWNvbnRyb2wiLGZ1bmN0aW9uKCl7cmV0dXJuIG5ldyBOKG51bGwpfSk7dmFyIHBkPWZ1bmN0aW9uKGEpe0MuY2FsbCh0aGlzKTt0aGlzLmI9YTt0aGlzLmE9ITE7dGhpcy5jPW5ldyBvYyh0aGlzKTt6Yih0aGlzLGxhKEFiLHRoaXMuYykpO2E9TmModGhpcy5iKTtIKEgoSCh0aGlzLmMsYSxGLkwsdGhpcy5oKSxhLEYuTSx0aGlzLmopLGEsImNsaWNrIix0aGlzLmcpfTtuKHBkLEMpO3ZhciB3ZD0hdnx8OTw9TnVtYmVyKGliKTsKcGQucHJvdG90eXBlLmg9ZnVuY3Rpb24oKXt0aGlzLmE9ITF9O3BkLnByb3RvdHlwZS5qPWZ1bmN0aW9uKCl7dGhpcy5hPSEwfTt2YXIgeGQ9ZnVuY3Rpb24oYSxiKXtpZighd2QpcmV0dXJuIGEuYnV0dG9uPTAsYS50eXBlPWIsYTt2YXIgYz1kb2N1bWVudC5jcmVhdGVFdmVudCgiTW91c2VFdmVudHMiKTtjLmluaXRNb3VzZUV2ZW50KGIsYS5idWJibGVzLGEuY2FuY2VsYWJsZSxhLnZpZXd8fG51bGwsYS5kZXRhaWwsYS5zY3JlZW5YLGEuc2NyZWVuWSxhLmNsaWVudFgsYS5jbGllbnRZLGEuY3RybEtleSxhLmFsdEtleSxhLnNoaWZ0S2V5LGEubWV0YUtleSwwLGEucmVsYXRlZFRhcmdldHx8bnVsbCk7cmV0dXJuIGN9OwpwZC5wcm90b3R5cGUuZz1mdW5jdGlvbihhKXtpZih0aGlzLmEpdGhpcy5hPSExO2Vsc2V7dmFyIGI9YS5iLGM9Yi5idXR0b24sZD1iLnR5cGUsZT14ZChiLCJtb3VzZWRvd24iKTt0aGlzLmIua2EobmV3IEcoZSxhLmEpKTtlPXhkKGIsIm1vdXNldXAiKTt0aGlzLmIubGEobmV3IEcoZSxhLmEpKTt3ZHx8KGIuYnV0dG9uPWMsYi50eXBlPWQpfX07cGQucHJvdG90eXBlLnU9ZnVuY3Rpb24oKXt0aGlzLmI9bnVsbDtwZC5pLnUuY2FsbCh0aGlzKX07dmFyIFM9ZnVuY3Rpb24oYSxiLGMpe0suY2FsbCh0aGlzLGMpO3RoaXMuZGE9Ynx8WGMuUigpO3RoaXMuSD1hfHwidmVydGljYWwifTtuKFMsSyk7aD1TLnByb3RvdHlwZTtoLkRhPW51bGw7aC5jYT1udWxsO2guZGE9bnVsbDtoLkg9bnVsbDtoLlQ9ITA7aC5PPSEwO2gubD0tMTtoLnM9bnVsbDtoLlY9ITE7aC5JPW51bGw7dmFyIHlkPWZ1bmN0aW9uKGEpe3JldHVybiBhLkRhfHxhLmYoKX07aD1TLnByb3RvdHlwZTtoLmlhPWZ1bmN0aW9uKCl7dGhpcy5hPXRoaXMuai5iKCJESVYiLHRoaXMuZGEuYyh0aGlzKS5qb2luKCIgIikpfTtoLmphPWZ1bmN0aW9uKCl7cmV0dXJuIHRoaXMuZigpfTtoLnhhPWZ1bmN0aW9uKGEpe3JldHVybiJESVYiPT1hLnRhZ05hbWV9O2gudmE9ZnVuY3Rpb24oYSl7dGhpcy5hPSRjKHRoaXMuZGEsdGhpcyxhKTsibm9uZSI9PWEuc3R5bGUuZGlzcGxheSYmKHRoaXMuVD0hMSl9OwpoLkQ9ZnVuY3Rpb24oKXtTLmkuRC5jYWxsKHRoaXMpO1FjKHRoaXMsZnVuY3Rpb24oYil7Yi5tJiZ6ZCh0aGlzLGIpfSx0aGlzKTt2YXIgYT10aGlzLmYoKTtiZCh0aGlzLmRhLHRoaXMpO0FkKHRoaXMsdGhpcy5UKTtIKEgoSChIKEgoSChIKEgoT2ModGhpcyksdGhpcywiZW50ZXIiLHRoaXMuV2EpLHRoaXMsImhpZ2hsaWdodCIsdGhpcy5YYSksdGhpcywidW5oaWdobGlnaHQiLHRoaXMuY2IpLHRoaXMsIm9wZW4iLHRoaXMuWWEpLHRoaXMsImNsb3NlIix0aGlzLlVhKSxhLEYuTCx0aGlzLlNhKSxxYihhKSxbRi5NLEYuYWFdLHRoaXMuVmEpLGEsW0YuTCxGLk0sRi5hYSwibW91c2VvdmVyIiwibW91c2VvdXQiLCJjb250ZXh0bWVudSJdLHRoaXMuVGEpO0JkKHRoaXMpfTt2YXIgQmQ9ZnVuY3Rpb24oYSl7dmFyIGI9T2MoYSksYz15ZChhKTtIKEgoSChiLGMsImZvY3VzIixhLkhhKSxjLCJibHVyIixhLlFhKSxhLmNhfHwoYS5jYT1uZXcgSih5ZChhKSkpLCJrZXkiLGEuUmEpfTtoPVMucHJvdG90eXBlOwpoLlA9ZnVuY3Rpb24oKXtDZCh0aGlzLC0xKTt0aGlzLnMmJnNkKHRoaXMucywhMSk7dGhpcy5WPSExO1MuaS5QLmNhbGwodGhpcyl9O2gudT1mdW5jdGlvbigpe1MuaS51LmNhbGwodGhpcyk7dGhpcy5jYSYmKHRoaXMuY2EuTigpLHRoaXMuY2E9bnVsbCk7dGhpcy5kYT10aGlzLnM9dGhpcy5JPXRoaXMuRGE9bnVsbH07aC5XYT1mdW5jdGlvbigpe3JldHVybiEwfTsKaC5YYT1mdW5jdGlvbihhKXt2YXIgYj1UYyh0aGlzLGEudGFyZ2V0KTtpZigtMTxiJiZiIT10aGlzLmwpe3ZhciBjPUwodGhpcyx0aGlzLmwpO2MmJlAoYywhMSk7dGhpcy5sPWI7Yz1MKHRoaXMsdGhpcy5sKTt0aGlzLlYmJnFkKGMsITApO3RoaXMucyYmYyE9dGhpcy5zJiYoYy52JjY0P3NkKGMsITApOnNkKHRoaXMucywhMSkpfWI9dGhpcy5mKCk7cShiLCJUaGUgRE9NIGVsZW1lbnQgZm9yIHRoZSBjb250YWluZXIgY2Fubm90IGJlIG51bGwuIik7bnVsbCE9YS50YXJnZXQuZigpJiZ4YihiLCJhY3RpdmVkZXNjZW5kYW50IixhLnRhcmdldC5mKCkuaWQpfTtoLmNiPWZ1bmN0aW9uKGEpe2EudGFyZ2V0PT1MKHRoaXMsdGhpcy5sKSYmKHRoaXMubD0tMSk7YT10aGlzLmYoKTtxKGEsIlRoZSBET00gZWxlbWVudCBmb3IgdGhlIGNvbnRhaW5lciBjYW5ub3QgYmUgbnVsbC4iKTthLnJlbW92ZUF0dHJpYnV0ZSh3YigiYWN0aXZlZGVzY2VuZGFudCIpKX07CmguWWE9ZnVuY3Rpb24oYSl7KGE9YS50YXJnZXQpJiZhIT10aGlzLnMmJmEuYj09dGhpcyYmKHRoaXMucyYmc2QodGhpcy5zLCExKSx0aGlzLnM9YSl9O2guVWE9ZnVuY3Rpb24oYSl7YS50YXJnZXQ9PXRoaXMucyYmKHRoaXMucz1udWxsKTt2YXIgYj10aGlzLmYoKSxjPWEudGFyZ2V0LmYoKTtiJiZhLnRhcmdldC5vJjImJmMmJihhPSIiLGMmJihhPWMuaWQscShhLCJUaGUgYWN0aXZlIGVsZW1lbnQgc2hvdWxkIGhhdmUgYW4gaWQuIikpLHhiKGIsImFjdGl2ZWRlc2NlbmRhbnQiLGEpKX07aC5TYT1mdW5jdGlvbihhKXt0aGlzLk8mJih0aGlzLlY9ITApO3ZhciBiPXlkKHRoaXMpO2ImJnNiKGIpJiZ0YihiKT9iLmZvY3VzKCk6YS5nKCl9O2guVmE9ZnVuY3Rpb24oKXt0aGlzLlY9ITF9OwpoLlRhPWZ1bmN0aW9uKGEpe2E6e3ZhciBiPWEudGFyZ2V0O2lmKHRoaXMuSSlmb3IodmFyIGM9dGhpcy5mKCk7YiYmYiE9PWM7KXt2YXIgZD1iLmlkO2lmKGQgaW4gdGhpcy5JKXtiPXRoaXMuSVtkXTticmVhayBhfWI9Yi5wYXJlbnROb2RlfWI9bnVsbH1pZihiKXN3aXRjaChhLnR5cGUpe2Nhc2UgRi5MOmIua2EoYSk7YnJlYWs7Y2FzZSBGLk06Y2FzZSBGLmFhOmIubGEoYSk7YnJlYWs7Y2FzZSAibW91c2VvdmVyIjpiLkFhKGEpO2JyZWFrO2Nhc2UgIm1vdXNlb3V0IjpiLnphKGEpO2JyZWFrO2Nhc2UgImNvbnRleHRtZW51IjpiLmVhKGEpfX07aC5IYT1mdW5jdGlvbigpe307aC5RYT1mdW5jdGlvbigpe0NkKHRoaXMsLTEpO3RoaXMuVj0hMTt0aGlzLnMmJnNkKHRoaXMucywhMSl9OwpoLlJhPWZ1bmN0aW9uKGEpe3JldHVybiB0aGlzLmlzRW5hYmxlZCgpJiZ0aGlzLmlzVmlzaWJsZSgpJiYoMCE9UmModGhpcyl8fHRoaXMuRGEpJiZEZCh0aGlzLGEpPyhhLmcoKSxhLmooKSwhMCk6ITF9Owp2YXIgRGQ9ZnVuY3Rpb24oYSxiKXt2YXIgYz1MKGEsYS5sKTtpZihjJiYiZnVuY3Rpb24iPT10eXBlb2YgYy5mYSYmYy5mYShiKXx8YS5zJiZhLnMhPWMmJiJmdW5jdGlvbiI9PXR5cGVvZiBhLnMuZmEmJmEucy5mYShiKSlyZXR1cm4hMDtpZihiLnNoaWZ0S2V5fHxiLmN0cmxLZXl8fGIubWV0YUtleXx8Yi5hbHRLZXkpcmV0dXJuITE7c3dpdGNoKGIuYyl7Y2FzZSAyNzp5ZChhKS5ibHVyKCk7YnJlYWs7Y2FzZSAzNjpFZChhKTticmVhaztjYXNlIDM1OkZkKGEpO2JyZWFrO2Nhc2UgMzg6aWYoInZlcnRpY2FsIj09YS5IKUdkKGEpO2Vsc2UgcmV0dXJuITE7YnJlYWs7Y2FzZSAzNzppZigiaG9yaXpvbnRhbCI9PWEuSClTYyhhKT9IZChhKTpHZChhKTtlbHNlIHJldHVybiExO2JyZWFrO2Nhc2UgNDA6aWYoInZlcnRpY2FsIj09YS5IKUhkKGEpO2Vsc2UgcmV0dXJuITE7YnJlYWs7Y2FzZSAzOTppZigiaG9yaXpvbnRhbCI9PWEuSClTYyhhKT9HZChhKTpIZChhKTtlbHNlIHJldHVybiExOwpicmVhaztkZWZhdWx0OnJldHVybiExfXJldHVybiEwfSx6ZD1mdW5jdGlvbihhLGIpe3ZhciBjPWIuZigpO2M9Yy5pZHx8KGMuaWQ9TGMoYikpO2EuSXx8KGEuST17fSk7YS5JW2NdPWJ9O1MucHJvdG90eXBlLnNhPWZ1bmN0aW9uKGEsYil7Q2EoYSxOLCJUaGUgY2hpbGQgb2YgYSBjb250YWluZXIgbXVzdCBiZSBhIGNvbnRyb2wiKTtTLmkuc2EuY2FsbCh0aGlzLGEsYil9O1MucHJvdG90eXBlLnRhPWZ1bmN0aW9uKGEsYixjKXtDYShhLE4pO2EuS3w9MjthLkt8PTY0O3RkKGEsMzIsITEpO2EubSYmMCE9YS55YSYmb2QoYSwhMSk7YS55YT0hMTt2YXIgZD1hLmI9PXRoaXM/VGModGhpcyxhKTotMTtTLmkudGEuY2FsbCh0aGlzLGEsYixjKTthLm0mJnRoaXMubSYmemQodGhpcyxhKTthPWQ7LTE9PWEmJihhPVJjKHRoaXMpKTthPT10aGlzLmw/dGhpcy5sPU1hdGgubWluKFJjKHRoaXMpLTEsYik6YT50aGlzLmwmJmI8PXRoaXMubD90aGlzLmwrKzphPHRoaXMubCYmYj50aGlzLmwmJnRoaXMubC0tfTsKdmFyIGFkPWZ1bmN0aW9uKGEsYil7aWYoYS5mKCkpdGhyb3cgRXJyb3IoIkNvbXBvbmVudCBhbHJlYWR5IHJlbmRlcmVkIik7YS5IPWJ9O1MucHJvdG90eXBlLmlzVmlzaWJsZT1mdW5jdGlvbigpe3JldHVybiB0aGlzLlR9O3ZhciBBZD1mdW5jdGlvbihhLGIpe2EuVD1iO3ZhciBjPWEuZigpO2MmJihjLnN0eWxlLmRpc3BsYXk9Yj8iIjoibm9uZSIsWWMoeWQoYSksYS5PJiZhLlQpKX07Uy5wcm90b3R5cGUuaXNFbmFibGVkPWZ1bmN0aW9uKCl7cmV0dXJuIHRoaXMuT307Uy5wcm90b3R5cGUuWj1mdW5jdGlvbihhKXt0aGlzLk8hPWEmJnVjKHRoaXMsYT8iZW5hYmxlIjoiZGlzYWJsZSIpJiYoYT8odGhpcy5PPSEwLFFjKHRoaXMsZnVuY3Rpb24oYil7Yi5MYT9kZWxldGUgYi5MYTpiLlooITApfSkpOihRYyh0aGlzLGZ1bmN0aW9uKGIpe2IuaXNFbmFibGVkKCk/Yi5aKCExKTpiLkxhPSEwfSksdGhpcy5WPXRoaXMuTz0hMSksWWMoeWQodGhpcyksYSYmdGhpcy5UKSl9Owp2YXIgQ2Q9ZnVuY3Rpb24oYSxiKXsoYj1MKGEsYikpP1AoYiwhMCk6LTE8YS5sJiZQKEwoYSxhLmwpLCExKX0sRWQ9ZnVuY3Rpb24oYSl7SWQoYSxmdW5jdGlvbihiLGMpe3JldHVybihiKzEpJWN9LFJjKGEpLTEpfSxGZD1mdW5jdGlvbihhKXtJZChhLGZ1bmN0aW9uKGIsYyl7Yi0tO3JldHVybiAwPmI/Yy0xOmJ9LDApfSxIZD1mdW5jdGlvbihhKXtJZChhLGZ1bmN0aW9uKGIsYyl7cmV0dXJuKGIrMSklY30sYS5sKX0sR2Q9ZnVuY3Rpb24oYSl7SWQoYSxmdW5jdGlvbihiLGMpe2ItLTtyZXR1cm4gMD5iP2MtMTpifSxhLmwpfSxJZD1mdW5jdGlvbihhLGIsYyl7Yz0wPmM/VGMoYSxhLnMpOmM7dmFyIGQ9UmMoYSk7Yz1iLmNhbGwoYSxjLGQpO2Zvcih2YXIgZT0wO2U8PWQ7KXt2YXIgZj1MKGEsYyksZztpZihnPWYpZz1mLmlzVmlzaWJsZSgpJiZmLmlzRW5hYmxlZCgpJiYhIShmLnYmMik7aWYoZyl7YS5FYShjKTticmVha31lKys7Yz1iLmNhbGwoYSxjLGQpfX07ClMucHJvdG90eXBlLkVhPWZ1bmN0aW9uKGEpe0NkKHRoaXMsYSl9O3ZhciBUPWZ1bmN0aW9uKCl7fTtuKFQsTSk7ZGEoVCk7VC5wcm90b3R5cGUuYT1mdW5jdGlvbigpe3JldHVybiJnb29nLXRhYiJ9O1QucHJvdG90eXBlLmg9ZnVuY3Rpb24oKXtyZXR1cm4idGFiIn07VC5wcm90b3R5cGUuYz1mdW5jdGlvbihhKXt2YXIgYj1ULmkuYy5jYWxsKHRoaXMsYSk7KGE9YS5QYSkmJmImJihiLnRpdGxlPWF8fCIiKTtyZXR1cm4gYn07VC5wcm90b3R5cGUuZz1mdW5jdGlvbihhLGIpe2I9VC5pLmcuY2FsbCh0aGlzLGEsYik7dmFyIGM9Yi50aXRsZXx8IiI7YyYmKGEuUGE9Yyk7YS5vJjgmJihjPWEuYikmJmlhKGMuRykmJihRKGEsOCwhMSksYy5HKGEpKTtyZXR1cm4gYn07dmFyIEpkPWZ1bmN0aW9uKGEsYixjKXtOLmNhbGwodGhpcyxhLGJ8fFQuUigpLGMpO3RkKHRoaXMsOCwhMCk7dGhpcy5LfD05fTtuKEpkLE4pO1ZjKCJnb29nLXRhYiIsZnVuY3Rpb24oKXtyZXR1cm4gbmV3IEpkKG51bGwpfSk7dmFyIFU9ZnVuY3Rpb24oKXt0aGlzLmg9InRhYmxpc3QifTtuKFUsWGMpO2RhKFUpO1UucHJvdG90eXBlLmI9ZnVuY3Rpb24oKXtyZXR1cm4iZ29vZy10YWItYmFyIn07VS5wcm90b3R5cGUuZz1mdW5jdGlvbihhLGIsYyl7dGhpcy5qfHwodGhpcy5hfHxLZCh0aGlzKSx0aGlzLmo9c2EodGhpcy5hKSk7dmFyIGQ9dGhpcy5qW2JdO2Q/KGFkKGEsTGQoZCkpLGEuQj1kKTpVLmkuZy5jYWxsKHRoaXMsYSxiLGMpfTtVLnByb3RvdHlwZS5jPWZ1bmN0aW9uKGEpe3ZhciBiPVUuaS5jLmNhbGwodGhpcyxhKTt0aGlzLmF8fEtkKHRoaXMpO2IucHVzaCh0aGlzLmFbYS5CXSk7cmV0dXJuIGJ9O3ZhciBLZD1mdW5jdGlvbihhKXt2YXIgYj1hLmIoKTthLmE9e3RvcDpiKyItdG9wIixib3R0b206YisiLWJvdHRvbSIsc3RhcnQ6YisiLXN0YXJ0IixlbmQ6YisiLWVuZCJ9fTt2YXIgVj1mdW5jdGlvbihhLGIsYyl7YT1hfHwidG9wIjthZCh0aGlzLExkKGEpKTt0aGlzLkI9YTtTLmNhbGwodGhpcyx0aGlzLkgsYnx8VS5SKCksYyk7TWQodGhpcyl9O24oVixTKTtoPVYucHJvdG90eXBlO2guQz1udWxsO2guRD1mdW5jdGlvbigpe1YuaS5ELmNhbGwodGhpcyk7TWQodGhpcyl9O2gudT1mdW5jdGlvbigpe1YuaS51LmNhbGwodGhpcyk7dGhpcy5DPW51bGx9O2guRWE9ZnVuY3Rpb24oYSl7Vi5pLkVhLmNhbGwodGhpcyxhKTt0aGlzLkcoTCh0aGlzLGEpKX07aC5HPWZ1bmN0aW9uKGEpe2E/cmQoYSwhMCk6dGhpcy5DJiZyZCh0aGlzLkMsITEpfTsKdmFyIE5kPWZ1bmN0aW9uKGEsYil7aWYoYiYmYj09YS5DKXtmb3IodmFyIGM9VGMoYSxiKSxkPWMtMTtiPUwoYSxkKTtkLS0pe3ZhciBlPWI7aWYoZS5pc1Zpc2libGUoKSYmZS5pc0VuYWJsZWQoKSl7YS5HKGIpO3JldHVybn19Zm9yKGMrPTE7Yj1MKGEsYyk7YysrKWlmKGQ9YixkLmlzVmlzaWJsZSgpJiZkLmlzRW5hYmxlZCgpKXthLkcoYik7cmV0dXJufWEuRyhudWxsKX19O2g9Vi5wcm90b3R5cGU7aC5hYj1mdW5jdGlvbihhKXt0aGlzLkMmJnRoaXMuQyE9YS50YXJnZXQmJnJkKHRoaXMuQywhMSk7dGhpcy5DPWEudGFyZ2V0fTtoLmJiPWZ1bmN0aW9uKGEpe2EudGFyZ2V0PT10aGlzLkMmJih0aGlzLkM9bnVsbCl9O2guWmE9ZnVuY3Rpb24oYSl7TmQodGhpcyxhLnRhcmdldCl9O2guJGE9ZnVuY3Rpb24oYSl7TmQodGhpcyxhLnRhcmdldCl9O2guSGE9ZnVuY3Rpb24oKXtMKHRoaXMsdGhpcy5sKXx8Q2QodGhpcyxUYyh0aGlzLHRoaXMuQ3x8TCh0aGlzLDApKSl9Owp2YXIgTWQ9ZnVuY3Rpb24oYSl7SChIKEgoSChPYyhhKSxhLCJzZWxlY3QiLGEuYWIpLGEsInVuc2VsZWN0IixhLmJiKSxhLCJkaXNhYmxlIixhLlphKSxhLCJoaWRlIixhLiRhKX0sTGQ9ZnVuY3Rpb24oYSl7cmV0dXJuInN0YXJ0Ij09YXx8ImVuZCI9PWE/InZlcnRpY2FsIjoiaG9yaXpvbnRhbCJ9O1ZjKCJnb29nLXRhYi1iYXIiLGZ1bmN0aW9uKCl7cmV0dXJuIG5ldyBWfSk7ZnVuY3Rpb24gT2QoYSl7dmFyIGI9e3RvcDoiYm90dG9tIixib3R0b206InRvcCIsc3RhcnQ6InJpZ2h0IixlbmQ6ImxlZnQifVthLmxvY2F0aW9uXSxjPWEuZWxlbWVudElkLGQ9ZG9jdW1lbnQuY3JlYXRlRWxlbWVudCgic3R5bGUiKTtkLnRleHRDb250ZW50PSJcbiAgICBmaWVsZHNldCB7XG4gICAgICBwYWRkaW5nOiAxMHB4O1xuICAgICAgYm9yZGVyOiAxcHggc29saWQgIzM2OTtcbiAgICB9XG5cbiAgICAjIitjKyIgLmdvb2ctdGFiLWNvbnRlbnQge1xuICAgICAgbWluLWhlaWdodDogM2VtO1xuICAgICAgbWFyZ2luOiAwO1xuICAgICAgYm9yZGVyOiAiK2EuYm9yZGVyKyIgc29saWQgIithLmJvcmRlckNvbG9yKyI7XG4gICAgICBib3JkZXItdG9wOiAwO1xuICAgICAgaGVpZ2h0OiAiK2EuY29udGVudEhlaWdodCsiO1xuICAgICAgcGFkZGluZzogNHB4IDhweDtcbiAgICAgIG1hcmdpbi1yaWdodDogNHB4O1xuICAgICAgYmFja2dyb3VuZDogdmFyKC0tY29sYWItcHJpbWFyeS1zdXJmYWNlLWNvbG9yKTtcbiAgICAgIG92ZXJmbG93OiBhdXRvO1xuICAgIH1cblxuICAgICMiKwpjKyIgLmdvb2ctdGFiLWJhci0iK2EubG9jYXRpb24rIiAuZ29vZy10YWItc2VsZWN0ZWQge1xuICAgICAgYmFja2dyb3VuZC1jb2xvcjogdmFyKC0tY29sYWItcHJpbWFyeS1zdXJmYWNlLWNvbG9yKTtcbiAgICAgIGJvcmRlcjogMXB4IHNvbGlkICIrYS5ib3JkZXJDb2xvcisiO1xuICAgICAgYm9yZGVyLSIrYisiOiAwcHg7XG4gICAgfVxuXG4gICAgIyIrYysiIC5nb29nLXRhYi1iYXItIithLmxvY2F0aW9uKyIge1xuICAgICAgcGFkZGluZy0iK2EubG9jYXRpb24rIjogNXB4ICFpbXBvcnRhbnQ7XG4gICAgICBib3JkZXItIitiKyI6IDFweCBzb2xpZCAiK2EuYm9yZGVyQ29sb3IrIiAhaW1wb3J0YW50O1xuICAgICAgYmFja2dyb3VuZDogdmFyKC0tY29sYWItcHJpbWFyeS1zdXJmYWNlLWNvbG9yKTtcbiAgICB9XG5cbiAgICAjIitjKyIgLmdvb2ctdGFiLWJhciB7XG4gICAgICAgbWFyZ2luOiAwO1xuICAgICAgIGJvcmRlcjogMDtcbiAgICAgICBwYWRkaW5nOiAwO1xuICAgICAgIGxpc3Qtc3R5bGU6IG5vbmU7XG4gICAgICAgY3Vyc29yOiBkZWZhdWx0O1xuICAgICAgIG91dGxpbmU6IG5vbmU7XG4gICAgICAgYmFja2dyb3VuZDogdmFyKC0tY29sYWItcHJpbWFyeS1zdXJmYWNlLWNvbG9yKTtcbiAgICAgICBtYXJnaW4tcmlnaHQ6IDRweDtcbiAgICAgIH1cblxuICAgICAjIisKYysiIC5nb29nLXRhYiB7XG4gICAgICAgcG9zaXRpb246IHJlbGF0aXZlO1xuICAgICAgIHBhZGRpbmc6IDRweCA4cHg7XG4gICAgICAgY29sb3I6IHZhcigtLWNvbGFiLXByaW1hcnktdGV4dC1jb2xvcik7XG4gICAgICAgdGV4dC1kZWNvcmF0aW9uOiBpbml0aWFsO1xuICAgICAgIGN1cnNvcjogZGVmYXVsdDtcbiAgICAgIH1cblxuICAgICAgIyIrYysiIC5nb29nLXRhYi1ob3ZlciB7XG4gICAgICAgIGJhY2tncm91bmQtY29sb3I6IHZhcigtLWNvbGFiLWhpZ2hsaWdodGVkLXN1cmZhY2UtY29sb3IpO1xuICAgICAgfVxuICAgICAgIjtyZXR1cm4gZH0KdmFyIFBkPWZ1bmN0aW9uKGEpe3ZhciBiPWEuZWxlbWVudElkLGM9YS50YWJOYW1lcyxkPWEuc2VsZWN0ZWRJbmRleDsiY29udGVudEJvcmRlciJpbiBhfHwoYS5jb250ZW50Qm9yZGVyPSIwcHgiKTsiY29udGVudEhlaWdodCJpbiBhfHwoYS5jb250ZW50SGVpZ2h0PSJpbml0aWFsIik7ImJvcmRlckNvbG9yImluIGF8fChhLmJvcmRlckNvbG9yPSJ2YXIoLS1jb2xhYi1ib3JkZXItY29sb3IpIik7YS5sb2NhdGlvbnx8KGEubG9jYXRpb249InRvcCIpO3ZhciBlPWRvY3VtZW50LnF1ZXJ5U2VsZWN0b3IoIiMiK2IpLGY9ZG9jdW1lbnQuY3JlYXRlRWxlbWVudCgiZGl2Iik7Zi5jbGFzc0xpc3QuYWRkKCJnb29nLXRhYi1iYXIiKTt2YXIgZz1hLmxvY2F0aW9uO2YuY2xhc3NMaXN0LmFkZCgiZ29vZy10YWItYmFyLSIrZyk7Zm9yKHZhciBrPVtdLHA9YmEoYyksdz1wLm5leHQoKTshdy5kb25lO3c9cC5uZXh0KCkpe3c9dy52YWx1ZTt2YXIgQj1kb2N1bWVudC5jcmVhdGVFbGVtZW50KCJkaXYiKTsKQi5jbGFzc0xpc3QuYWRkKCJnb29nLXRhYiIpO0IudGV4dENvbnRlbnQ9dztmLmFwcGVuZENoaWxkKEIpO2sucHVzaChCKX0iYm90dG9tIiE9ZyYmZS5hcHBlbmRDaGlsZChmKTtwPW51bGw7aWYoInRvcCI9PWd8fCJib3R0b20iPT1nKXA9ZG9jdW1lbnQuY3JlYXRlRWxlbWVudCgiZGl2IikscC5jbGFzc0xpc3QuYWRkKCJnb29nLXRhYi1iYXItY2xlYXIiKTsidG9wIj09ZyYmcCYmZS5hcHBlbmRDaGlsZChwKTtCPWRvY3VtZW50LmNyZWF0ZUVsZW1lbnQoImRpdiIpO0IuY2xhc3NMaXN0LmFkZCgiZ29vZy10YWItY29udGVudCIpO3ZhciByYT1bXTtjPWJhKGMpO2Zvcih3PWMubmV4dCgpOyF3LmRvbmU7dz1jLm5leHQoKSl3PWRvY3VtZW50LmNyZWF0ZUVsZW1lbnQoImRpdiIpLHcuaWQ9ZS5pZCsiX2NvbnRlbnRfIityYS5sZW5ndGgsdy5zdHlsZS5kaXNwbGF5PSJub25lIixCLmFwcGVuZENoaWxkKHcpLHJhLnB1c2godyk7ZS5hcHBlbmRDaGlsZChCKTsiYm90dG9tIj09ZyYmKHAmJgplLmFwcGVuZENoaWxkKHApLGUuYXBwZW5kQ2hpbGQoZikpO3ZhciBYPW5ldyBWKGcpO1BjKFgsZik7dmFyIFk9LTE7ZGMoWCwic2VsZWN0IixmdW5jdGlvbihaKXtaPWsuaW5kZXhPZihaLnRhcmdldC5mKCkpO1ohPVkmJigwPD1ZJiZZPHJhLmxlbmd0aCYmKHJhW1ldLnN0eWxlLmRpc3BsYXk9Im5vbmUiLFk9LTEpLDA8PVomJlo8cmEubGVuZ3RoJiYoWT1aLHJhW1ldLnN0eWxlLmRpc3BsYXk9ImlubGluZSIsd2luZG93LmRpc3BhdGNoRXZlbnQobmV3IEV2ZW50KCJyZXNpemUiKSksZ29vZ2xlLmNvbGFiLm91dHB1dC5yZXNpemVJZnJhbWVUb0NvbnRlbnQoKSksWC5HKEwoWCxZKSkpfSk7WC5HKEwoWCxkKSk7d2luZG93W2JdPXtzZXRTZWxlY3RlZFRhYkluZGV4OmZ1bmN0aW9uKFope1guRyhMKFgsWikpfX07ZG9jdW1lbnQuaGVhZC5hcHBlbmRDaGlsZChPZChhKSl9LFFkPVsiY29sYWJfbGliIiwiY3JlYXRlVGFiQmFyIl0sVz1sOwpRZFswXWluIFd8fCJ1bmRlZmluZWQiPT10eXBlb2YgVy5leGVjU2NyaXB0fHxXLmV4ZWNTY3JpcHQoInZhciAiK1FkWzBdKTtmb3IodmFyIFJkO1FkLmxlbmd0aCYmKFJkPVFkLnNoaWZ0KCkpOylRZC5sZW5ndGh8fHZvaWQgMD09PVBkP1dbUmRdJiZXW1JkXSE9PU9iamVjdC5wcm90b3R5cGVbUmRdP1c9V1tSZF06Vz1XW1JkXT17fTpXW1JkXT1QZDt9KS5jYWxsKHRoaXMpOwovLyBjbGFuZy1mb3JtYXQgb24K",
              "ok": true,
              "headers": [
                [
                  "content-type",
                  "application/javascript"
                ]
              ],
              "status": 200,
              "status_text": ""
            }
          },
          "base_uri": "https://localhost:8080/",
          "height": 388
        },
        "id": "B3Oo22lZphX0",
        "outputId": "e13f3c03-394a-426c-dd78-e8eec3252500"
      },
      "execution_count": null,
      "outputs": [
        {
          "output_type": "stream",
          "name": "stdout",
          "text": [
            "\n",
            "------------- Заголовок. -------------\n",
            "\n"
          ]
        },
        {
          "output_type": "display_data",
          "data": {
            "text/plain": [
              "<IPython.core.display.HTML object>"
            ],
            "text/html": [
              "<style>\n",
              "       table#id43, #id43 > tbody > tr > th, #id43 > tbody > tr > td {\n",
              "         border: 1px solid lightgray;\n",
              "         border-collapse:collapse;\n",
              "         \n",
              "        }</style>"
            ]
          },
          "metadata": {}
        },
        {
          "output_type": "display_data",
          "data": {
            "text/plain": [
              "<IPython.core.display.HTML object>"
            ],
            "text/html": [
              "<table id=id43><tr><th id=id43-0-0></th><th id=id43-0-1></th></tr><tr><th id=id43-1-0></th><td id=id43-1-1></td></tr><tr><th id=id43-2-0></th><td id=id43-2-1></td></tr><tr><th id=id43-3-0></th><td id=id43-3-1></td></tr><tr><th id=id43-4-0></th><td id=id43-4-1></td></tr><tr><th id=id43-5-0></th><td id=id43-5-1></td></tr></table>"
            ]
          },
          "metadata": {}
        },
        {
          "output_type": "display_data",
          "data": {
            "text/plain": [
              "<IPython.core.display.Javascript object>"
            ],
            "application/javascript": [
              "window[\"0cfb18d6-dc4c-11ed-9f1c-0242ac1c000c\"] = google.colab.output.getActiveOutputArea();\n",
              "//# sourceURL=js_5577520527"
            ]
          },
          "metadata": {}
        },
        {
          "output_type": "display_data",
          "data": {
            "text/plain": [
              "<IPython.core.display.Javascript object>"
            ],
            "application/javascript": [
              "window[\"0cfb56a2-dc4c-11ed-9f1c-0242ac1c000c\"] = document.querySelector(\"#id43-0-0\");\n",
              "//# sourceURL=js_d80efe02c9"
            ]
          },
          "metadata": {}
        },
        {
          "output_type": "display_data",
          "data": {
            "text/plain": [
              "<IPython.core.display.Javascript object>"
            ],
            "application/javascript": [
              "window[\"0cfbcbc8-dc4c-11ed-9f1c-0242ac1c000c\"] = google.colab.output.setActiveOutputArea(window[\"0cfb56a2-dc4c-11ed-9f1c-0242ac1c000c\"]);\n",
              "//# sourceURL=js_223a5b035b"
            ]
          },
          "metadata": {}
        },
        {
          "output_type": "stream",
          "name": "stdout",
          "text": [
            "1 колонка 1 ряда\n"
          ]
        },
        {
          "output_type": "display_data",
          "data": {
            "text/plain": [
              "<IPython.core.display.Javascript object>"
            ],
            "application/javascript": [
              "window[\"0cfcc8c0-dc4c-11ed-9f1c-0242ac1c000c\"] = google.colab.output.setActiveOutputArea(window[\"0cfb18d6-dc4c-11ed-9f1c-0242ac1c000c\"]);\n",
              "//# sourceURL=js_19776c8412"
            ]
          },
          "metadata": {}
        },
        {
          "output_type": "display_data",
          "data": {
            "text/plain": [
              "<IPython.core.display.Javascript object>"
            ],
            "application/javascript": [
              "window[\"0cfe6de2-dc4c-11ed-9f1c-0242ac1c000c\"] = google.colab.output.getActiveOutputArea();\n",
              "//# sourceURL=js_05534e83b9"
            ]
          },
          "metadata": {}
        },
        {
          "output_type": "display_data",
          "data": {
            "text/plain": [
              "<IPython.core.display.Javascript object>"
            ],
            "application/javascript": [
              "window[\"0cfeb7a2-dc4c-11ed-9f1c-0242ac1c000c\"] = document.querySelector(\"#id43-0-1\");\n",
              "//# sourceURL=js_5bfe7d2659"
            ]
          },
          "metadata": {}
        },
        {
          "output_type": "display_data",
          "data": {
            "text/plain": [
              "<IPython.core.display.Javascript object>"
            ],
            "application/javascript": [
              "window[\"0cfef2d0-dc4c-11ed-9f1c-0242ac1c000c\"] = google.colab.output.setActiveOutputArea(window[\"0cfeb7a2-dc4c-11ed-9f1c-0242ac1c000c\"]);\n",
              "//# sourceURL=js_80d4aee4f5"
            ]
          },
          "metadata": {}
        },
        {
          "output_type": "stream",
          "name": "stdout",
          "text": [
            "2 колонка 1 ряда\n"
          ]
        },
        {
          "output_type": "display_data",
          "data": {
            "text/plain": [
              "<IPython.core.display.Javascript object>"
            ],
            "application/javascript": [
              "window[\"0cffe76c-dc4c-11ed-9f1c-0242ac1c000c\"] = google.colab.output.setActiveOutputArea(window[\"0cfe6de2-dc4c-11ed-9f1c-0242ac1c000c\"]);\n",
              "//# sourceURL=js_de8f2f6613"
            ]
          },
          "metadata": {}
        },
        {
          "output_type": "display_data",
          "data": {
            "text/plain": [
              "<IPython.core.display.Javascript object>"
            ],
            "application/javascript": [
              "window[\"0d01582c-dc4c-11ed-9f1c-0242ac1c000c\"] = google.colab.output.getActiveOutputArea();\n",
              "//# sourceURL=js_cba9dfcaf1"
            ]
          },
          "metadata": {}
        },
        {
          "output_type": "display_data",
          "data": {
            "text/plain": [
              "<IPython.core.display.Javascript object>"
            ],
            "application/javascript": [
              "window[\"0d019558-dc4c-11ed-9f1c-0242ac1c000c\"] = document.querySelector(\"#id43-1-0\");\n",
              "//# sourceURL=js_f7e6ec28c4"
            ]
          },
          "metadata": {}
        },
        {
          "output_type": "display_data",
          "data": {
            "text/plain": [
              "<IPython.core.display.Javascript object>"
            ],
            "application/javascript": [
              "window[\"0d01ce06-dc4c-11ed-9f1c-0242ac1c000c\"] = google.colab.output.setActiveOutputArea(window[\"0d019558-dc4c-11ed-9f1c-0242ac1c000c\"]);\n",
              "//# sourceURL=js_28ed431ace"
            ]
          },
          "metadata": {}
        },
        {
          "output_type": "stream",
          "name": "stdout",
          "text": [
            "1 колонка 2 ряда\n"
          ]
        },
        {
          "output_type": "display_data",
          "data": {
            "text/plain": [
              "<IPython.core.display.Javascript object>"
            ],
            "application/javascript": [
              "window[\"0d02b1f4-dc4c-11ed-9f1c-0242ac1c000c\"] = google.colab.output.setActiveOutputArea(window[\"0d01582c-dc4c-11ed-9f1c-0242ac1c000c\"]);\n",
              "//# sourceURL=js_a602fcce73"
            ]
          },
          "metadata": {}
        },
        {
          "output_type": "display_data",
          "data": {
            "text/plain": [
              "<IPython.core.display.Javascript object>"
            ],
            "application/javascript": [
              "window[\"0d0881c4-dc4c-11ed-9f1c-0242ac1c000c\"] = google.colab.output.getActiveOutputArea();\n",
              "//# sourceURL=js_19dd1b2afc"
            ]
          },
          "metadata": {}
        },
        {
          "output_type": "display_data",
          "data": {
            "text/plain": [
              "<IPython.core.display.Javascript object>"
            ],
            "application/javascript": [
              "window[\"0d08e510-dc4c-11ed-9f1c-0242ac1c000c\"] = document.querySelector(\"#id43-1-1\");\n",
              "//# sourceURL=js_80b0cb6613"
            ]
          },
          "metadata": {}
        },
        {
          "output_type": "display_data",
          "data": {
            "text/plain": [
              "<IPython.core.display.Javascript object>"
            ],
            "application/javascript": [
              "window[\"0d09543c-dc4c-11ed-9f1c-0242ac1c000c\"] = google.colab.output.setActiveOutputArea(window[\"0d08e510-dc4c-11ed-9f1c-0242ac1c000c\"]);\n",
              "//# sourceURL=js_918371988a"
            ]
          },
          "metadata": {}
        },
        {
          "output_type": "stream",
          "name": "stdout",
          "text": [
            "2 колонка 2 ряда\n"
          ]
        },
        {
          "output_type": "display_data",
          "data": {
            "text/plain": [
              "<IPython.core.display.Javascript object>"
            ],
            "application/javascript": [
              "window[\"0d0a2a06-dc4c-11ed-9f1c-0242ac1c000c\"] = google.colab.output.setActiveOutputArea(window[\"0d0881c4-dc4c-11ed-9f1c-0242ac1c000c\"]);\n",
              "//# sourceURL=js_75d397b666"
            ]
          },
          "metadata": {}
        },
        {
          "output_type": "display_data",
          "data": {
            "text/plain": [
              "<IPython.core.display.Javascript object>"
            ],
            "application/javascript": [
              "window[\"0d0d1b76-dc4c-11ed-9f1c-0242ac1c000c\"] = google.colab.output.getActiveOutputArea();\n",
              "//# sourceURL=js_5c4127919f"
            ]
          },
          "metadata": {}
        },
        {
          "output_type": "display_data",
          "data": {
            "text/plain": [
              "<IPython.core.display.Javascript object>"
            ],
            "application/javascript": [
              "window[\"0d0d71f2-dc4c-11ed-9f1c-0242ac1c000c\"] = document.querySelector(\"#id43-2-0\");\n",
              "//# sourceURL=js_abaf248698"
            ]
          },
          "metadata": {}
        },
        {
          "output_type": "display_data",
          "data": {
            "text/plain": [
              "<IPython.core.display.Javascript object>"
            ],
            "application/javascript": [
              "window[\"0d0e4672-dc4c-11ed-9f1c-0242ac1c000c\"] = google.colab.output.setActiveOutputArea(window[\"0d0d71f2-dc4c-11ed-9f1c-0242ac1c000c\"]);\n",
              "//# sourceURL=js_8768f021a5"
            ]
          },
          "metadata": {}
        },
        {
          "output_type": "stream",
          "name": "stdout",
          "text": [
            "1 колонка 3 ряда\n"
          ]
        },
        {
          "output_type": "display_data",
          "data": {
            "text/plain": [
              "<IPython.core.display.Javascript object>"
            ],
            "application/javascript": [
              "window[\"0d1086d0-dc4c-11ed-9f1c-0242ac1c000c\"] = google.colab.output.setActiveOutputArea(window[\"0d0d1b76-dc4c-11ed-9f1c-0242ac1c000c\"]);\n",
              "//# sourceURL=js_b3017668a3"
            ]
          },
          "metadata": {}
        },
        {
          "output_type": "display_data",
          "data": {
            "text/plain": [
              "<IPython.core.display.Javascript object>"
            ],
            "application/javascript": [
              "window[\"0d13aa04-dc4c-11ed-9f1c-0242ac1c000c\"] = google.colab.output.getActiveOutputArea();\n",
              "//# sourceURL=js_056abe5b07"
            ]
          },
          "metadata": {}
        },
        {
          "output_type": "display_data",
          "data": {
            "text/plain": [
              "<IPython.core.display.Javascript object>"
            ],
            "application/javascript": [
              "window[\"0d141958-dc4c-11ed-9f1c-0242ac1c000c\"] = document.querySelector(\"#id43-2-1\");\n",
              "//# sourceURL=js_7fec6c4449"
            ]
          },
          "metadata": {}
        },
        {
          "output_type": "display_data",
          "data": {
            "text/plain": [
              "<IPython.core.display.Javascript object>"
            ],
            "application/javascript": [
              "window[\"0d1483e8-dc4c-11ed-9f1c-0242ac1c000c\"] = google.colab.output.setActiveOutputArea(window[\"0d141958-dc4c-11ed-9f1c-0242ac1c000c\"]);\n",
              "//# sourceURL=js_a1b627cb37"
            ]
          },
          "metadata": {}
        },
        {
          "output_type": "stream",
          "name": "stdout",
          "text": [
            "2 колонка 3 ряда\n"
          ]
        },
        {
          "output_type": "display_data",
          "data": {
            "text/plain": [
              "<IPython.core.display.Javascript object>"
            ],
            "application/javascript": [
              "window[\"0d1617da-dc4c-11ed-9f1c-0242ac1c000c\"] = google.colab.output.setActiveOutputArea(window[\"0d13aa04-dc4c-11ed-9f1c-0242ac1c000c\"]);\n",
              "//# sourceURL=js_01bbf82a1a"
            ]
          },
          "metadata": {}
        },
        {
          "output_type": "display_data",
          "data": {
            "text/plain": [
              "<IPython.core.display.Javascript object>"
            ],
            "application/javascript": [
              "window[\"0d1896a4-dc4c-11ed-9f1c-0242ac1c000c\"] = google.colab.output.getActiveOutputArea();\n",
              "//# sourceURL=js_7c66bdabb2"
            ]
          },
          "metadata": {}
        },
        {
          "output_type": "display_data",
          "data": {
            "text/plain": [
              "<IPython.core.display.Javascript object>"
            ],
            "application/javascript": [
              "window[\"0d193b4a-dc4c-11ed-9f1c-0242ac1c000c\"] = document.querySelector(\"#id43-3-0\");\n",
              "//# sourceURL=js_46486ba25b"
            ]
          },
          "metadata": {}
        },
        {
          "output_type": "display_data",
          "data": {
            "text/plain": [
              "<IPython.core.display.Javascript object>"
            ],
            "application/javascript": [
              "window[\"0d19f9fe-dc4c-11ed-9f1c-0242ac1c000c\"] = google.colab.output.setActiveOutputArea(window[\"0d193b4a-dc4c-11ed-9f1c-0242ac1c000c\"]);\n",
              "//# sourceURL=js_d9fbe853df"
            ]
          },
          "metadata": {}
        },
        {
          "output_type": "stream",
          "name": "stdout",
          "text": [
            "1 колонка 4 ряда\n"
          ]
        },
        {
          "output_type": "display_data",
          "data": {
            "text/plain": [
              "<IPython.core.display.Javascript object>"
            ],
            "application/javascript": [
              "window[\"0d1c26f2-dc4c-11ed-9f1c-0242ac1c000c\"] = google.colab.output.setActiveOutputArea(window[\"0d1896a4-dc4c-11ed-9f1c-0242ac1c000c\"]);\n",
              "//# sourceURL=js_7852da782b"
            ]
          },
          "metadata": {}
        },
        {
          "output_type": "display_data",
          "data": {
            "text/plain": [
              "<IPython.core.display.Javascript object>"
            ],
            "application/javascript": [
              "window[\"0d1e7254-dc4c-11ed-9f1c-0242ac1c000c\"] = google.colab.output.getActiveOutputArea();\n",
              "//# sourceURL=js_59d29125f5"
            ]
          },
          "metadata": {}
        },
        {
          "output_type": "display_data",
          "data": {
            "text/plain": [
              "<IPython.core.display.Javascript object>"
            ],
            "application/javascript": [
              "window[\"0d1ec808-dc4c-11ed-9f1c-0242ac1c000c\"] = document.querySelector(\"#id43-3-1\");\n",
              "//# sourceURL=js_a7ea1fba29"
            ]
          },
          "metadata": {}
        },
        {
          "output_type": "display_data",
          "data": {
            "text/plain": [
              "<IPython.core.display.Javascript object>"
            ],
            "application/javascript": [
              "window[\"0d1f118c-dc4c-11ed-9f1c-0242ac1c000c\"] = google.colab.output.setActiveOutputArea(window[\"0d1ec808-dc4c-11ed-9f1c-0242ac1c000c\"]);\n",
              "//# sourceURL=js_117756ca74"
            ]
          },
          "metadata": {}
        },
        {
          "output_type": "stream",
          "name": "stdout",
          "text": [
            "2 колонка 4 ряда\n"
          ]
        },
        {
          "output_type": "display_data",
          "data": {
            "text/plain": [
              "<IPython.core.display.Javascript object>"
            ],
            "application/javascript": [
              "window[\"0d213cc8-dc4c-11ed-9f1c-0242ac1c000c\"] = google.colab.output.setActiveOutputArea(window[\"0d1e7254-dc4c-11ed-9f1c-0242ac1c000c\"]);\n",
              "//# sourceURL=js_e2d1323be5"
            ]
          },
          "metadata": {}
        },
        {
          "output_type": "display_data",
          "data": {
            "text/plain": [
              "<IPython.core.display.Javascript object>"
            ],
            "application/javascript": [
              "window[\"0d24edfa-dc4c-11ed-9f1c-0242ac1c000c\"] = google.colab.output.getActiveOutputArea();\n",
              "//# sourceURL=js_6db9777e26"
            ]
          },
          "metadata": {}
        },
        {
          "output_type": "display_data",
          "data": {
            "text/plain": [
              "<IPython.core.display.Javascript object>"
            ],
            "application/javascript": [
              "window[\"0d255e20-dc4c-11ed-9f1c-0242ac1c000c\"] = document.querySelector(\"#id43-4-0\");\n",
              "//# sourceURL=js_e9017de6aa"
            ]
          },
          "metadata": {}
        },
        {
          "output_type": "display_data",
          "data": {
            "text/plain": [
              "<IPython.core.display.Javascript object>"
            ],
            "application/javascript": [
              "window[\"0d25cebe-dc4c-11ed-9f1c-0242ac1c000c\"] = google.colab.output.setActiveOutputArea(window[\"0d255e20-dc4c-11ed-9f1c-0242ac1c000c\"]);\n",
              "//# sourceURL=js_0ca565112c"
            ]
          },
          "metadata": {}
        },
        {
          "output_type": "stream",
          "name": "stdout",
          "text": [
            "1 колонка 5 ряда\n"
          ]
        },
        {
          "output_type": "display_data",
          "data": {
            "text/plain": [
              "<IPython.core.display.Javascript object>"
            ],
            "application/javascript": [
              "window[\"0d2845f4-dc4c-11ed-9f1c-0242ac1c000c\"] = google.colab.output.setActiveOutputArea(window[\"0d24edfa-dc4c-11ed-9f1c-0242ac1c000c\"]);\n",
              "//# sourceURL=js_5d2cc1a1e5"
            ]
          },
          "metadata": {}
        },
        {
          "output_type": "display_data",
          "data": {
            "text/plain": [
              "<IPython.core.display.Javascript object>"
            ],
            "application/javascript": [
              "window[\"0d29c4a6-dc4c-11ed-9f1c-0242ac1c000c\"] = google.colab.output.getActiveOutputArea();\n",
              "//# sourceURL=js_ea67f9cdd8"
            ]
          },
          "metadata": {}
        },
        {
          "output_type": "display_data",
          "data": {
            "text/plain": [
              "<IPython.core.display.Javascript object>"
            ],
            "application/javascript": [
              "window[\"0d29fde0-dc4c-11ed-9f1c-0242ac1c000c\"] = document.querySelector(\"#id43-4-1\");\n",
              "//# sourceURL=js_42f9aa41d3"
            ]
          },
          "metadata": {}
        },
        {
          "output_type": "display_data",
          "data": {
            "text/plain": [
              "<IPython.core.display.Javascript object>"
            ],
            "application/javascript": [
              "window[\"0d2a309e-dc4c-11ed-9f1c-0242ac1c000c\"] = google.colab.output.setActiveOutputArea(window[\"0d29fde0-dc4c-11ed-9f1c-0242ac1c000c\"]);\n",
              "//# sourceURL=js_a75213004a"
            ]
          },
          "metadata": {}
        },
        {
          "output_type": "stream",
          "name": "stdout",
          "text": [
            "2 колонка 5 ряда\n"
          ]
        },
        {
          "output_type": "display_data",
          "data": {
            "text/plain": [
              "<IPython.core.display.Javascript object>"
            ],
            "application/javascript": [
              "window[\"0d2afba0-dc4c-11ed-9f1c-0242ac1c000c\"] = google.colab.output.setActiveOutputArea(window[\"0d29c4a6-dc4c-11ed-9f1c-0242ac1c000c\"]);\n",
              "//# sourceURL=js_07a386ff45"
            ]
          },
          "metadata": {}
        },
        {
          "output_type": "display_data",
          "data": {
            "text/plain": [
              "<IPython.core.display.Javascript object>"
            ],
            "application/javascript": [
              "window[\"0d2c753e-dc4c-11ed-9f1c-0242ac1c000c\"] = google.colab.output.getActiveOutputArea();\n",
              "//# sourceURL=js_ce62ef760a"
            ]
          },
          "metadata": {}
        },
        {
          "output_type": "display_data",
          "data": {
            "text/plain": [
              "<IPython.core.display.Javascript object>"
            ],
            "application/javascript": [
              "window[\"0d2cb0da-dc4c-11ed-9f1c-0242ac1c000c\"] = document.querySelector(\"#id43-5-0\");\n",
              "//# sourceURL=js_ba52739913"
            ]
          },
          "metadata": {}
        },
        {
          "output_type": "display_data",
          "data": {
            "text/plain": [
              "<IPython.core.display.Javascript object>"
            ],
            "application/javascript": [
              "window[\"0d2ce7bc-dc4c-11ed-9f1c-0242ac1c000c\"] = google.colab.output.setActiveOutputArea(window[\"0d2cb0da-dc4c-11ed-9f1c-0242ac1c000c\"]);\n",
              "//# sourceURL=js_7e63426bdd"
            ]
          },
          "metadata": {}
        },
        {
          "output_type": "stream",
          "name": "stdout",
          "text": [
            "1 колонка 6 ряда\n"
          ]
        },
        {
          "output_type": "display_data",
          "data": {
            "text/plain": [
              "<IPython.core.display.Javascript object>"
            ],
            "application/javascript": [
              "window[\"0d2daae4-dc4c-11ed-9f1c-0242ac1c000c\"] = google.colab.output.setActiveOutputArea(window[\"0d2c753e-dc4c-11ed-9f1c-0242ac1c000c\"]);\n",
              "//# sourceURL=js_ecf8b1c4f1"
            ]
          },
          "metadata": {}
        },
        {
          "output_type": "display_data",
          "data": {
            "text/plain": [
              "<IPython.core.display.Javascript object>"
            ],
            "application/javascript": [
              "window[\"0d2ee3dc-dc4c-11ed-9f1c-0242ac1c000c\"] = google.colab.output.getActiveOutputArea();\n",
              "//# sourceURL=js_bd76974f5b"
            ]
          },
          "metadata": {}
        },
        {
          "output_type": "display_data",
          "data": {
            "text/plain": [
              "<IPython.core.display.Javascript object>"
            ],
            "application/javascript": [
              "window[\"0d2f1438-dc4c-11ed-9f1c-0242ac1c000c\"] = document.querySelector(\"#id43-5-1\");\n",
              "//# sourceURL=js_a621d563ad"
            ]
          },
          "metadata": {}
        },
        {
          "output_type": "display_data",
          "data": {
            "text/plain": [
              "<IPython.core.display.Javascript object>"
            ],
            "application/javascript": [
              "window[\"0d2f457a-dc4c-11ed-9f1c-0242ac1c000c\"] = google.colab.output.setActiveOutputArea(window[\"0d2f1438-dc4c-11ed-9f1c-0242ac1c000c\"]);\n",
              "//# sourceURL=js_83bfaab1b4"
            ]
          },
          "metadata": {}
        },
        {
          "output_type": "stream",
          "name": "stdout",
          "text": [
            "2 колонка 6 ряда\n"
          ]
        },
        {
          "output_type": "display_data",
          "data": {
            "text/plain": [
              "<IPython.core.display.Javascript object>"
            ],
            "application/javascript": [
              "window[\"0d3009ce-dc4c-11ed-9f1c-0242ac1c000c\"] = google.colab.output.setActiveOutputArea(window[\"0d2ee3dc-dc4c-11ed-9f1c-0242ac1c000c\"]);\n",
              "//# sourceURL=js_f9fbd181d1"
            ]
          },
          "metadata": {}
        },
        {
          "output_type": "stream",
          "name": "stdout",
          "text": [
            "\n",
            "------------- Выполнено. -------------\n",
            "\n"
          ]
        },
        {
          "output_type": "display_data",
          "data": {
            "text/plain": [
              "<IPython.core.display.HTML object>"
            ],
            "text/html": [
              "<link rel=stylesheet type=text/css href='/nbextensions/google.colab/tabbar.css'></link>"
            ]
          },
          "metadata": {}
        },
        {
          "output_type": "display_data",
          "data": {
            "text/plain": [
              "<IPython.core.display.HTML object>"
            ],
            "text/html": [
              "<script src='/nbextensions/google.colab/tabbar_main.min.js'></script>"
            ]
          },
          "metadata": {}
        },
        {
          "output_type": "display_data",
          "data": {
            "text/plain": [
              "<IPython.core.display.HTML object>"
            ],
            "text/html": [
              "<div id=\"id44\"></div>"
            ]
          },
          "metadata": {}
        },
        {
          "output_type": "display_data",
          "data": {
            "text/plain": [
              "<IPython.core.display.Javascript object>"
            ],
            "application/javascript": [
              "window[\"0d31f7b6-dc4c-11ed-9f1c-0242ac1c000c\"] = colab_lib.createTabBar({\"location\": \"top\", \"elementId\": \"id44\", \"tabNames\": [\"- \\u043f\\u043b\\u0430\\u043d \\u0440\\u0430\\u0431\\u043e\\u0442 -\", \" - \\u0440\\u0435\\u0437\\u0443\\u043b\\u044c\\u0442\\u0430\\u0442 \\u0440\\u0430\\u0431\\u043e\\u0442 -\"], \"initialSelection\": 0, \"contentBorder\": [\"0px\"], \"contentHeight\": [\"initial\"], \"borderColor\": [\"#a7a7a7\"]});\n",
              "//# sourceURL=js_947aacfeaa"
            ]
          },
          "metadata": {}
        },
        {
          "output_type": "display_data",
          "data": {
            "text/plain": [
              "<IPython.core.display.Javascript object>"
            ],
            "application/javascript": [
              "window[\"0d32251a-dc4c-11ed-9f1c-0242ac1c000c\"] = window[\"id44\"].setSelectedTabIndex(0);\n",
              "//# sourceURL=js_cb2bf3f9a9"
            ]
          },
          "metadata": {}
        },
        {
          "output_type": "display_data",
          "data": {
            "text/plain": [
              "<IPython.core.display.Javascript object>"
            ],
            "application/javascript": [
              "window[\"0d3304bc-dc4c-11ed-9f1c-0242ac1c000c\"] = google.colab.output.getActiveOutputArea();\n",
              "//# sourceURL=js_26cc079e8f"
            ]
          },
          "metadata": {}
        },
        {
          "output_type": "display_data",
          "data": {
            "text/plain": [
              "<IPython.core.display.Javascript object>"
            ],
            "application/javascript": [
              "window[\"0d333374-dc4c-11ed-9f1c-0242ac1c000c\"] = document.querySelector(\"#id44_content_0\");\n",
              "//# sourceURL=js_bca83550aa"
            ]
          },
          "metadata": {}
        },
        {
          "output_type": "display_data",
          "data": {
            "text/plain": [
              "<IPython.core.display.Javascript object>"
            ],
            "application/javascript": [
              "window[\"0d33640c-dc4c-11ed-9f1c-0242ac1c000c\"] = google.colab.output.setActiveOutputArea(window[\"0d333374-dc4c-11ed-9f1c-0242ac1c000c\"]);\n",
              "//# sourceURL=js_e2908ee4bd"
            ]
          },
          "metadata": {}
        },
        {
          "output_type": "display_data",
          "data": {
            "text/plain": [
              "<IPython.core.display.Javascript object>"
            ],
            "application/javascript": [
              "window[\"0d3394cc-dc4c-11ed-9f1c-0242ac1c000c\"] = window[\"id44\"].setSelectedTabIndex(0);\n",
              "//# sourceURL=js_52d1e5bb24"
            ]
          },
          "metadata": {}
        },
        {
          "output_type": "stream",
          "name": "stdout",
          "text": [
            "1) Удалилить папку 'sample_data'.\n",
            "2) Cоздать папку 'dataset'.\n",
            "3) Загрузить характеристики базальтопластика.\n",
            "4) Загрузить характеристики нашивки из углепластика.\n",
            "5) Всё проверить.\n"
          ]
        },
        {
          "output_type": "display_data",
          "data": {
            "text/plain": [
              "<IPython.core.display.Javascript object>"
            ],
            "application/javascript": [
              "window[\"0d344dd6-dc4c-11ed-9f1c-0242ac1c000c\"] = google.colab.output.setActiveOutputArea(window[\"0d3304bc-dc4c-11ed-9f1c-0242ac1c000c\"]);\n",
              "//# sourceURL=js_3b8f4afd6b"
            ]
          },
          "metadata": {}
        },
        {
          "output_type": "display_data",
          "data": {
            "text/plain": [
              "<IPython.core.display.Javascript object>"
            ],
            "application/javascript": [
              "window[\"0d35704e-dc4c-11ed-9f1c-0242ac1c000c\"] = google.colab.output.getActiveOutputArea();\n",
              "//# sourceURL=js_ed5657ae74"
            ]
          },
          "metadata": {}
        },
        {
          "output_type": "display_data",
          "data": {
            "text/plain": [
              "<IPython.core.display.Javascript object>"
            ],
            "application/javascript": [
              "window[\"0d35a370-dc4c-11ed-9f1c-0242ac1c000c\"] = document.querySelector(\"#id44_content_1\");\n",
              "//# sourceURL=js_2bf3ca6684"
            ]
          },
          "metadata": {}
        },
        {
          "output_type": "display_data",
          "data": {
            "text/plain": [
              "<IPython.core.display.Javascript object>"
            ],
            "application/javascript": [
              "window[\"0d35d87c-dc4c-11ed-9f1c-0242ac1c000c\"] = google.colab.output.setActiveOutputArea(window[\"0d35a370-dc4c-11ed-9f1c-0242ac1c000c\"]);\n",
              "//# sourceURL=js_5ed5fd2126"
            ]
          },
          "metadata": {}
        },
        {
          "output_type": "display_data",
          "data": {
            "text/plain": [
              "<IPython.core.display.Javascript object>"
            ],
            "application/javascript": [
              "window[\"0d3606da-dc4c-11ed-9f1c-0242ac1c000c\"] = window[\"id44\"].setSelectedTabIndex(1);\n",
              "//# sourceURL=js_0122c34b8c"
            ]
          },
          "metadata": {}
        },
        {
          "output_type": "stream",
          "name": "stdout",
          "text": [
            "1) Удалена папка 'sample_data'.\n",
            "2) Cоздана целевая папка 'dataset'.\n",
            "3) Загружены характеристики базальтопластика. -> Файл 'X_bp.xlsx'.\n",
            "4) Загружены характеристики нашивки из углепластика.-> Файл 'X_nup.xlsx'. \n",
            "5) Всё проверено. OK.\n"
          ]
        },
        {
          "output_type": "display_data",
          "data": {
            "text/plain": [
              "<IPython.core.display.Javascript object>"
            ],
            "application/javascript": [
              "window[\"0d36c46c-dc4c-11ed-9f1c-0242ac1c000c\"] = google.colab.output.setActiveOutputArea(window[\"0d35704e-dc4c-11ed-9f1c-0242ac1c000c\"]);\n",
              "//# sourceURL=js_fba0d226b6"
            ]
          },
          "metadata": {}
        }
      ]
    },
    {
      "cell_type": "code",
      "source": [
        "import numpy as np\n",
        "import random\n",
        "import time\n",
        "from matplotlib import pyplot as plt\n",
        "grid = widgets.Grid(2, 2)\n",
        "for i in range(20):\n",
        "  with grid.output_to(random.randint(0, 1), random.randint(0, 1)):\n",
        "    grid.clear_cell()\n",
        "    fig, ax = plt.subplots(figsize=(2, 2))\n",
        "    ax.plot(np.random.random((10, 1)))\n",
        "    plt.show()\n",
        "  time.sleep(0.5)"
      ],
      "metadata": {
        "id": "O0mC7No3tFMc"
      },
      "execution_count": null,
      "outputs": []
    },
    {
      "cell_type": "code",
      "execution_count": null,
      "metadata": {
        "id": "WUWQJqKwrwg5"
      },
      "outputs": [],
      "source": [
        "from google.colab import widgets\n",
        "from google.colab import output\n",
        "from matplotlib import pyplot as plt\n",
        "from six.moves import zip\n",
        "\n",
        "\n",
        "def create_tab(location):\n",
        "  tb = widgets.TabBar(['a', 'b'], location=location)\n",
        "  with tb.output_to('a'):\n",
        "    fig, ax = plt.subplots(figsize=(3, 3))\n",
        "    ax.plot([1, 2, 3])\n",
        "    plt.show()\n",
        "  # Note you can access tab by its name (if they are unique), or\n",
        "  # by its index.\n",
        "  with tb.output_to(1):\n",
        "    fig, ax = plt.subplots(figsize=(3, 3))\n",
        "    ax.plot([3, 2, 3])\n",
        "    plt.show()\n",
        "\n",
        "\n",
        "print('Different orientations for tabs')\n",
        "\n",
        "positions = ['start', 'bottom', 'end', 'top']\n",
        "\n",
        "for p, _ in zip(positions, widgets.Grid(1, 4)):\n",
        "  print('---- %s ---' % p)\n",
        "  create_tab(p)"
      ]
    },
    {
      "cell_type": "code",
      "source": [
        "t = widgets.TabBar([\"hi\", \"bye\"])\n",
        "with t.output_to(0):\n",
        "  print(\"I am temporary\")\n",
        "  t.clear_tab()  # clears current\n",
        "  print(\"I am permanent\")\n",
        "\n",
        "with t.output_to(1):\n",
        "  print(\"Me too temporary\")\n",
        "\n",
        "# Cler works outside of with statement\n",
        "t.clear_tab(1)\n",
        "\n",
        "with t.output_to(1):\n",
        "  print(\"1/2 Me is permanent\")\n",
        "with t.output_to(1):\n",
        "  print(\"2/2 Me too is permanent\")"
      ],
      "metadata": {
        "id": "ewXxh4vPtrWs"
      },
      "execution_count": null,
      "outputs": []
    },
    {
      "cell_type": "code",
      "source": [
        "from google.colab import data_table\n",
        "from vega_datasets import data\n",
        "\n",
        "data_table.enable_dataframe_formatter()\n",
        "\n",
        "data.airports()\n",
        "\n",
        "# --\n",
        "\n",
        "# from google.colab import data_table\n",
        "data_table.DataTable(data.airports(), include_index=False, num_rows_per_page=10)"
      ],
      "metadata": {
        "id": "dcZdqiBwyyrj"
      },
      "execution_count": null,
      "outputs": []
    },
    {
      "cell_type": "code",
      "source": [
        "!pip install tqdm\n",
        "!pip install time\n",
        "from tqdm import tqdm\n",
        "#import time\n",
        "for i in tqdm(range(20), desc = 'tqdm() Progress Bar'):\n",
        "    time.sleep(0.5)"
      ],
      "metadata": {
        "colab": {
          "base_uri": "https://localhost:8080/"
        },
        "id": "3OoiaqZh9D91",
        "outputId": "0f1efc10-3da9-42cf-f34f-6b90ad53f1b6"
      },
      "execution_count": null,
      "outputs": [
        {
          "output_type": "stream",
          "name": "stdout",
          "text": [
            "Looking in indexes: https://pypi.org/simple, https://us-python.pkg.dev/colab-wheels/public/simple/\n",
            "Requirement already satisfied: tqdm in /usr/local/lib/python3.9/dist-packages (4.65.0)\n",
            "Looking in indexes: https://pypi.org/simple, https://us-python.pkg.dev/colab-wheels/public/simple/\n",
            "\u001b[31mERROR: Could not find a version that satisfies the requirement time (from versions: none)\u001b[0m\u001b[31m\n",
            "\u001b[0m\u001b[31mERROR: No matching distribution found for time\u001b[0m\u001b[31m\n",
            "\u001b[0m"
          ]
        },
        {
          "output_type": "stream",
          "name": "stderr",
          "text": [
            "tqdm() Progress Bar: 100%|██████████| 20/20 [00:10<00:00,  1.99it/s]\n"
          ]
        }
      ]
    },
    {
      "cell_type": "code",
      "source": [
        "# ? import ipywidgets\n",
        "# ? from IPython.display import display, clear_output\n"
      ],
      "metadata": {
        "id": "gRPiNS_FFex4"
      },
      "execution_count": null,
      "outputs": []
    },
    {
      "cell_type": "markdown",
      "source": [
        "# TO TEST"
      ],
      "metadata": {
        "id": "yzDlQRtXrwDi"
      }
    },
    {
      "cell_type": "code",
      "source": [
        "# 13. Stop Google Colab From Disconnecting\n",
        "# Open browser console F12 on Firefox or Ctrl+Shift+I and write down the following JavaScript code:\n",
        "\n",
        "# function KeepClicking(){\n",
        "#      console.log(\"Clicking\");\n",
        "#    document.querySelector(\"colab-toolbar-button#connect\").click()\n",
        "# }setInterval(KeepClicking,60000)"
      ],
      "metadata": {
        "id": "zG688RWGr9RL"
      },
      "execution_count": null,
      "outputs": []
    },
    {
      "cell_type": "code",
      "source": [],
      "metadata": {
        "id": "5ccNR-l_ry0Q"
      },
      "execution_count": null,
      "outputs": []
    }
  ]
}