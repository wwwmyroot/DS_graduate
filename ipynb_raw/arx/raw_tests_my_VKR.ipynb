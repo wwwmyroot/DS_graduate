{
  "nbformat": 4,
  "nbformat_minor": 0,
  "metadata": {
    "colab": {
      "provenance": []
    },
    "kernelspec": {
      "name": "python3",
      "display_name": "Python 3"
    },
    "language_info": {
      "name": "python"
    },
    "gpuClass": "standard"
  },
  "cells": [
    {
      "cell_type": "code",
      "execution_count": null,
      "metadata": {
        "id": "YhHuQ-6Y7Ht8"
      },
      "outputs": [],
      "source": [
        "# Тестовые оформительские блоки\n",
        "# -------------------------\n",
        "# вывод таблиц Tutorial: Formatted Output in Python\n",
        "# https://www.youtube.com/watch?v=fsBslGyCeYI\n",
        "# https://www.youtube.com/watch?v=Mfmr_Puhtew\n",
        "# "
      ]
    },
    {
      "cell_type": "code",
      "source": [
        "std_lst = [['RNo', 'Name', 'Age', 'Code', 'Misc'],\n",
        "           ['0', 'Alex', '24', '5674-GG', '&^&^==='],\n",
        "           ['1', 'Tonny', '37', '74-RRG', 'zoi v<szf'],\n",
        "           ['2', 'Lisa', '22', '7775-DE', 'u7u7udk VH'],\n",
        "           ['3', 'Ann', '14', '74-33-54-G', '7U7uu'],]\n",
        "\n",
        "gap=' | '\n",
        "\n",
        "heading=f\"{gap}{'RNo':3s}{gap}{'Name':20s}{gap}{'Age':4s}{gap}{'Code':20s}{gap}{'Misc':20s}{gap}\"\n",
        "\n",
        "print(\"=\"*84)\n",
        "print(heading)\n",
        "print(\"-\"*84)\n",
        "\n",
        "for data in std_lst[1:]:\n",
        "  rec = f\"{gap}{data[0]:3s}{gap}{data[1]:20s}{gap}{data[2]:4s}{gap}{data[3]:20s}{gap}{data[4]:20s}{gap}\"\n",
        "  print(rec)\n",
        "print(\"-\"*84)"
      ],
      "metadata": {
        "id": "ku-goy7sBvln"
      },
      "execution_count": null,
      "outputs": []
    },
    {
      "cell_type": "code",
      "source": [
        "# Визуальный описательный анализ данных\n",
        "# https://github.com/tudev/Workshops-2020-2021/tree/master/Google%20Colab%20Tutorials\n",
        "# https://www.youtube.com/watch?v=1d8-KUIC7wQ\n"
      ],
      "metadata": {
        "id": "v-kz04-KP-4G"
      },
      "execution_count": null,
      "outputs": []
    },
    {
      "cell_type": "code",
      "source": [
        "# https://www.youtube.com/watch?v=UFtKj5k2Sis&list=PL_lHtZQj-g8PUSRi3NAAX1YbbiEazGFBa&index=7\n",
        "# prevent from disconnecting\n",
        "\n",
        "import IPython\n",
        "from google.colab import output\n",
        "\n",
        "display(IPython.display.Javascript('''\n",
        "function ClickConnect(){\n",
        "  btn = document.querySelector(\"colab-connect-button\")\n",
        "  if (btn !=null) {\n",
        "    console.log(\"Click colab-connect-button\");\n",
        "    btn.click()\n",
        "    }  \n",
        "  btn = getElementByID('ok')\n",
        "  if (btn !=null) {\n",
        "    console.log(\"Click reconnect\");\n",
        "    btn.click()\n",
        "    }\n",
        " }\n",
        "\n",
        "setInterval(ClickConnect,60000)\n",
        "'''))"
      ],
      "metadata": {
        "id": "GW9cIUdq-nNK"
      },
      "execution_count": null,
      "outputs": []
    },
    {
      "cell_type": "code",
      "source": [
        "# colab connection details\n",
        "from psutil import *\n",
        "\n",
        "# how much CPU\n",
        "cpu_count()\n",
        "\n",
        "# CPU model and speed\n",
        "!lscpu | grep 'Model name'\n",
        "\n",
        "# Usable HDD space\n",
        "!df -h / | awk '{print $4}'\n",
        "\n",
        "# Usable memory\n",
        "!free -h --si | awk '/Mem:/{print $2}'\n",
        "\n",
        "# GPU Type\n",
        "!nvidia-smi -L\n",
        "\n",
        "#GPU specs\n",
        "!nvidia-smi\n",
        "\n",
        "\n"
      ],
      "metadata": {
        "id": "idhTwtQKBi5E"
      },
      "execution_count": null,
      "outputs": []
    }
  ]
}
