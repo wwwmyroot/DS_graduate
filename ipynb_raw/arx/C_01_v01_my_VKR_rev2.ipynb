{
  "cells": [
    {
      "cell_type": "markdown",
      "id": "e982e475",
      "metadata": {
        "id": "e982e475"
      },
      "source": [
        "## _ 01. Импорт библиотек."
      ]
    },
    {
      "cell_type": "code",
      "execution_count": null,
      "id": "6193d13d",
      "metadata": {
        "id": "6193d13d"
      },
      "outputs": [],
      "source": [
        "import numpy as np                                      \n",
        "import pandas as pd                                     \n",
        "import matplotlib.pyplot as plt                        \n",
        "import seaborn as sns                                   \n",
        "                \n",
        "\n",
        "from pandas import DataFrame                           \n",
        "\n",
        "from sklearn.preprocessing import LabelEncoder          \n",
        "from sklearn.preprocessing import MinMaxScaler, RobustScaler, StandardScaler, PowerTransformer, Normalizer    \n",
        "from sklearn.model_selection import train_test_split    \n",
        "from sklearn.metrics import r2_score, mean_absolute_error, mean_squared_error, mean_absolute_percentage_error \n",
        "\n",
        "from sklearn.neighbors import KNeighborsRegressor       \n",
        "from sklearn.svm import SVR                             \n",
        "from sklearn.linear_model import LinearRegression       \n",
        "from sklearn.tree import DecisionTreeRegressor          \n",
        "from sklearn.ensemble import AdaBoostRegressor          \n",
        "from sklearn.ensemble import GradientBoostingRegressor  \n",
        "from xgboost import XGBRegressor                        \n",
        "from sklearn.ensemble import RandomForestRegressor      \n",
        "from sklearn.linear_model import SGDRegressor           \n",
        "from sklearn.linear_model import Lasso                  \n",
        "\n",
        "from scipy import stats                                 \n",
        "from scipy.stats import shapiro                         \n",
        "\n",
        "from sklearn.pipeline import make_pipeline              \n",
        "from sklearn.model_selection import GridSearchCV       \n",
        "\n",
        "import tensorflow.keras as keras                        \n",
        "from keras.models import Sequential\n",
        "from keras.layers import Dense, Flatten, Input, Dropout\n",
        "from tensorflow.keras import utils\n",
        "from tensorflow.keras.optimizers import Adam, SGD, RMSprop, Adagrad\n",
        "# -- my -- no import -- Error\n",
        "from tensorflow import keras\n",
        "try:\n",
        "    import scikeras\n",
        "except ImportError:\n",
        "    !python -m pip install scikeras\n",
        "from scikeras.wrappers import KerasClassifier, KerasRegressor\n",
        "\n",
        "from joblib import dump, load                           \n",
        "from tensorflow.keras.models import load_model          \n",
        "\n",
        "import warnings                                         \n",
        "warnings.filterwarnings(\"default\", category=FutureWarning)\n",
        "warnings.simplefilter(action='ignore', category=FutureWarning)\n",
        "\n",
        "import flask                                            \n",
        "from flask import Flask, request, render_template\n",
        "\n",
        "%matplotlib inline  "
      ]
    },
    {
      "cell_type": "code",
      "execution_count": null,
      "id": "a35a3560",
      "metadata": {
        "id": "a35a3560"
      },
      "outputs": [],
      "source": [
        "!pip install xgboost"
      ]
    },
    {
      "cell_type": "code",
      "execution_count": null,
      "id": "80591337",
      "metadata": {
        "id": "80591337"
      },
      "outputs": [],
      "source": [
        "pip install scikeras[tensorflow]"
      ]
    },
    {
      "cell_type": "markdown",
      "id": "f19fa5c6",
      "metadata": {
        "id": "f19fa5c6"
      },
      "source": [
        "## _ 02. Загрузка и обработка исходных датасетов."
      ]
    },
    {
      "cell_type": "code",
      "source": [
        "!rm -r /content/sample_data\n",
        "# TODO: Сделать загрузку по ссылке, а не вручную."
      ],
      "metadata": {
        "id": "BTfEpr69tBSP"
      },
      "id": "BTfEpr69tBSP",
      "execution_count": null,
      "outputs": []
    },
    {
      "cell_type": "code",
      "execution_count": null,
      "id": "d78cd6c4",
      "metadata": {
        "id": "d78cd6c4"
      },
      "outputs": [],
      "source": [
        "dataset_bp = pd.read_excel('/content/X_bp.xlsx')\n",
        "dataset_bp.head()"
      ]
    },
    {
      "cell_type": "code",
      "execution_count": null,
      "id": "bba240f9",
      "metadata": {
        "id": "bba240f9"
      },
      "outputs": [],
      "source": [
        "dataset_bp.shape"
      ]
    },
    {
      "cell_type": "code",
      "execution_count": null,
      "id": "6c12bdc2",
      "metadata": {
        "id": "6c12bdc2"
      },
      "outputs": [],
      "source": [
        "dataset_bp.tail()"
      ]
    },
    {
      "cell_type": "code",
      "execution_count": null,
      "id": "73b9a819",
      "metadata": {
        "id": "73b9a819"
      },
      "outputs": [],
      "source": [
        "# 1\n",
        "dataset_bp = pd.read_excel('/content/X_bp.xlsx', index_col=0)\n",
        "dataset_bp.head()"
      ]
    },
    {
      "cell_type": "code",
      "execution_count": null,
      "id": "2bd66de6",
      "metadata": {
        "id": "2bd66de6"
      },
      "outputs": [],
      "source": [
        "dataset_bp.shape"
      ]
    },
    {
      "cell_type": "code",
      "execution_count": null,
      "id": "772e6e02",
      "metadata": {
        "id": "772e6e02"
      },
      "outputs": [],
      "source": [
        "# TODO: Сделать загрузку по ссылке, а не вручную.\n",
        "dataset_nup = pd.read_excel('/content/X_nup.xlsx')\n",
        "dataset_nup.head()"
      ]
    },
    {
      "cell_type": "code",
      "execution_count": null,
      "id": "63daf1d7",
      "metadata": {
        "id": "63daf1d7"
      },
      "outputs": [],
      "source": [
        "dataset_nup.shape"
      ]
    },
    {
      "cell_type": "code",
      "execution_count": null,
      "id": "c3cfe210",
      "metadata": {
        "id": "c3cfe210"
      },
      "outputs": [],
      "source": [
        "# 2\n",
        "dataset_nup.drop(['Unnamed: 0'], axis=1, inplace=True)\n",
        "dataset_nup.head()"
      ]
    },
    {
      "cell_type": "code",
      "execution_count": null,
      "id": "450a8a60",
      "metadata": {
        "id": "450a8a60"
      },
      "outputs": [],
      "source": [
        "dataset_nup.shape"
      ]
    },
    {
      "cell_type": "code",
      "execution_count": null,
      "id": "1672399b",
      "metadata": {
        "id": "1672399b"
      },
      "outputs": [],
      "source": [
        "# inner join\n",
        "dataset = pd.merge(dataset_bp, dataset_nup, \n",
        "                   left_index=True, \n",
        "                   right_index=True, \n",
        "                   how = \"inner\")\n",
        "dataset.head()"
      ]
    },
    {
      "cell_type": "code",
      "execution_count": null,
      "id": "cf8a4941",
      "metadata": {
        "id": "cf8a4941"
      },
      "outputs": [],
      "source": [
        "dataset.shape"
      ]
    },
    {
      "cell_type": "code",
      "execution_count": null,
      "id": "fb424004",
      "metadata": {
        "id": "fb424004"
      },
      "outputs": [],
      "source": [
        "dataset.to_excel('/content/X_full.xlsx')"
      ]
    },
    {
      "cell_type": "code",
      "execution_count": null,
      "id": "69f62e1d",
      "metadata": {
        "id": "69f62e1d"
      },
      "outputs": [],
      "source": [
        "df = dataset.copy()"
      ]
    },
    {
      "cell_type": "markdown",
      "id": "a42de771",
      "metadata": {
        "id": "a42de771"
      },
      "source": [
        "## _ 03. Разведочный анализ данных."
      ]
    },
    {
      "cell_type": "code",
      "execution_count": null,
      "id": "acade91b",
      "metadata": {
        "id": "acade91b"
      },
      "outputs": [],
      "source": [
        "df"
      ]
    },
    {
      "cell_type": "code",
      "execution_count": null,
      "id": "e2b53abd",
      "metadata": {
        "id": "e2b53abd"
      },
      "outputs": [],
      "source": [
        "df.info()"
      ]
    },
    {
      "cell_type": "code",
      "execution_count": null,
      "id": "075b2628",
      "metadata": {
        "id": "075b2628"
      },
      "outputs": [],
      "source": [
        "df.isna().sum()"
      ]
    },
    {
      "cell_type": "code",
      "execution_count": null,
      "id": "0becfd84",
      "metadata": {
        "id": "0becfd84"
      },
      "outputs": [],
      "source": [
        "df.nunique()"
      ]
    },
    {
      "cell_type": "code",
      "execution_count": null,
      "id": "6ddd0306",
      "metadata": {
        "id": "6ddd0306"
      },
      "outputs": [],
      "source": [
        "df['Угол нашивки, град'].value_counts()"
      ]
    },
    {
      "cell_type": "code",
      "execution_count": null,
      "id": "a4b3e986",
      "metadata": {
        "id": "a4b3e986"
      },
      "outputs": [],
      "source": [
        "df['Угол нашивки, град'] = df['Угол нашивки, град'].map({0.0:0, 90.0:1}).astype(int)"
      ]
    },
    {
      "cell_type": "code",
      "execution_count": null,
      "id": "7b39a1c3",
      "metadata": {
        "scrolled": false,
        "id": "7b39a1c3"
      },
      "outputs": [],
      "source": [
        "df = df.rename(columns={'Угол нашивки, град': 'Угол нашивки'})\n",
        "df"
      ]
    },
    {
      "cell_type": "code",
      "execution_count": null,
      "id": "a1b6e15b",
      "metadata": {
        "id": "a1b6e15b"
      },
      "outputs": [],
      "source": [
        "column_names = df.columns\n",
        "column_names"
      ]
    },
    {
      "cell_type": "code",
      "execution_count": null,
      "id": "f2a4ec7c",
      "metadata": {
        "id": "f2a4ec7c"
      },
      "outputs": [],
      "source": [
        "df.describe()"
      ]
    },
    {
      "cell_type": "code",
      "execution_count": null,
      "id": "6fc368c0",
      "metadata": {
        "id": "6fc368c0"
      },
      "outputs": [],
      "source": [
        "mean_median = pd.DataFrame({'Среднее': df.mean(axis=0),\n",
        "                            'Медиана': df.median(axis=0),\n",
        "                            'Разница м/у средним и медианой': df.mean(axis=0) - df.median(axis=0)})\n",
        "mean_median"
      ]
    },
    {
      "cell_type": "code",
      "execution_count": null,
      "id": "c221bc92",
      "metadata": {
        "id": "c221bc92"
      },
      "outputs": [],
      "source": [
        "# 1. \n",
        "df.corr(method = 'pearson')"
      ]
    },
    {
      "cell_type": "markdown",
      "id": "74e8a1bc",
      "metadata": {
        "id": "74e8a1bc"
      },
      "source": [
        "Вывод: Коэффициент корреляции Пирсона. Cущественная зависимость между пременными отсутствует."
      ]
    },
    {
      "cell_type": "code",
      "execution_count": null,
      "id": "a7fb79a8",
      "metadata": {
        "id": "a7fb79a8"
      },
      "outputs": [],
      "source": [
        "# 2. \n",
        "df.corr(method = 'spearman')"
      ]
    },
    {
      "cell_type": "markdown",
      "id": "664f3a7b",
      "metadata": {
        "id": "664f3a7b"
      },
      "source": [
        "Вывод: Корреляция Спирмена. Зависимость между переменными не наблюдается."
      ]
    },
    {
      "cell_type": "code",
      "execution_count": null,
      "id": "9689dead",
      "metadata": {
        "id": "9689dead"
      },
      "outputs": [],
      "source": [
        "# 3.\n",
        "df.corr(method = 'kendall')"
      ]
    },
    {
      "cell_type": "markdown",
      "id": "dfdba58e",
      "metadata": {
        "id": "dfdba58e"
      },
      "source": [
        "Вывод: Коэффициент корреляции Кендалла. Статистическая зависимость между пременными отсутствует."
      ]
    },
    {
      "cell_type": "code",
      "execution_count": null,
      "id": "14b2522a",
      "metadata": {
        "id": "14b2522a"
      },
      "outputs": [],
      "source": [
        "# viz 1.\n",
        "df.hist(figsize = (15,15), color = 'darkmagenta')\n",
        "plt.suptitle('Гистограммы распределения', fontsize=20,  y=0.95)\n",
        "plt.show()"
      ]
    },
    {
      "cell_type": "code",
      "execution_count": null,
      "id": "fc56331f",
      "metadata": {
        "id": "fc56331f"
      },
      "outputs": [],
      "source": [
        "# viz 2. \n",
        "n_subplots = len(df.columns)                        \n",
        "n_cols = 3                                          \n",
        "n_rows = (n_subplots + n_cols - 1) // n_cols        \n",
        "\n",
        "plt.figure(figsize=(15,20))\n",
        "plt.suptitle('Гистограммы и графики плотности', fontsize=20,  y=0.92)\n",
        "for i, col in enumerate(df.columns, 1):\n",
        "    plt.subplot(n_rows, n_cols, i)\n",
        "    sns.histplot(df[col], kde=True, color='darkmagenta') \n",
        "    plt.ylabel(\"\")\n",
        "plt.show()"
      ]
    },
    {
      "cell_type": "code",
      "execution_count": null,
      "id": "a40e3da0",
      "metadata": {
        "scrolled": false,
        "id": "a40e3da0"
      },
      "outputs": [],
      "source": [
        "# viz 3.\n",
        "n_subplots = len(df.columns)                        \n",
        "n_cols = 4                                          \n",
        "n_rows = (n_subplots + n_cols - 1) // n_cols        \n",
        "\n",
        "plt.figure(figsize=(20,25))\n",
        "plt.suptitle('Диаграммы \"ящик с усами\"', fontsize=20,  y=0.92)\n",
        "for i, col in enumerate(df.columns, 1):\n",
        "    plt.subplot(n_rows, n_cols, i)\n",
        "    sns.boxplot(data=df[col], color='mediumorchid') \n",
        "    plt.title(df[col].name, size=12)\n",
        "plt.show()"
      ]
    },
    {
      "cell_type": "code",
      "execution_count": null,
      "id": "50f0587a",
      "metadata": {
        "id": "50f0587a"
      },
      "outputs": [],
      "source": [
        "# viz 4. \n",
        "plt.figure(figsize=(20,20))\n",
        "sns.set(style='white', palette='RdPu_r')\n",
        "sns.pairplot(df)\n",
        "plt.show()"
      ]
    },
    {
      "cell_type": "code",
      "execution_count": null,
      "id": "4dccf3c5",
      "metadata": {
        "id": "4dccf3c5"
      },
      "outputs": [],
      "source": [
        "# viz 5.\n",
        "plt.figure(figsize=(20,20))\n",
        "sns.set(style='white', palette='RdPu_r')\n",
        "sns.pairplot(df, hue='Угол нашивки')\n",
        "plt.show()"
      ]
    },
    {
      "cell_type": "code",
      "execution_count": null,
      "id": "e2dc494f",
      "metadata": {
        "id": "e2dc494f"
      },
      "outputs": [],
      "source": [
        "# viz 6. \n",
        "plt.figure(figsize=(20,20))\n",
        "sns.set(style='white', palette='RdPu_r')\n",
        "\n",
        "g = sns.PairGrid(df)\n",
        "g.map_upper(plt.scatter)                   \n",
        "g.map_diag(sns.histplot, kde=True)         \n",
        "g.map_lower(sns.kdeplot)                   \n",
        "plt.show()"
      ]
    },
    {
      "cell_type": "code",
      "execution_count": null,
      "id": "d594b52f",
      "metadata": {
        "id": "d594b52f"
      },
      "outputs": [],
      "source": [
        "# viz 7. \n",
        "f, ax = plt.subplots(figsize=(12,10))\n",
        "sns.heatmap(df.corr(), annot=True, ax=ax, square = True, cmap='RdPu')\n",
        "plt.show()"
      ]
    },
    {
      "cell_type": "markdown",
      "id": "f74b5839",
      "metadata": {
        "id": "f74b5839"
      },
      "source": [
        "### _ 04.1. Работа с выбросами."
      ]
    },
    {
      "cell_type": "markdown",
      "id": "362f015c",
      "metadata": {
        "id": "362f015c"
      },
      "source": [
        "TODO m1"
      ]
    },
    {
      "cell_type": "markdown",
      "id": "0eec8b50",
      "metadata": {
        "id": "0eec8b50"
      },
      "source": [
        "-----------------------------------------------------------------------------------------------------------------"
      ]
    },
    {
      "cell_type": "markdown",
      "source": [],
      "metadata": {
        "id": "sx2p3otHv064"
      },
      "id": "sx2p3otHv064"
    },
    {
      "cell_type": "markdown",
      "id": "3f5f4897",
      "metadata": {
        "id": "3f5f4897"
      },
      "source": [
        "TODO m2"
      ]
    },
    {
      "cell_type": "markdown",
      "id": "a7024ad7",
      "metadata": {
        "id": "a7024ad7"
      },
      "source": [
        "todo Itogo."
      ]
    },
    {
      "cell_type": "markdown",
      "id": "0bb450a5",
      "metadata": {
        "id": "0bb450a5"
      },
      "source": [
        "Вывод: выбросы из данных удалены после трех этапов очистки."
      ]
    },
    {
      "cell_type": "markdown",
      "id": "4f238902",
      "metadata": {
        "id": "4f238902"
      },
      "source": [
        "### _ 04.2. Нормализация и стандартизация данных."
      ]
    },
    {
      "cell_type": "markdown",
      "id": "d60d60a8",
      "metadata": {
        "id": "d60d60a8"
      },
      "source": [
        "Проверку на нормальность можно проводить несколькими способами:\n",
        "\n",
        "* построение гистограммы признака\n",
        "* построение QQ-графика\n",
        "* проведение теста на нормальность"
      ]
    },
    {
      "cell_type": "markdown",
      "id": "e33b4ba5",
      "metadata": {
        "id": "e33b4ba5"
      },
      "source": [
        "#### _ 04.2.1. Проверка на нормальность."
      ]
    },
    {
      "cell_type": "markdown",
      "id": "af5ede12",
      "metadata": {
        "id": "af5ede12"
      },
      "source": [
        "#### _ 04.2.2. Нормализация данных."
      ]
    },
    {
      "cell_type": "markdown",
      "id": "7a118281",
      "metadata": {
        "id": "7a118281"
      },
      "source": [
        "##### _04.2.2.1. MinMaxScaler.\n",
        "\n"
      ]
    },
    {
      "cell_type": "markdown",
      "id": "ad76b92b",
      "metadata": {
        "id": "ad76b92b"
      },
      "source": [
        "##### _ 04.2.2.2. RobustScaler."
      ]
    },
    {
      "cell_type": "markdown",
      "id": "738cf7b7",
      "metadata": {
        "id": "738cf7b7"
      },
      "source": [
        "#### _ 04.2.3. Стандартизация данных."
      ]
    },
    {
      "cell_type": "markdown",
      "id": "4266ed23",
      "metadata": {
        "id": "4266ed23"
      },
      "source": [
        "##### _ 04.2.3.2. StandardScaler. "
      ]
    },
    {
      "cell_type": "markdown",
      "id": "d8a49978",
      "metadata": {
        "id": "d8a49978"
      },
      "source": [
        "##### _ 04.2.3.3. Normalizer."
      ]
    },
    {
      "cell_type": "markdown",
      "id": "caca00f3",
      "metadata": {
        "id": "caca00f3"
      },
      "source": [
        "Все значения теперь находятся в диапазоне от 0 до 1."
      ]
    },
    {
      "cell_type": "markdown",
      "id": "a031a75c",
      "metadata": {
        "id": "a031a75c"
      },
      "source": [
        "##### _ 04.2.3.4. PowerTransformer."
      ]
    },
    {
      "cell_type": "code",
      "execution_count": null,
      "id": "ffb8f5ac",
      "metadata": {
        "id": "ffb8f5ac"
      },
      "outputs": [],
      "source": [
        "# 1.5. Преобразование Йео-Джонсона из метода PowerTransformer()\n",
        "yeo = PowerTransformer(method='yeo-johnson', standardize=True)                          \n",
        "dataset_norm_yeo = yeo.fit_transform(np.array(df_clean[df_clean.columns]))              \n",
        "df_norm_yeo = pd.DataFrame(data = dataset_norm_yeo, columns = df_clean.columns)         \n",
        "df_norm_yeo.describe()                                                                  "
      ]
    },
    {
      "cell_type": "code",
      "execution_count": null,
      "id": "ae72b02c",
      "metadata": {
        "id": "ae72b02c"
      },
      "outputs": [],
      "source": [
        "plt.figure(figsize=(15,12))\n",
        "sns.set(context='notebook', style='whitegrid')\n",
        "sns.kdeplot(data=df_norm_yeo)\n",
        "plt.show()"
      ]
    },
    {
      "cell_type": "markdown",
      "id": "62539d07",
      "metadata": {
        "id": "62539d07"
      },
      "source": [
        "#### _04.2.4. Проверка на нормальность после нормализации."
      ]
    },
    {
      "cell_type": "code",
      "execution_count": null,
      "id": "7902b0d7",
      "metadata": {
        "id": "7902b0d7"
      },
      "outputs": [],
      "source": [
        "# 1. Тест Шапиро-Уилка на нормальность\n",
        "for col in df_norm_minmax.columns:\n",
        "    print(df_norm_minmax[col].name, shapiro(df_norm_minmax[col]))"
      ]
    },
    {
      "cell_type": "code",
      "execution_count": null,
      "id": "18edfc32",
      "metadata": {
        "id": "18edfc32"
      },
      "outputs": [],
      "source": [
        "# 2. Гистограммы расределения после нормализации\n",
        "df_norm_minmax.hist(figsize = (15,15), color = 'mediumorchid')\n",
        "plt.suptitle('Гистограммы после нормализации', fontsize=20,  y=0.95)\n",
        "plt.show()"
      ]
    },
    {
      "cell_type": "code",
      "execution_count": null,
      "id": "e50ce9b4",
      "metadata": {
        "id": "e50ce9b4"
      },
      "outputs": [],
      "source": [
        "# 3. QQ-графики после нормализации\n",
        "n_subplots = len(df_norm_minmax.columns)                  \n",
        "n_cols = 4                                                \n",
        "n_rows = (n_subplots + n_cols - 1) // n_cols              \n",
        "\n",
        "plt.figure(figsize=(20,25))\n",
        "plt.suptitle('Распределение после нормализации', fontsize=20,  y=0.92)\n",
        "for i, col in enumerate(df_norm_minmax.columns, 1):\n",
        "    plt.subplot(n_rows, n_cols, i)\n",
        "    stats.probplot(df_norm_minmax[col], dist='norm', plot=plt)\n",
        "    plt.title(df_norm_minmax[col].name, size=12)\n",
        "plt.show()"
      ]
    },
    {
      "cell_type": "markdown",
      "id": "3958120e",
      "metadata": {
        "id": "3958120e"
      },
      "source": [
        "TODO  выводы"
      ]
    },
    {
      "cell_type": "markdown",
      "id": "d59341d4",
      "metadata": {
        "id": "d59341d4"
      },
      "source": [
        "## _ 05.  Модели для прогноза модуля упругости при растяжении и прочности при растяжении."
      ]
    },
    {
      "cell_type": "markdown",
      "id": "8db43e7a",
      "metadata": {
        "id": "8db43e7a"
      },
      "source": [
        "В случае прогнозирования модуля упругости при растяжении и прочности при растяжении будет решаться задача регрессии. Задача регрессии – это задача обучения с учителем."
      ]
    },
    {
      "cell_type": "markdown",
      "id": "db09918a",
      "metadata": {
        "id": "db09918a"
      },
      "source": [
        "### _ 05.1. Прогнозирование модуля упругости."
      ]
    },
    {
      "cell_type": "code",
      "execution_count": null,
      "id": "41f504f0",
      "metadata": {
        "id": "41f504f0"
      },
      "outputs": [],
      "source": [
        "print('Размер тренировочного датасета: {}\\nРазмер тестового датасета:{}'.format(X_train_elastic.shape, X_test_elastic.shape))"
      ]
    },
    {
      "cell_type": "code",
      "execution_count": null,
      "id": "ccac07d4",
      "metadata": {
        "id": "ccac07d4"
      },
      "outputs": [],
      "source": [
        "X_train_elastic"
      ]
    },
    {
      "cell_type": "code",
      "execution_count": null,
      "id": "b265a146",
      "metadata": {
        "id": "b265a146"
      },
      "outputs": [],
      "source": [
        "y_train_elastic"
      ]
    },
    {
      "cell_type": "markdown",
      "id": "6b33f2ba",
      "metadata": {
        "id": "6b33f2ba"
      },
      "source": [
        "TODO  выводы "
      ]
    },
    {
      "cell_type": "markdown",
      "id": "a91fe875",
      "metadata": {
        "id": "a91fe875"
      },
      "source": [
        "### _05.2. Прогнозирование прочности при растяжении."
      ]
    },
    {
      "cell_type": "markdown",
      "id": "8b31159c",
      "metadata": {
        "id": "8b31159c"
      },
      "source": [
        "TODO  выводы"
      ]
    },
    {
      "cell_type": "markdown",
      "id": "f3a55e2f",
      "metadata": {
        "id": "f3a55e2f"
      },
      "source": [
        "## _06. Нейронная сеть для рекомендации соотношения \"матрица - наполнитель\"."
      ]
    },
    {
      "cell_type": "markdown",
      "id": "21f40406",
      "metadata": {
        "id": "21f40406"
      },
      "source": [
        "## _07. Разработка приложения для прогнозирования соотношения \"матрица-наполнитель\""
      ]
    },
    {
      "cell_type": "markdown",
      "id": "ee60ce78",
      "metadata": {
        "id": "ee60ce78"
      },
      "source": [
        "## _08. Выводы:"
      ]
    }
  ],
  "metadata": {
    "kernelspec": {
      "display_name": "Python 3 (ipykernel)",
      "language": "python",
      "name": "python3"
    },
    "language_info": {
      "codemirror_mode": {
        "name": "ipython",
        "version": 3
      },
      "file_extension": ".py",
      "mimetype": "text/x-python",
      "name": "python",
      "nbconvert_exporter": "python",
      "pygments_lexer": "ipython3",
      "version": "3.9.13"
    },
    "colab": {
      "provenance": [],
      "collapsed_sections": [
        "e982e475",
        "f19fa5c6",
        "4f238902",
        "a031a75c",
        "62539d07",
        "d59341d4",
        "db09918a",
        "a91fe875"
      ],
      "toc_visible": true
    },
    "accelerator": "GPU",
    "gpuClass": "standard"
  },
  "nbformat": 4,
  "nbformat_minor": 5
}